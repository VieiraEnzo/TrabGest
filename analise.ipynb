{
 "cells": [
  {
   "cell_type": "markdown",
   "id": "9df51869",
   "metadata": {},
   "source": [
    "## Análise Gestão"
   ]
  },
  {
   "cell_type": "code",
   "execution_count": 1,
   "id": "e9ec02fe",
   "metadata": {},
   "outputs": [],
   "source": [
    "from sklearn import datasets\n",
    "\n",
    "iris = datasets.load_iris()"
   ]
  },
  {
   "cell_type": "code",
   "execution_count": 2,
   "id": "f13890b3",
   "metadata": {},
   "outputs": [],
   "source": [
    "import os\n",
    "import pandas as pd\n",
    "\n",
    "HOME = os.getcwd()\n",
    "\n",
    "iris = pd.read_csv(f'{HOME}/data/iris.csv')"
   ]
  },
  {
   "cell_type": "code",
   "execution_count": 3,
   "id": "52cd4f03",
   "metadata": {},
   "outputs": [
    {
     "data": {
      "text/html": [
       "<div>\n",
       "<style scoped>\n",
       "    .dataframe tbody tr th:only-of-type {\n",
       "        vertical-align: middle;\n",
       "    }\n",
       "\n",
       "    .dataframe tbody tr th {\n",
       "        vertical-align: top;\n",
       "    }\n",
       "\n",
       "    .dataframe thead th {\n",
       "        text-align: right;\n",
       "    }\n",
       "</style>\n",
       "<table border=\"1\" class=\"dataframe\">\n",
       "  <thead>\n",
       "    <tr style=\"text-align: right;\">\n",
       "      <th></th>\n",
       "      <th>Id</th>\n",
       "      <th>SepalLengthCm</th>\n",
       "      <th>SepalWidthCm</th>\n",
       "      <th>PetalLengthCm</th>\n",
       "      <th>PetalWidthCm</th>\n",
       "      <th>Species</th>\n",
       "    </tr>\n",
       "  </thead>\n",
       "  <tbody>\n",
       "    <tr>\n",
       "      <th>0</th>\n",
       "      <td>1</td>\n",
       "      <td>5.1</td>\n",
       "      <td>3.5</td>\n",
       "      <td>1.4</td>\n",
       "      <td>0.2</td>\n",
       "      <td>Iris-setosa</td>\n",
       "    </tr>\n",
       "    <tr>\n",
       "      <th>1</th>\n",
       "      <td>2</td>\n",
       "      <td>4.9</td>\n",
       "      <td>3.0</td>\n",
       "      <td>1.4</td>\n",
       "      <td>0.2</td>\n",
       "      <td>Iris-setosa</td>\n",
       "    </tr>\n",
       "    <tr>\n",
       "      <th>2</th>\n",
       "      <td>3</td>\n",
       "      <td>4.7</td>\n",
       "      <td>3.2</td>\n",
       "      <td>1.3</td>\n",
       "      <td>0.2</td>\n",
       "      <td>Iris-setosa</td>\n",
       "    </tr>\n",
       "    <tr>\n",
       "      <th>3</th>\n",
       "      <td>4</td>\n",
       "      <td>4.6</td>\n",
       "      <td>3.1</td>\n",
       "      <td>1.5</td>\n",
       "      <td>0.2</td>\n",
       "      <td>Iris-setosa</td>\n",
       "    </tr>\n",
       "    <tr>\n",
       "      <th>4</th>\n",
       "      <td>5</td>\n",
       "      <td>5.0</td>\n",
       "      <td>3.6</td>\n",
       "      <td>1.4</td>\n",
       "      <td>0.2</td>\n",
       "      <td>Iris-setosa</td>\n",
       "    </tr>\n",
       "    <tr>\n",
       "      <th>...</th>\n",
       "      <td>...</td>\n",
       "      <td>...</td>\n",
       "      <td>...</td>\n",
       "      <td>...</td>\n",
       "      <td>...</td>\n",
       "      <td>...</td>\n",
       "    </tr>\n",
       "    <tr>\n",
       "      <th>145</th>\n",
       "      <td>146</td>\n",
       "      <td>6.7</td>\n",
       "      <td>3.0</td>\n",
       "      <td>5.2</td>\n",
       "      <td>2.3</td>\n",
       "      <td>Iris-virginica</td>\n",
       "    </tr>\n",
       "    <tr>\n",
       "      <th>146</th>\n",
       "      <td>147</td>\n",
       "      <td>6.3</td>\n",
       "      <td>2.5</td>\n",
       "      <td>5.0</td>\n",
       "      <td>1.9</td>\n",
       "      <td>Iris-virginica</td>\n",
       "    </tr>\n",
       "    <tr>\n",
       "      <th>147</th>\n",
       "      <td>148</td>\n",
       "      <td>6.5</td>\n",
       "      <td>3.0</td>\n",
       "      <td>5.2</td>\n",
       "      <td>2.0</td>\n",
       "      <td>Iris-virginica</td>\n",
       "    </tr>\n",
       "    <tr>\n",
       "      <th>148</th>\n",
       "      <td>149</td>\n",
       "      <td>6.2</td>\n",
       "      <td>3.4</td>\n",
       "      <td>5.4</td>\n",
       "      <td>2.3</td>\n",
       "      <td>Iris-virginica</td>\n",
       "    </tr>\n",
       "    <tr>\n",
       "      <th>149</th>\n",
       "      <td>150</td>\n",
       "      <td>5.9</td>\n",
       "      <td>3.0</td>\n",
       "      <td>5.1</td>\n",
       "      <td>1.8</td>\n",
       "      <td>Iris-virginica</td>\n",
       "    </tr>\n",
       "  </tbody>\n",
       "</table>\n",
       "<p>150 rows × 6 columns</p>\n",
       "</div>"
      ],
      "text/plain": [
       "      Id  SepalLengthCm  SepalWidthCm  PetalLengthCm  PetalWidthCm  \\\n",
       "0      1            5.1           3.5            1.4           0.2   \n",
       "1      2            4.9           3.0            1.4           0.2   \n",
       "2      3            4.7           3.2            1.3           0.2   \n",
       "3      4            4.6           3.1            1.5           0.2   \n",
       "4      5            5.0           3.6            1.4           0.2   \n",
       "..   ...            ...           ...            ...           ...   \n",
       "145  146            6.7           3.0            5.2           2.3   \n",
       "146  147            6.3           2.5            5.0           1.9   \n",
       "147  148            6.5           3.0            5.2           2.0   \n",
       "148  149            6.2           3.4            5.4           2.3   \n",
       "149  150            5.9           3.0            5.1           1.8   \n",
       "\n",
       "            Species  \n",
       "0       Iris-setosa  \n",
       "1       Iris-setosa  \n",
       "2       Iris-setosa  \n",
       "3       Iris-setosa  \n",
       "4       Iris-setosa  \n",
       "..              ...  \n",
       "145  Iris-virginica  \n",
       "146  Iris-virginica  \n",
       "147  Iris-virginica  \n",
       "148  Iris-virginica  \n",
       "149  Iris-virginica  \n",
       "\n",
       "[150 rows x 6 columns]"
      ]
     },
     "execution_count": 3,
     "metadata": {},
     "output_type": "execute_result"
    }
   ],
   "source": [
    "iris"
   ]
  },
  {
   "cell_type": "code",
   "execution_count": 4,
   "id": "b42bd8fe",
   "metadata": {},
   "outputs": [
    {
     "data": {
      "text/html": [
       "<div>\n",
       "<style scoped>\n",
       "    .dataframe tbody tr th:only-of-type {\n",
       "        vertical-align: middle;\n",
       "    }\n",
       "\n",
       "    .dataframe tbody tr th {\n",
       "        vertical-align: top;\n",
       "    }\n",
       "\n",
       "    .dataframe thead th {\n",
       "        text-align: right;\n",
       "    }\n",
       "</style>\n",
       "<table border=\"1\" class=\"dataframe\">\n",
       "  <thead>\n",
       "    <tr style=\"text-align: right;\">\n",
       "      <th></th>\n",
       "      <th>k</th>\n",
       "      <th>label_ponto_1</th>\n",
       "      <th>label_ponto_2</th>\n",
       "      <th>label_ponto_3</th>\n",
       "      <th>label_ponto_4</th>\n",
       "      <th>label_ponto_5</th>\n",
       "      <th>label_ponto_6</th>\n",
       "      <th>label_ponto_7</th>\n",
       "      <th>label_ponto_8</th>\n",
       "      <th>label_ponto_9</th>\n",
       "      <th>...</th>\n",
       "      <th>label_ponto_143</th>\n",
       "      <th>label_ponto_144</th>\n",
       "      <th>label_ponto_145</th>\n",
       "      <th>label_ponto_146</th>\n",
       "      <th>label_ponto_147</th>\n",
       "      <th>label_ponto_148</th>\n",
       "      <th>label_ponto_149</th>\n",
       "      <th>label_ponto_150</th>\n",
       "      <th>tempo_execucao_segundos</th>\n",
       "      <th></th>\n",
       "    </tr>\n",
       "  </thead>\n",
       "  <tbody>\n",
       "    <tr>\n",
       "      <th>0</th>\n",
       "      <td>1</td>\n",
       "      <td>0</td>\n",
       "      <td>0</td>\n",
       "      <td>0</td>\n",
       "      <td>0</td>\n",
       "      <td>0</td>\n",
       "      <td>0</td>\n",
       "      <td>0</td>\n",
       "      <td>0</td>\n",
       "      <td>0</td>\n",
       "      <td>...</td>\n",
       "      <td>0</td>\n",
       "      <td>0</td>\n",
       "      <td>0</td>\n",
       "      <td>0</td>\n",
       "      <td>0</td>\n",
       "      <td>0</td>\n",
       "      <td>0</td>\n",
       "      <td>0</td>\n",
       "      <td>0.000258</td>\n",
       "      <td></td>\n",
       "    </tr>\n",
       "    <tr>\n",
       "      <th>1</th>\n",
       "      <td>2</td>\n",
       "      <td>1</td>\n",
       "      <td>1</td>\n",
       "      <td>1</td>\n",
       "      <td>1</td>\n",
       "      <td>1</td>\n",
       "      <td>1</td>\n",
       "      <td>1</td>\n",
       "      <td>1</td>\n",
       "      <td>1</td>\n",
       "      <td>...</td>\n",
       "      <td>0</td>\n",
       "      <td>0</td>\n",
       "      <td>0</td>\n",
       "      <td>0</td>\n",
       "      <td>0</td>\n",
       "      <td>0</td>\n",
       "      <td>0</td>\n",
       "      <td>0</td>\n",
       "      <td>0.000611</td>\n",
       "      <td></td>\n",
       "    </tr>\n",
       "    <tr>\n",
       "      <th>2</th>\n",
       "      <td>3</td>\n",
       "      <td>0</td>\n",
       "      <td>0</td>\n",
       "      <td>0</td>\n",
       "      <td>0</td>\n",
       "      <td>0</td>\n",
       "      <td>0</td>\n",
       "      <td>0</td>\n",
       "      <td>0</td>\n",
       "      <td>0</td>\n",
       "      <td>...</td>\n",
       "      <td>1</td>\n",
       "      <td>2</td>\n",
       "      <td>2</td>\n",
       "      <td>2</td>\n",
       "      <td>1</td>\n",
       "      <td>2</td>\n",
       "      <td>2</td>\n",
       "      <td>1</td>\n",
       "      <td>0.001017</td>\n",
       "      <td></td>\n",
       "    </tr>\n",
       "    <tr>\n",
       "      <th>3</th>\n",
       "      <td>4</td>\n",
       "      <td>2</td>\n",
       "      <td>2</td>\n",
       "      <td>2</td>\n",
       "      <td>2</td>\n",
       "      <td>2</td>\n",
       "      <td>2</td>\n",
       "      <td>2</td>\n",
       "      <td>2</td>\n",
       "      <td>2</td>\n",
       "      <td>...</td>\n",
       "      <td>0</td>\n",
       "      <td>3</td>\n",
       "      <td>3</td>\n",
       "      <td>0</td>\n",
       "      <td>0</td>\n",
       "      <td>0</td>\n",
       "      <td>0</td>\n",
       "      <td>0</td>\n",
       "      <td>0.001760</td>\n",
       "      <td></td>\n",
       "    </tr>\n",
       "    <tr>\n",
       "      <th>4</th>\n",
       "      <td>5</td>\n",
       "      <td>0</td>\n",
       "      <td>3</td>\n",
       "      <td>3</td>\n",
       "      <td>3</td>\n",
       "      <td>0</td>\n",
       "      <td>0</td>\n",
       "      <td>3</td>\n",
       "      <td>0</td>\n",
       "      <td>3</td>\n",
       "      <td>...</td>\n",
       "      <td>4</td>\n",
       "      <td>1</td>\n",
       "      <td>1</td>\n",
       "      <td>1</td>\n",
       "      <td>4</td>\n",
       "      <td>4</td>\n",
       "      <td>1</td>\n",
       "      <td>4</td>\n",
       "      <td>0.001761</td>\n",
       "      <td></td>\n",
       "    </tr>\n",
       "    <tr>\n",
       "      <th>...</th>\n",
       "      <td>...</td>\n",
       "      <td>...</td>\n",
       "      <td>...</td>\n",
       "      <td>...</td>\n",
       "      <td>...</td>\n",
       "      <td>...</td>\n",
       "      <td>...</td>\n",
       "      <td>...</td>\n",
       "      <td>...</td>\n",
       "      <td>...</td>\n",
       "      <td>...</td>\n",
       "      <td>...</td>\n",
       "      <td>...</td>\n",
       "      <td>...</td>\n",
       "      <td>...</td>\n",
       "      <td>...</td>\n",
       "      <td>...</td>\n",
       "      <td>...</td>\n",
       "      <td>...</td>\n",
       "      <td>...</td>\n",
       "      <td>...</td>\n",
       "    </tr>\n",
       "    <tr>\n",
       "      <th>145</th>\n",
       "      <td>146</td>\n",
       "      <td>115</td>\n",
       "      <td>19</td>\n",
       "      <td>133</td>\n",
       "      <td>96</td>\n",
       "      <td>8</td>\n",
       "      <td>102</td>\n",
       "      <td>107</td>\n",
       "      <td>47</td>\n",
       "      <td>16</td>\n",
       "      <td>...</td>\n",
       "      <td>31</td>\n",
       "      <td>138</td>\n",
       "      <td>88</td>\n",
       "      <td>67</td>\n",
       "      <td>83</td>\n",
       "      <td>58</td>\n",
       "      <td>44</td>\n",
       "      <td>127</td>\n",
       "      <td>0.008464</td>\n",
       "      <td></td>\n",
       "    </tr>\n",
       "    <tr>\n",
       "      <th>146</th>\n",
       "      <td>147</td>\n",
       "      <td>33</td>\n",
       "      <td>4</td>\n",
       "      <td>0</td>\n",
       "      <td>15</td>\n",
       "      <td>102</td>\n",
       "      <td>31</td>\n",
       "      <td>85</td>\n",
       "      <td>96</td>\n",
       "      <td>70</td>\n",
       "      <td>...</td>\n",
       "      <td>32</td>\n",
       "      <td>30</td>\n",
       "      <td>5</td>\n",
       "      <td>104</td>\n",
       "      <td>99</td>\n",
       "      <td>57</td>\n",
       "      <td>26</td>\n",
       "      <td>59</td>\n",
       "      <td>0.012782</td>\n",
       "      <td></td>\n",
       "    </tr>\n",
       "    <tr>\n",
       "      <th>147</th>\n",
       "      <td>148</td>\n",
       "      <td>55</td>\n",
       "      <td>47</td>\n",
       "      <td>85</td>\n",
       "      <td>16</td>\n",
       "      <td>73</td>\n",
       "      <td>67</td>\n",
       "      <td>126</td>\n",
       "      <td>49</td>\n",
       "      <td>53</td>\n",
       "      <td>...</td>\n",
       "      <td>5</td>\n",
       "      <td>104</td>\n",
       "      <td>101</td>\n",
       "      <td>2</td>\n",
       "      <td>93</td>\n",
       "      <td>99</td>\n",
       "      <td>48</td>\n",
       "      <td>43</td>\n",
       "      <td>0.013616</td>\n",
       "      <td></td>\n",
       "    </tr>\n",
       "    <tr>\n",
       "      <th>148</th>\n",
       "      <td>149</td>\n",
       "      <td>101</td>\n",
       "      <td>30</td>\n",
       "      <td>143</td>\n",
       "      <td>142</td>\n",
       "      <td>97</td>\n",
       "      <td>108</td>\n",
       "      <td>77</td>\n",
       "      <td>7</td>\n",
       "      <td>59</td>\n",
       "      <td>...</td>\n",
       "      <td>26</td>\n",
       "      <td>116</td>\n",
       "      <td>35</td>\n",
       "      <td>104</td>\n",
       "      <td>124</td>\n",
       "      <td>122</td>\n",
       "      <td>68</td>\n",
       "      <td>66</td>\n",
       "      <td>0.010555</td>\n",
       "      <td></td>\n",
       "    </tr>\n",
       "    <tr>\n",
       "      <th>149</th>\n",
       "      <td>150</td>\n",
       "      <td>109</td>\n",
       "      <td>1</td>\n",
       "      <td>14</td>\n",
       "      <td>60</td>\n",
       "      <td>23</td>\n",
       "      <td>98</td>\n",
       "      <td>114</td>\n",
       "      <td>41</td>\n",
       "      <td>45</td>\n",
       "      <td>...</td>\n",
       "      <td>59</td>\n",
       "      <td>91</td>\n",
       "      <td>28</td>\n",
       "      <td>149</td>\n",
       "      <td>79</td>\n",
       "      <td>132</td>\n",
       "      <td>140</td>\n",
       "      <td>3</td>\n",
       "      <td>0.004296</td>\n",
       "      <td></td>\n",
       "    </tr>\n",
       "  </tbody>\n",
       "</table>\n",
       "<p>150 rows × 153 columns</p>\n",
       "</div>"
      ],
      "text/plain": [
       "       k   label_ponto_1   label_ponto_2   label_ponto_3   label_ponto_4  \\\n",
       "0      1               0               0               0               0   \n",
       "1      2               1               1               1               1   \n",
       "2      3               0               0               0               0   \n",
       "3      4               2               2               2               2   \n",
       "4      5               0               3               3               3   \n",
       "..   ...             ...             ...             ...             ...   \n",
       "145  146             115              19             133              96   \n",
       "146  147              33               4               0              15   \n",
       "147  148              55              47              85              16   \n",
       "148  149             101              30             143             142   \n",
       "149  150             109               1              14              60   \n",
       "\n",
       "      label_ponto_5   label_ponto_6   label_ponto_7   label_ponto_8  \\\n",
       "0                 0               0               0               0   \n",
       "1                 1               1               1               1   \n",
       "2                 0               0               0               0   \n",
       "3                 2               2               2               2   \n",
       "4                 0               0               3               0   \n",
       "..              ...             ...             ...             ...   \n",
       "145               8             102             107              47   \n",
       "146             102              31              85              96   \n",
       "147              73              67             126              49   \n",
       "148              97             108              77               7   \n",
       "149              23              98             114              41   \n",
       "\n",
       "      label_ponto_9  ...   label_ponto_143   label_ponto_144  \\\n",
       "0                 0  ...                 0                 0   \n",
       "1                 1  ...                 0                 0   \n",
       "2                 0  ...                 1                 2   \n",
       "3                 2  ...                 0                 3   \n",
       "4                 3  ...                 4                 1   \n",
       "..              ...  ...               ...               ...   \n",
       "145              16  ...                31               138   \n",
       "146              70  ...                32                30   \n",
       "147              53  ...                 5               104   \n",
       "148              59  ...                26               116   \n",
       "149              45  ...                59                91   \n",
       "\n",
       "      label_ponto_145   label_ponto_146   label_ponto_147   label_ponto_148  \\\n",
       "0                   0                 0                 0                 0   \n",
       "1                   0                 0                 0                 0   \n",
       "2                   2                 2                 1                 2   \n",
       "3                   3                 0                 0                 0   \n",
       "4                   1                 1                 4                 4   \n",
       "..                ...               ...               ...               ...   \n",
       "145                88                67                83                58   \n",
       "146                 5               104                99                57   \n",
       "147               101                 2                93                99   \n",
       "148                35               104               124               122   \n",
       "149                28               149                79               132   \n",
       "\n",
       "      label_ponto_149   label_ponto_150   tempo_execucao_segundos     \n",
       "0                   0                 0                  0.000258     \n",
       "1                   0                 0                  0.000611     \n",
       "2                   2                 1                  0.001017     \n",
       "3                   0                 0                  0.001760     \n",
       "4                   1                 4                  0.001761     \n",
       "..                ...               ...                       ... ..  \n",
       "145                44               127                  0.008464     \n",
       "146                26                59                  0.012782     \n",
       "147                48                43                  0.013616     \n",
       "148                68                66                  0.010555     \n",
       "149               140                 3                  0.004296     \n",
       "\n",
       "[150 rows x 153 columns]"
      ]
     },
     "execution_count": 4,
     "metadata": {},
     "output_type": "execute_result"
    }
   ],
   "source": [
    "import csv\n",
    "kmedias = pd.read_csv(f'{HOME}/results/kmeans.csv')\n",
    "kmedias"
   ]
  },
  {
   "cell_type": "code",
   "execution_count": 23,
   "id": "370715dd",
   "metadata": {},
   "outputs": [
    {
     "data": {
      "text/html": [
       "<div>\n",
       "<style scoped>\n",
       "    .dataframe tbody tr th:only-of-type {\n",
       "        vertical-align: middle;\n",
       "    }\n",
       "\n",
       "    .dataframe tbody tr th {\n",
       "        vertical-align: top;\n",
       "    }\n",
       "\n",
       "    .dataframe thead th {\n",
       "        text-align: right;\n",
       "    }\n",
       "</style>\n",
       "<table border=\"1\" class=\"dataframe\">\n",
       "  <thead>\n",
       "    <tr style=\"text-align: right;\">\n",
       "      <th></th>\n",
       "      <th>k</th>\n",
       "      <th>id_centroide</th>\n",
       "      <th>dim1</th>\n",
       "      <th>dim2</th>\n",
       "      <th>dim3</th>\n",
       "      <th>dim4</th>\n",
       "      <th></th>\n",
       "    </tr>\n",
       "  </thead>\n",
       "  <tbody>\n",
       "    <tr>\n",
       "      <th>0</th>\n",
       "      <td>1</td>\n",
       "      <td>0</td>\n",
       "      <td>5.843333</td>\n",
       "      <td>3.054000</td>\n",
       "      <td>3.758667</td>\n",
       "      <td>1.198667</td>\n",
       "      <td></td>\n",
       "    </tr>\n",
       "    <tr>\n",
       "      <th>1</th>\n",
       "      <td>2</td>\n",
       "      <td>0</td>\n",
       "      <td>6.301031</td>\n",
       "      <td>2.886598</td>\n",
       "      <td>4.958763</td>\n",
       "      <td>1.695876</td>\n",
       "      <td></td>\n",
       "    </tr>\n",
       "    <tr>\n",
       "      <th>2</th>\n",
       "      <td>2</td>\n",
       "      <td>1</td>\n",
       "      <td>5.005660</td>\n",
       "      <td>3.360377</td>\n",
       "      <td>1.562264</td>\n",
       "      <td>0.288679</td>\n",
       "      <td></td>\n",
       "    </tr>\n",
       "    <tr>\n",
       "      <th>3</th>\n",
       "      <td>3</td>\n",
       "      <td>0</td>\n",
       "      <td>5.006000</td>\n",
       "      <td>3.418000</td>\n",
       "      <td>1.464000</td>\n",
       "      <td>0.244000</td>\n",
       "      <td></td>\n",
       "    </tr>\n",
       "    <tr>\n",
       "      <th>4</th>\n",
       "      <td>3</td>\n",
       "      <td>1</td>\n",
       "      <td>5.901613</td>\n",
       "      <td>2.748387</td>\n",
       "      <td>4.393548</td>\n",
       "      <td>1.433871</td>\n",
       "      <td></td>\n",
       "    </tr>\n",
       "    <tr>\n",
       "      <th>...</th>\n",
       "      <td>...</td>\n",
       "      <td>...</td>\n",
       "      <td>...</td>\n",
       "      <td>...</td>\n",
       "      <td>...</td>\n",
       "      <td>...</td>\n",
       "      <td>...</td>\n",
       "    </tr>\n",
       "    <tr>\n",
       "      <th>11320</th>\n",
       "      <td>150</td>\n",
       "      <td>145</td>\n",
       "      <td>5.100000</td>\n",
       "      <td>3.300000</td>\n",
       "      <td>1.700000</td>\n",
       "      <td>0.500000</td>\n",
       "      <td></td>\n",
       "    </tr>\n",
       "    <tr>\n",
       "      <th>11321</th>\n",
       "      <td>150</td>\n",
       "      <td>146</td>\n",
       "      <td>6.800000</td>\n",
       "      <td>3.000000</td>\n",
       "      <td>5.500000</td>\n",
       "      <td>2.100000</td>\n",
       "      <td></td>\n",
       "    </tr>\n",
       "    <tr>\n",
       "      <th>11322</th>\n",
       "      <td>150</td>\n",
       "      <td>147</td>\n",
       "      <td>6.400000</td>\n",
       "      <td>2.800000</td>\n",
       "      <td>5.600000</td>\n",
       "      <td>2.200000</td>\n",
       "      <td></td>\n",
       "    </tr>\n",
       "    <tr>\n",
       "      <th>11323</th>\n",
       "      <td>150</td>\n",
       "      <td>148</td>\n",
       "      <td>6.100000</td>\n",
       "      <td>3.000000</td>\n",
       "      <td>4.900000</td>\n",
       "      <td>1.800000</td>\n",
       "      <td></td>\n",
       "    </tr>\n",
       "    <tr>\n",
       "      <th>11324</th>\n",
       "      <td>150</td>\n",
       "      <td>149</td>\n",
       "      <td>6.700000</td>\n",
       "      <td>3.000000</td>\n",
       "      <td>5.200000</td>\n",
       "      <td>2.300000</td>\n",
       "      <td></td>\n",
       "    </tr>\n",
       "  </tbody>\n",
       "</table>\n",
       "<p>11325 rows × 7 columns</p>\n",
       "</div>"
      ],
      "text/plain": [
       "         k   id_centroide      dim1      dim2      dim3      dim4   \n",
       "0        1              0  5.843333  3.054000  3.758667  1.198667   \n",
       "1        2              0  6.301031  2.886598  4.958763  1.695876   \n",
       "2        2              1  5.005660  3.360377  1.562264  0.288679   \n",
       "3        3              0  5.006000  3.418000  1.464000  0.244000   \n",
       "4        3              1  5.901613  2.748387  4.393548  1.433871   \n",
       "...    ...            ...       ...       ...       ...       ... ..\n",
       "11320  150            145  5.100000  3.300000  1.700000  0.500000   \n",
       "11321  150            146  6.800000  3.000000  5.500000  2.100000   \n",
       "11322  150            147  6.400000  2.800000  5.600000  2.200000   \n",
       "11323  150            148  6.100000  3.000000  4.900000  1.800000   \n",
       "11324  150            149  6.700000  3.000000  5.200000  2.300000   \n",
       "\n",
       "[11325 rows x 7 columns]"
      ]
     },
     "execution_count": 23,
     "metadata": {},
     "output_type": "execute_result"
    }
   ],
   "source": [
    "centroides = pd.read_csv(f'{HOME}/results/Kmeans_centroids.csv')\n",
    "centroides"
   ]
  },
  {
   "cell_type": "code",
   "execution_count": 6,
   "id": "f43235e3",
   "metadata": {},
   "outputs": [
    {
     "data": {
      "text/html": [
       "<div>\n",
       "<style scoped>\n",
       "    .dataframe tbody tr th:only-of-type {\n",
       "        vertical-align: middle;\n",
       "    }\n",
       "\n",
       "    .dataframe tbody tr th {\n",
       "        vertical-align: top;\n",
       "    }\n",
       "\n",
       "    .dataframe thead th {\n",
       "        text-align: right;\n",
       "    }\n",
       "</style>\n",
       "<table border=\"1\" class=\"dataframe\">\n",
       "  <thead>\n",
       "    <tr style=\"text-align: right;\">\n",
       "      <th></th>\n",
       "      <th>k</th>\n",
       "      <th>id_centroide</th>\n",
       "      <th>dim1</th>\n",
       "      <th>dim2</th>\n",
       "      <th>dim3</th>\n",
       "      <th>dim4</th>\n",
       "      <th></th>\n",
       "    </tr>\n",
       "  </thead>\n",
       "  <tbody>\n",
       "    <tr>\n",
       "      <th>3</th>\n",
       "      <td>3</td>\n",
       "      <td>0</td>\n",
       "      <td>5.006000</td>\n",
       "      <td>3.418000</td>\n",
       "      <td>1.464000</td>\n",
       "      <td>0.244000</td>\n",
       "      <td></td>\n",
       "    </tr>\n",
       "    <tr>\n",
       "      <th>4</th>\n",
       "      <td>3</td>\n",
       "      <td>1</td>\n",
       "      <td>5.901613</td>\n",
       "      <td>2.748387</td>\n",
       "      <td>4.393548</td>\n",
       "      <td>1.433871</td>\n",
       "      <td></td>\n",
       "    </tr>\n",
       "    <tr>\n",
       "      <th>5</th>\n",
       "      <td>3</td>\n",
       "      <td>2</td>\n",
       "      <td>6.850000</td>\n",
       "      <td>3.073684</td>\n",
       "      <td>5.742105</td>\n",
       "      <td>2.071053</td>\n",
       "      <td></td>\n",
       "    </tr>\n",
       "  </tbody>\n",
       "</table>\n",
       "</div>"
      ],
      "text/plain": [
       "   k   id_centroide      dim1      dim2      dim3      dim4   \n",
       "3  3              0  5.006000  3.418000  1.464000  0.244000   \n",
       "4  3              1  5.901613  2.748387  4.393548  1.433871   \n",
       "5  3              2  6.850000  3.073684  5.742105  2.071053   "
      ]
     },
     "execution_count": 6,
     "metadata": {},
     "output_type": "execute_result"
    }
   ],
   "source": [
    "centroides = centroides[centroides['k']==3]\n",
    "centroides"
   ]
  },
  {
   "cell_type": "code",
   "execution_count": 7,
   "id": "6e40f579",
   "metadata": {},
   "outputs": [],
   "source": [
    "import matplotlib.pyplot as plt\n",
    "import seaborn as sns\n",
    "import sys"
   ]
  },
  {
   "cell_type": "code",
   "execution_count": 8,
   "id": "f898ef4b",
   "metadata": {},
   "outputs": [],
   "source": [
    "import matplotlib\n",
    "matplotlib.use('Agg')"
   ]
  },
  {
   "cell_type": "code",
   "execution_count": 9,
   "id": "36388887",
   "metadata": {},
   "outputs": [],
   "source": [
    "linha_k3 = kmedias[kmedias['k'] == 3]\n",
    "rotulos_clusters = linha_k3.iloc[0, 1:-1].values"
   ]
  },
  {
   "cell_type": "code",
   "execution_count": 10,
   "id": "b5748a82",
   "metadata": {},
   "outputs": [],
   "source": [
    "rotulos_clusters = rotulos_clusters[:-1]"
   ]
  },
  {
   "cell_type": "code",
   "execution_count": 11,
   "id": "466081d7",
   "metadata": {},
   "outputs": [
    {
     "data": {
      "text/plain": [
       "150"
      ]
     },
     "execution_count": 11,
     "metadata": {},
     "output_type": "execute_result"
    }
   ],
   "source": [
    "len(rotulos_clusters)"
   ]
  },
  {
   "cell_type": "code",
   "execution_count": 12,
   "id": "7e024a21",
   "metadata": {},
   "outputs": [
    {
     "data": {
      "text/plain": [
       "array([np.int64(0), np.int64(0), np.int64(0), np.int64(0), np.int64(0),\n",
       "       np.int64(0), np.int64(0), np.int64(0), np.int64(0), np.int64(0),\n",
       "       np.int64(0), np.int64(0), np.int64(0), np.int64(0), np.int64(0),\n",
       "       np.int64(0), np.int64(0), np.int64(0), np.int64(0), np.int64(0),\n",
       "       np.int64(0), np.int64(0), np.int64(0), np.int64(0), np.int64(0),\n",
       "       np.int64(0), np.int64(0), np.int64(0), np.int64(0), np.int64(0),\n",
       "       np.int64(0), np.int64(0), np.int64(0), np.int64(0), np.int64(0),\n",
       "       np.int64(0), np.int64(0), np.int64(0), np.int64(0), np.int64(0),\n",
       "       np.int64(0), np.int64(0), np.int64(0), np.int64(0), np.int64(0),\n",
       "       np.int64(0), np.int64(0), np.int64(0), np.int64(0), np.int64(0),\n",
       "       np.int64(1), np.int64(1), np.int64(2), np.int64(1), np.int64(1),\n",
       "       np.int64(1), np.int64(1), np.int64(1), np.int64(1), np.int64(1),\n",
       "       np.int64(1), np.int64(1), np.int64(1), np.int64(1), np.int64(1),\n",
       "       np.int64(1), np.int64(1), np.int64(1), np.int64(1), np.int64(1),\n",
       "       np.int64(1), np.int64(1), np.int64(1), np.int64(1), np.int64(1),\n",
       "       np.int64(1), np.int64(1), np.int64(2), np.int64(1), np.int64(1),\n",
       "       np.int64(1), np.int64(1), np.int64(1), np.int64(1), np.int64(1),\n",
       "       np.int64(1), np.int64(1), np.int64(1), np.int64(1), np.int64(1),\n",
       "       np.int64(1), np.int64(1), np.int64(1), np.int64(1), np.int64(1),\n",
       "       np.int64(1), np.int64(1), np.int64(1), np.int64(1), np.int64(1),\n",
       "       np.int64(2), np.int64(1), np.int64(2), np.int64(2), np.int64(2),\n",
       "       np.int64(2), np.int64(1), np.int64(2), np.int64(2), np.int64(2),\n",
       "       np.int64(2), np.int64(2), np.int64(2), np.int64(1), np.int64(1),\n",
       "       np.int64(2), np.int64(2), np.int64(2), np.int64(2), np.int64(1),\n",
       "       np.int64(2), np.int64(1), np.int64(2), np.int64(1), np.int64(2),\n",
       "       np.int64(2), np.int64(1), np.int64(1), np.int64(2), np.int64(2),\n",
       "       np.int64(2), np.int64(2), np.int64(2), np.int64(1), np.int64(2),\n",
       "       np.int64(2), np.int64(2), np.int64(2), np.int64(1), np.int64(2),\n",
       "       np.int64(2), np.int64(2), np.int64(1), np.int64(2), np.int64(2),\n",
       "       np.int64(2), np.int64(1), np.int64(2), np.int64(2), np.int64(1)],\n",
       "      dtype=object)"
      ]
     },
     "execution_count": 12,
     "metadata": {},
     "output_type": "execute_result"
    }
   ],
   "source": [
    "rotulos_clusters"
   ]
  },
  {
   "cell_type": "code",
   "execution_count": 13,
   "id": "6a53636b",
   "metadata": {},
   "outputs": [
    {
     "name": "stdout",
     "output_type": "stream",
     "text": [
      "Número de linhas no DataFrame 'iris': 150\n",
      "Número de elementos em 'rotulos_clusters': 150\n",
      "Tipo de 'rotulos_clusters': <class 'numpy.ndarray'>\n"
     ]
    }
   ],
   "source": [
    "# Verificação de Diagnóstico 1: Checar os tamanhos\n",
    "print(f\"Número de linhas no DataFrame 'iris': {len(iris)}\")\n",
    "print(f\"Número de elementos em 'rotulos_clusters': {len(rotulos_clusters)}\")\n",
    "\n",
    "# Checagem extra: ver o tipo de 'rotulos_clusters'\n",
    "print(f\"Tipo de 'rotulos_clusters': {type(rotulos_clusters)}\")"
   ]
  },
  {
   "cell_type": "code",
   "execution_count": 14,
   "id": "e4865ca3",
   "metadata": {},
   "outputs": [],
   "source": [
    "\n",
    "\n",
    "# 3. Juntar os dados\n",
    "# Adiciona os rótulos dos clusters como uma nova coluna no dataframe original do Iris.\n",
    "# Isso vai alinhar cada ponto com seu respectivo grupo.\n",
    "iris['cluster'] = rotulos_clusters\n",
    "iris['cluster'] = iris['cluster'].astype(int) # Garante que os rótulos sejam números inteiros\n",
    "\n"
   ]
  },
  {
   "cell_type": "code",
   "execution_count": 15,
   "id": "80158346",
   "metadata": {},
   "outputs": [
    {
     "name": "stdout",
     "output_type": "stream",
     "text": [
      "Dados prontos para plotagem. Exemplo:\n",
      "   Id  SepalLengthCm  SepalWidthCm  PetalLengthCm  PetalWidthCm      Species  \\\n",
      "0   1            5.1           3.5            1.4           0.2  Iris-setosa   \n",
      "1   2            4.9           3.0            1.4           0.2  Iris-setosa   \n",
      "2   3            4.7           3.2            1.3           0.2  Iris-setosa   \n",
      "3   4            4.6           3.1            1.5           0.2  Iris-setosa   \n",
      "4   5            5.0           3.6            1.4           0.2  Iris-setosa   \n",
      "\n",
      "   cluster  \n",
      "0        0  \n",
      "1        0  \n",
      "2        0  \n",
      "3        0  \n",
      "4        0  \n"
     ]
    }
   ],
   "source": [
    "# Identifica as duas primeiras colunas de variáveis. No Iris, são 'SepalLengthCm' e 'SepalWidthCm'.\n",
    "# Se seu arquivo não tiver cabeçalho, use iris.columns[0] e iris.columns[1]\n",
    "primeira_variavel = 'SepalLengthCm'\n",
    "segunda_variavel = 'SepalWidthCm'\n",
    "\n",
    "print(\"Dados prontos para plotagem. Exemplo:\")\n",
    "print(iris.head())\n",
    "\n",
    "\n"
   ]
  },
  {
   "cell_type": "code",
   "execution_count": 16,
   "id": "36ba10ec",
   "metadata": {},
   "outputs": [
    {
     "data": {
      "text/html": [
       "<div>\n",
       "<style scoped>\n",
       "    .dataframe tbody tr th:only-of-type {\n",
       "        vertical-align: middle;\n",
       "    }\n",
       "\n",
       "    .dataframe tbody tr th {\n",
       "        vertical-align: top;\n",
       "    }\n",
       "\n",
       "    .dataframe thead th {\n",
       "        text-align: right;\n",
       "    }\n",
       "</style>\n",
       "<table border=\"1\" class=\"dataframe\">\n",
       "  <thead>\n",
       "    <tr style=\"text-align: right;\">\n",
       "      <th></th>\n",
       "      <th>Id</th>\n",
       "      <th>SepalLengthCm</th>\n",
       "      <th>SepalWidthCm</th>\n",
       "      <th>PetalLengthCm</th>\n",
       "      <th>PetalWidthCm</th>\n",
       "      <th>Species</th>\n",
       "      <th>cluster</th>\n",
       "    </tr>\n",
       "  </thead>\n",
       "  <tbody>\n",
       "    <tr>\n",
       "      <th>0</th>\n",
       "      <td>1</td>\n",
       "      <td>5.1</td>\n",
       "      <td>3.5</td>\n",
       "      <td>1.4</td>\n",
       "      <td>0.2</td>\n",
       "      <td>Iris-setosa</td>\n",
       "      <td>0</td>\n",
       "    </tr>\n",
       "    <tr>\n",
       "      <th>1</th>\n",
       "      <td>2</td>\n",
       "      <td>4.9</td>\n",
       "      <td>3.0</td>\n",
       "      <td>1.4</td>\n",
       "      <td>0.2</td>\n",
       "      <td>Iris-setosa</td>\n",
       "      <td>0</td>\n",
       "    </tr>\n",
       "    <tr>\n",
       "      <th>2</th>\n",
       "      <td>3</td>\n",
       "      <td>4.7</td>\n",
       "      <td>3.2</td>\n",
       "      <td>1.3</td>\n",
       "      <td>0.2</td>\n",
       "      <td>Iris-setosa</td>\n",
       "      <td>0</td>\n",
       "    </tr>\n",
       "    <tr>\n",
       "      <th>3</th>\n",
       "      <td>4</td>\n",
       "      <td>4.6</td>\n",
       "      <td>3.1</td>\n",
       "      <td>1.5</td>\n",
       "      <td>0.2</td>\n",
       "      <td>Iris-setosa</td>\n",
       "      <td>0</td>\n",
       "    </tr>\n",
       "    <tr>\n",
       "      <th>4</th>\n",
       "      <td>5</td>\n",
       "      <td>5.0</td>\n",
       "      <td>3.6</td>\n",
       "      <td>1.4</td>\n",
       "      <td>0.2</td>\n",
       "      <td>Iris-setosa</td>\n",
       "      <td>0</td>\n",
       "    </tr>\n",
       "    <tr>\n",
       "      <th>...</th>\n",
       "      <td>...</td>\n",
       "      <td>...</td>\n",
       "      <td>...</td>\n",
       "      <td>...</td>\n",
       "      <td>...</td>\n",
       "      <td>...</td>\n",
       "      <td>...</td>\n",
       "    </tr>\n",
       "    <tr>\n",
       "      <th>145</th>\n",
       "      <td>146</td>\n",
       "      <td>6.7</td>\n",
       "      <td>3.0</td>\n",
       "      <td>5.2</td>\n",
       "      <td>2.3</td>\n",
       "      <td>Iris-virginica</td>\n",
       "      <td>2</td>\n",
       "    </tr>\n",
       "    <tr>\n",
       "      <th>146</th>\n",
       "      <td>147</td>\n",
       "      <td>6.3</td>\n",
       "      <td>2.5</td>\n",
       "      <td>5.0</td>\n",
       "      <td>1.9</td>\n",
       "      <td>Iris-virginica</td>\n",
       "      <td>1</td>\n",
       "    </tr>\n",
       "    <tr>\n",
       "      <th>147</th>\n",
       "      <td>148</td>\n",
       "      <td>6.5</td>\n",
       "      <td>3.0</td>\n",
       "      <td>5.2</td>\n",
       "      <td>2.0</td>\n",
       "      <td>Iris-virginica</td>\n",
       "      <td>2</td>\n",
       "    </tr>\n",
       "    <tr>\n",
       "      <th>148</th>\n",
       "      <td>149</td>\n",
       "      <td>6.2</td>\n",
       "      <td>3.4</td>\n",
       "      <td>5.4</td>\n",
       "      <td>2.3</td>\n",
       "      <td>Iris-virginica</td>\n",
       "      <td>2</td>\n",
       "    </tr>\n",
       "    <tr>\n",
       "      <th>149</th>\n",
       "      <td>150</td>\n",
       "      <td>5.9</td>\n",
       "      <td>3.0</td>\n",
       "      <td>5.1</td>\n",
       "      <td>1.8</td>\n",
       "      <td>Iris-virginica</td>\n",
       "      <td>1</td>\n",
       "    </tr>\n",
       "  </tbody>\n",
       "</table>\n",
       "<p>150 rows × 7 columns</p>\n",
       "</div>"
      ],
      "text/plain": [
       "      Id  SepalLengthCm  SepalWidthCm  PetalLengthCm  PetalWidthCm  \\\n",
       "0      1            5.1           3.5            1.4           0.2   \n",
       "1      2            4.9           3.0            1.4           0.2   \n",
       "2      3            4.7           3.2            1.3           0.2   \n",
       "3      4            4.6           3.1            1.5           0.2   \n",
       "4      5            5.0           3.6            1.4           0.2   \n",
       "..   ...            ...           ...            ...           ...   \n",
       "145  146            6.7           3.0            5.2           2.3   \n",
       "146  147            6.3           2.5            5.0           1.9   \n",
       "147  148            6.5           3.0            5.2           2.0   \n",
       "148  149            6.2           3.4            5.4           2.3   \n",
       "149  150            5.9           3.0            5.1           1.8   \n",
       "\n",
       "            Species  cluster  \n",
       "0       Iris-setosa        0  \n",
       "1       Iris-setosa        0  \n",
       "2       Iris-setosa        0  \n",
       "3       Iris-setosa        0  \n",
       "4       Iris-setosa        0  \n",
       "..              ...      ...  \n",
       "145  Iris-virginica        2  \n",
       "146  Iris-virginica        1  \n",
       "147  Iris-virginica        2  \n",
       "148  Iris-virginica        2  \n",
       "149  Iris-virginica        1  \n",
       "\n",
       "[150 rows x 7 columns]"
      ]
     },
     "execution_count": 16,
     "metadata": {},
     "output_type": "execute_result"
    }
   ],
   "source": [
    "iris"
   ]
  },
  {
   "cell_type": "code",
   "execution_count": 21,
   "id": "1ff5ca39",
   "metadata": {},
   "outputs": [
    {
     "data": {
      "text/html": [
       "<div>\n",
       "<style scoped>\n",
       "    .dataframe tbody tr th:only-of-type {\n",
       "        vertical-align: middle;\n",
       "    }\n",
       "\n",
       "    .dataframe tbody tr th {\n",
       "        vertical-align: top;\n",
       "    }\n",
       "\n",
       "    .dataframe thead th {\n",
       "        text-align: right;\n",
       "    }\n",
       "</style>\n",
       "<table border=\"1\" class=\"dataframe\">\n",
       "  <thead>\n",
       "    <tr style=\"text-align: right;\">\n",
       "      <th></th>\n",
       "      <th>k</th>\n",
       "      <th>id_centroide</th>\n",
       "      <th>dim1</th>\n",
       "      <th>dim2</th>\n",
       "      <th>dim3</th>\n",
       "      <th>dim4</th>\n",
       "      <th></th>\n",
       "    </tr>\n",
       "  </thead>\n",
       "  <tbody>\n",
       "    <tr>\n",
       "      <th>3</th>\n",
       "      <td>3</td>\n",
       "      <td>0</td>\n",
       "      <td>5.006000</td>\n",
       "      <td>3.418000</td>\n",
       "      <td>1.464000</td>\n",
       "      <td>0.244000</td>\n",
       "      <td></td>\n",
       "    </tr>\n",
       "    <tr>\n",
       "      <th>4</th>\n",
       "      <td>3</td>\n",
       "      <td>1</td>\n",
       "      <td>5.901613</td>\n",
       "      <td>2.748387</td>\n",
       "      <td>4.393548</td>\n",
       "      <td>1.433871</td>\n",
       "      <td></td>\n",
       "    </tr>\n",
       "    <tr>\n",
       "      <th>5</th>\n",
       "      <td>3</td>\n",
       "      <td>2</td>\n",
       "      <td>6.850000</td>\n",
       "      <td>3.073684</td>\n",
       "      <td>5.742105</td>\n",
       "      <td>2.071053</td>\n",
       "      <td></td>\n",
       "    </tr>\n",
       "  </tbody>\n",
       "</table>\n",
       "</div>"
      ],
      "text/plain": [
       "   k   id_centroide      dim1      dim2      dim3      dim4   \n",
       "3  3              0  5.006000  3.418000  1.464000  0.244000   \n",
       "4  3              1  5.901613  2.748387  4.393548  1.433871   \n",
       "5  3              2  6.850000  3.073684  5.742105  2.071053   "
      ]
     },
     "execution_count": 21,
     "metadata": {},
     "output_type": "execute_result"
    }
   ],
   "source": [
    "centroides"
   ]
  },
  {
   "cell_type": "code",
   "execution_count": 42,
   "id": "5d417a23",
   "metadata": {},
   "outputs": [],
   "source": [
    "# --- TESTE DEFINITIVO ---\n",
    "\n",
    "# Passo 1: Forçar o uso de um backend \"não interativo\"\n",
    "# Esta linha DEVE ser executada antes de qualquer outro import do pyplot ou seaborn\n",
    "import matplotlib\n",
    "matplotlib.use('Agg')\n",
    "\n",
    "# Passo 2: Importar o pyplot DEPOIS de definir o backend\n",
    "import matplotlib.pyplot as plt\n",
    "import pandas as pd # Supondo que 'iris' já existe de células anteriores\n",
    "\n",
    "# Se 'iris' não estiver na memória, descomente a linha abaixo\n",
    "# iris = pd.read_csv('caminho/para/seu/arquivo.csv') # ... e adicione a coluna 'cluster'\n",
    "\n",
    "def plotar(k, primeira_variavel, segunda_variavel, dim1_centroide, dim2_centroide):\n",
    "\n",
    "    print(\"Backend do Matplotlib alterado para 'Agg'. Iniciando a criação do gráfico em memória...\")\n",
    "    \n",
    "    centroide_atual = centroides[centroides['k'] == k]\n",
    "    linha_katual = kmedias[kmedias['k'] == k]\n",
    "    rotulos_clusters_atual = linha_katual.iloc[0, 1:-1].values\n",
    "    rotulos_clusters_atual = rotulos_clusters_atual[:-1]\n",
    "    iris['cluster'] = rotulos_clusters_atual\n",
    "    iris['cluster'] = iris['cluster'].astype(int)\n",
    "\n",
    "    # --- O mesmo código de plotagem de antes ---\n",
    "    plt.figure(figsize=(12, 8))\n",
    "    clusters_unicos = iris['cluster'].unique()\n",
    "    clusters_unicos.sort()\n",
    "    cmap = matplotlib.colormaps.get_cmap('hsv')\n",
    "    cores = [cmap(i/k) for i in range(k)]\n",
    "    \n",
    "    for cluster_id in clusters_unicos:\n",
    "        subset = iris[iris['cluster'] == cluster_id]\n",
    "        plt.scatter(subset[primeira_variavel], subset[segunda_variavel],\n",
    "                    c=cores[cluster_id],\n",
    "                    label=f'Cluster {cluster_id}',\n",
    "                    s=100, alpha=0.9)\n",
    "        \n",
    "    plt.scatter(centroide_atual[dim1_centroide], centroide_atual[dim2_centroide],\n",
    "                marker='X',           # Marcador em formato de 'X'\n",
    "                s=250,                # Tamanho grande para destacar\n",
    "                c='red',              # Cor vermelha\n",
    "                edgecolor='black',    # Borda preta para melhor visibilidade\n",
    "                linewidth=1.5,        # Largura da borda\n",
    "                label='Centróides',   # Rótulo para a legenda\n",
    "                zorder=10)\n",
    "\n",
    "    plt.title(f'Clusters do K-means (k={k}) para o Dataset Iris', fontsize=16)\n",
    "    plt.xlabel(f'Primeira Variável ({primeira_variavel})', fontsize=12)\n",
    "    plt.ylabel(f'Segunda Variável ({segunda_variavel})', fontsize=12)\n",
    "    plt.legend(title='ID do Cluster')\n",
    "    plt.grid(True)\n",
    "    # --- Fim do código de plotagem ---\n",
    "\n",
    "    # Passo 3: Em vez de plt.show(), salvamos o arquivo\n",
    "    try:\n",
    "        nome_arquivo = f'{HOME}/plots/k{k}/kmedias_k{k}_{primeira_variavel}_{segunda_variavel}.png'\n",
    "        plt.savefig(nome_arquivo)\n",
    "        print(\"-----------------------------------------------------------------\")\n",
    "        print(f\"SUCESSO! O gráfico foi salvo como '{nome_arquivo}' na mesma pasta do seu notebook.\")\n",
    "        print(\"-----------------------------------------------------------------\")\n",
    "    except Exception as e:\n",
    "        print(f\"Ocorreu um erro ao tentar salvar o arquivo: {e}\")"
   ]
  },
  {
   "cell_type": "code",
   "execution_count": 27,
   "id": "fd48b675",
   "metadata": {},
   "outputs": [
    {
     "name": "stdout",
     "output_type": "stream",
     "text": [
      "Backend do Matplotlib alterado para 'Agg'. Iniciando a criação do gráfico em memória...\n",
      "-----------------------------------------------------------------\n",
      "SUCESSO! O gráfico foi salvo como 'c:\\Users\\Usuario\\Documents\\ufrj\\gestao\\TrabGest/plots/kmedias_k3_SepalLengthCm_SepalWidthCm.png' na mesma pasta do seu notebook.\n",
      "O kernel não travou. O problema está confirmado no backend gráfico.\n",
      "-----------------------------------------------------------------\n"
     ]
    }
   ],
   "source": [
    "plotar(3, 'SepalLengthCm', 'SepalWidthCm', ' dim1', ' dim2')"
   ]
  },
  {
   "cell_type": "code",
   "execution_count": 34,
   "id": "1b014095",
   "metadata": {},
   "outputs": [],
   "source": [
    "iris_columns = ['SepalLengthCm', 'SepalWidthCm', 'PetalLengthCm', 'PetalWidthCm']\n",
    "centroides_columns = [' dim1', ' dim2', ' dim3', ' dim4']"
   ]
  },
  {
   "cell_type": "code",
   "execution_count": 36,
   "id": "5b7a5839",
   "metadata": {},
   "outputs": [
    {
     "data": {
      "text/plain": [
       "[('SepalLengthCm', 'SepalWidthCm'),\n",
       " ('SepalLengthCm', 'PetalLengthCm'),\n",
       " ('SepalLengthCm', 'PetalWidthCm'),\n",
       " ('SepalWidthCm', 'PetalLengthCm'),\n",
       " ('SepalWidthCm', 'PetalWidthCm'),\n",
       " ('PetalLengthCm', 'PetalWidthCm')]"
      ]
     },
     "execution_count": 36,
     "metadata": {},
     "output_type": "execute_result"
    }
   ],
   "source": [
    "import itertools\n",
    "\n",
    "combinacoes_de_iris = list(itertools.combinations(iris_columns, 2))\n",
    "combinacoes_de_iris"
   ]
  },
  {
   "cell_type": "code",
   "execution_count": 37,
   "id": "6f86e14c",
   "metadata": {},
   "outputs": [
    {
     "data": {
      "text/plain": [
       "[(' dim1', ' dim2'),\n",
       " (' dim1', ' dim3'),\n",
       " (' dim1', ' dim4'),\n",
       " (' dim2', ' dim3'),\n",
       " (' dim2', ' dim4'),\n",
       " (' dim3', ' dim4')]"
      ]
     },
     "execution_count": 37,
     "metadata": {},
     "output_type": "execute_result"
    }
   ],
   "source": [
    "combinacoes_de_centroides = list(itertools.combinations(centroides_columns, 2))\n",
    "combinacoes_de_centroides"
   ]
  },
  {
   "cell_type": "code",
   "execution_count": 58,
   "id": "daddb361",
   "metadata": {},
   "outputs": [
    {
     "name": "stdout",
     "output_type": "stream",
     "text": [
      "SepalLengthCm SepalWidthCm  dim1  dim2\n",
      "Backend do Matplotlib alterado para 'Agg'. Iniciando a criação do gráfico em memória...\n",
      "-----------------------------------------------------------------\n",
      "SUCESSO! O gráfico foi salvo como 'c:\\Users\\Usuario\\Documents\\ufrj\\gestao\\TrabGest/plots/k1/kmedias_k1_SepalLengthCm_SepalWidthCm.png' na mesma pasta do seu notebook.\n",
      "-----------------------------------------------------------------\n",
      "SepalLengthCm PetalLengthCm  dim1  dim3\n",
      "Backend do Matplotlib alterado para 'Agg'. Iniciando a criação do gráfico em memória...\n",
      "-----------------------------------------------------------------\n",
      "SUCESSO! O gráfico foi salvo como 'c:\\Users\\Usuario\\Documents\\ufrj\\gestao\\TrabGest/plots/k1/kmedias_k1_SepalLengthCm_PetalLengthCm.png' na mesma pasta do seu notebook.\n",
      "-----------------------------------------------------------------\n",
      "SepalLengthCm PetalWidthCm  dim1  dim4\n",
      "Backend do Matplotlib alterado para 'Agg'. Iniciando a criação do gráfico em memória...\n"
     ]
    },
    {
     "name": "stderr",
     "output_type": "stream",
     "text": [
      "C:\\Users\\Usuario\\AppData\\Local\\Temp\\ipykernel_23524\\706736877.py:35: UserWarning: *c* argument looks like a single numeric RGB or RGBA sequence, which should be avoided as value-mapping will have precedence in case its length matches with *x* & *y*.  Please use the *color* keyword-argument or provide a 2D array with a single row if you intend to specify the same RGB or RGBA value for all points.\n",
      "  plt.scatter(subset[primeira_variavel], subset[segunda_variavel],\n",
      "C:\\Users\\Usuario\\AppData\\Local\\Temp\\ipykernel_23524\\706736877.py:35: UserWarning: *c* argument looks like a single numeric RGB or RGBA sequence, which should be avoided as value-mapping will have precedence in case its length matches with *x* & *y*.  Please use the *color* keyword-argument or provide a 2D array with a single row if you intend to specify the same RGB or RGBA value for all points.\n",
      "  plt.scatter(subset[primeira_variavel], subset[segunda_variavel],\n",
      "C:\\Users\\Usuario\\AppData\\Local\\Temp\\ipykernel_23524\\706736877.py:35: UserWarning: *c* argument looks like a single numeric RGB or RGBA sequence, which should be avoided as value-mapping will have precedence in case its length matches with *x* & *y*.  Please use the *color* keyword-argument or provide a 2D array with a single row if you intend to specify the same RGB or RGBA value for all points.\n",
      "  plt.scatter(subset[primeira_variavel], subset[segunda_variavel],\n"
     ]
    },
    {
     "name": "stdout",
     "output_type": "stream",
     "text": [
      "-----------------------------------------------------------------\n",
      "SUCESSO! O gráfico foi salvo como 'c:\\Users\\Usuario\\Documents\\ufrj\\gestao\\TrabGest/plots/k1/kmedias_k1_SepalLengthCm_PetalWidthCm.png' na mesma pasta do seu notebook.\n",
      "-----------------------------------------------------------------\n",
      "SepalWidthCm PetalLengthCm  dim2  dim3\n",
      "Backend do Matplotlib alterado para 'Agg'. Iniciando a criação do gráfico em memória...\n",
      "-----------------------------------------------------------------\n",
      "SUCESSO! O gráfico foi salvo como 'c:\\Users\\Usuario\\Documents\\ufrj\\gestao\\TrabGest/plots/k1/kmedias_k1_SepalWidthCm_PetalLengthCm.png' na mesma pasta do seu notebook.\n",
      "-----------------------------------------------------------------\n",
      "SepalWidthCm PetalWidthCm  dim2  dim4\n",
      "Backend do Matplotlib alterado para 'Agg'. Iniciando a criação do gráfico em memória...\n",
      "-----------------------------------------------------------------\n",
      "SUCESSO! O gráfico foi salvo como 'c:\\Users\\Usuario\\Documents\\ufrj\\gestao\\TrabGest/plots/k1/kmedias_k1_SepalWidthCm_PetalWidthCm.png' na mesma pasta do seu notebook.\n",
      "-----------------------------------------------------------------\n",
      "PetalLengthCm PetalWidthCm  dim3  dim4\n",
      "Backend do Matplotlib alterado para 'Agg'. Iniciando a criação do gráfico em memória...\n"
     ]
    },
    {
     "name": "stderr",
     "output_type": "stream",
     "text": [
      "C:\\Users\\Usuario\\AppData\\Local\\Temp\\ipykernel_23524\\706736877.py:35: UserWarning: *c* argument looks like a single numeric RGB or RGBA sequence, which should be avoided as value-mapping will have precedence in case its length matches with *x* & *y*.  Please use the *color* keyword-argument or provide a 2D array with a single row if you intend to specify the same RGB or RGBA value for all points.\n",
      "  plt.scatter(subset[primeira_variavel], subset[segunda_variavel],\n",
      "C:\\Users\\Usuario\\AppData\\Local\\Temp\\ipykernel_23524\\706736877.py:35: UserWarning: *c* argument looks like a single numeric RGB or RGBA sequence, which should be avoided as value-mapping will have precedence in case its length matches with *x* & *y*.  Please use the *color* keyword-argument or provide a 2D array with a single row if you intend to specify the same RGB or RGBA value for all points.\n",
      "  plt.scatter(subset[primeira_variavel], subset[segunda_variavel],\n",
      "C:\\Users\\Usuario\\AppData\\Local\\Temp\\ipykernel_23524\\706736877.py:35: UserWarning: *c* argument looks like a single numeric RGB or RGBA sequence, which should be avoided as value-mapping will have precedence in case its length matches with *x* & *y*.  Please use the *color* keyword-argument or provide a 2D array with a single row if you intend to specify the same RGB or RGBA value for all points.\n",
      "  plt.scatter(subset[primeira_variavel], subset[segunda_variavel],\n"
     ]
    },
    {
     "name": "stdout",
     "output_type": "stream",
     "text": [
      "-----------------------------------------------------------------\n",
      "SUCESSO! O gráfico foi salvo como 'c:\\Users\\Usuario\\Documents\\ufrj\\gestao\\TrabGest/plots/k1/kmedias_k1_PetalLengthCm_PetalWidthCm.png' na mesma pasta do seu notebook.\n",
      "-----------------------------------------------------------------\n",
      "SepalLengthCm SepalWidthCm  dim1  dim2\n",
      "Backend do Matplotlib alterado para 'Agg'. Iniciando a criação do gráfico em memória...\n",
      "-----------------------------------------------------------------\n",
      "SUCESSO! O gráfico foi salvo como 'c:\\Users\\Usuario\\Documents\\ufrj\\gestao\\TrabGest/plots/k2/kmedias_k2_SepalLengthCm_SepalWidthCm.png' na mesma pasta do seu notebook.\n",
      "-----------------------------------------------------------------\n",
      "SepalLengthCm PetalLengthCm  dim1  dim3\n",
      "Backend do Matplotlib alterado para 'Agg'. Iniciando a criação do gráfico em memória...\n",
      "-----------------------------------------------------------------\n",
      "SUCESSO! O gráfico foi salvo como 'c:\\Users\\Usuario\\Documents\\ufrj\\gestao\\TrabGest/plots/k2/kmedias_k2_SepalLengthCm_PetalLengthCm.png' na mesma pasta do seu notebook.\n",
      "-----------------------------------------------------------------\n",
      "SepalLengthCm PetalWidthCm  dim1  dim4\n",
      "Backend do Matplotlib alterado para 'Agg'. Iniciando a criação do gráfico em memória...\n"
     ]
    },
    {
     "name": "stderr",
     "output_type": "stream",
     "text": [
      "C:\\Users\\Usuario\\AppData\\Local\\Temp\\ipykernel_23524\\706736877.py:35: UserWarning: *c* argument looks like a single numeric RGB or RGBA sequence, which should be avoided as value-mapping will have precedence in case its length matches with *x* & *y*.  Please use the *color* keyword-argument or provide a 2D array with a single row if you intend to specify the same RGB or RGBA value for all points.\n",
      "  plt.scatter(subset[primeira_variavel], subset[segunda_variavel],\n",
      "C:\\Users\\Usuario\\AppData\\Local\\Temp\\ipykernel_23524\\706736877.py:35: UserWarning: *c* argument looks like a single numeric RGB or RGBA sequence, which should be avoided as value-mapping will have precedence in case its length matches with *x* & *y*.  Please use the *color* keyword-argument or provide a 2D array with a single row if you intend to specify the same RGB or RGBA value for all points.\n",
      "  plt.scatter(subset[primeira_variavel], subset[segunda_variavel],\n",
      "C:\\Users\\Usuario\\AppData\\Local\\Temp\\ipykernel_23524\\706736877.py:35: UserWarning: *c* argument looks like a single numeric RGB or RGBA sequence, which should be avoided as value-mapping will have precedence in case its length matches with *x* & *y*.  Please use the *color* keyword-argument or provide a 2D array with a single row if you intend to specify the same RGB or RGBA value for all points.\n",
      "  plt.scatter(subset[primeira_variavel], subset[segunda_variavel],\n"
     ]
    },
    {
     "name": "stdout",
     "output_type": "stream",
     "text": [
      "-----------------------------------------------------------------\n",
      "SUCESSO! O gráfico foi salvo como 'c:\\Users\\Usuario\\Documents\\ufrj\\gestao\\TrabGest/plots/k2/kmedias_k2_SepalLengthCm_PetalWidthCm.png' na mesma pasta do seu notebook.\n",
      "-----------------------------------------------------------------\n",
      "SepalWidthCm PetalLengthCm  dim2  dim3\n",
      "Backend do Matplotlib alterado para 'Agg'. Iniciando a criação do gráfico em memória...\n",
      "-----------------------------------------------------------------\n",
      "SUCESSO! O gráfico foi salvo como 'c:\\Users\\Usuario\\Documents\\ufrj\\gestao\\TrabGest/plots/k2/kmedias_k2_SepalWidthCm_PetalLengthCm.png' na mesma pasta do seu notebook.\n",
      "-----------------------------------------------------------------\n",
      "SepalWidthCm PetalWidthCm  dim2  dim4\n",
      "Backend do Matplotlib alterado para 'Agg'. Iniciando a criação do gráfico em memória...\n",
      "-----------------------------------------------------------------\n",
      "SUCESSO! O gráfico foi salvo como 'c:\\Users\\Usuario\\Documents\\ufrj\\gestao\\TrabGest/plots/k2/kmedias_k2_SepalWidthCm_PetalWidthCm.png' na mesma pasta do seu notebook.\n",
      "-----------------------------------------------------------------\n",
      "PetalLengthCm PetalWidthCm  dim3  dim4\n",
      "Backend do Matplotlib alterado para 'Agg'. Iniciando a criação do gráfico em memória...\n"
     ]
    },
    {
     "name": "stderr",
     "output_type": "stream",
     "text": [
      "C:\\Users\\Usuario\\AppData\\Local\\Temp\\ipykernel_23524\\706736877.py:35: UserWarning: *c* argument looks like a single numeric RGB or RGBA sequence, which should be avoided as value-mapping will have precedence in case its length matches with *x* & *y*.  Please use the *color* keyword-argument or provide a 2D array with a single row if you intend to specify the same RGB or RGBA value for all points.\n",
      "  plt.scatter(subset[primeira_variavel], subset[segunda_variavel],\n",
      "C:\\Users\\Usuario\\AppData\\Local\\Temp\\ipykernel_23524\\706736877.py:35: UserWarning: *c* argument looks like a single numeric RGB or RGBA sequence, which should be avoided as value-mapping will have precedence in case its length matches with *x* & *y*.  Please use the *color* keyword-argument or provide a 2D array with a single row if you intend to specify the same RGB or RGBA value for all points.\n",
      "  plt.scatter(subset[primeira_variavel], subset[segunda_variavel],\n",
      "C:\\Users\\Usuario\\AppData\\Local\\Temp\\ipykernel_23524\\706736877.py:35: UserWarning: *c* argument looks like a single numeric RGB or RGBA sequence, which should be avoided as value-mapping will have precedence in case its length matches with *x* & *y*.  Please use the *color* keyword-argument or provide a 2D array with a single row if you intend to specify the same RGB or RGBA value for all points.\n",
      "  plt.scatter(subset[primeira_variavel], subset[segunda_variavel],\n"
     ]
    },
    {
     "name": "stdout",
     "output_type": "stream",
     "text": [
      "-----------------------------------------------------------------\n",
      "SUCESSO! O gráfico foi salvo como 'c:\\Users\\Usuario\\Documents\\ufrj\\gestao\\TrabGest/plots/k2/kmedias_k2_PetalLengthCm_PetalWidthCm.png' na mesma pasta do seu notebook.\n",
      "-----------------------------------------------------------------\n",
      "SepalLengthCm SepalWidthCm  dim1  dim2\n",
      "Backend do Matplotlib alterado para 'Agg'. Iniciando a criação do gráfico em memória...\n",
      "-----------------------------------------------------------------\n",
      "SUCESSO! O gráfico foi salvo como 'c:\\Users\\Usuario\\Documents\\ufrj\\gestao\\TrabGest/plots/k3/kmedias_k3_SepalLengthCm_SepalWidthCm.png' na mesma pasta do seu notebook.\n",
      "-----------------------------------------------------------------\n",
      "SepalLengthCm PetalLengthCm  dim1  dim3\n",
      "Backend do Matplotlib alterado para 'Agg'. Iniciando a criação do gráfico em memória...\n",
      "-----------------------------------------------------------------\n",
      "SUCESSO! O gráfico foi salvo como 'c:\\Users\\Usuario\\Documents\\ufrj\\gestao\\TrabGest/plots/k3/kmedias_k3_SepalLengthCm_PetalLengthCm.png' na mesma pasta do seu notebook.\n",
      "-----------------------------------------------------------------\n",
      "SepalLengthCm PetalWidthCm  dim1  dim4\n",
      "Backend do Matplotlib alterado para 'Agg'. Iniciando a criação do gráfico em memória...\n"
     ]
    },
    {
     "name": "stderr",
     "output_type": "stream",
     "text": [
      "C:\\Users\\Usuario\\AppData\\Local\\Temp\\ipykernel_23524\\706736877.py:35: UserWarning: *c* argument looks like a single numeric RGB or RGBA sequence, which should be avoided as value-mapping will have precedence in case its length matches with *x* & *y*.  Please use the *color* keyword-argument or provide a 2D array with a single row if you intend to specify the same RGB or RGBA value for all points.\n",
      "  plt.scatter(subset[primeira_variavel], subset[segunda_variavel],\n",
      "C:\\Users\\Usuario\\AppData\\Local\\Temp\\ipykernel_23524\\706736877.py:35: UserWarning: *c* argument looks like a single numeric RGB or RGBA sequence, which should be avoided as value-mapping will have precedence in case its length matches with *x* & *y*.  Please use the *color* keyword-argument or provide a 2D array with a single row if you intend to specify the same RGB or RGBA value for all points.\n",
      "  plt.scatter(subset[primeira_variavel], subset[segunda_variavel],\n",
      "C:\\Users\\Usuario\\AppData\\Local\\Temp\\ipykernel_23524\\706736877.py:35: UserWarning: *c* argument looks like a single numeric RGB or RGBA sequence, which should be avoided as value-mapping will have precedence in case its length matches with *x* & *y*.  Please use the *color* keyword-argument or provide a 2D array with a single row if you intend to specify the same RGB or RGBA value for all points.\n",
      "  plt.scatter(subset[primeira_variavel], subset[segunda_variavel],\n"
     ]
    },
    {
     "name": "stdout",
     "output_type": "stream",
     "text": [
      "-----------------------------------------------------------------\n",
      "SUCESSO! O gráfico foi salvo como 'c:\\Users\\Usuario\\Documents\\ufrj\\gestao\\TrabGest/plots/k3/kmedias_k3_SepalLengthCm_PetalWidthCm.png' na mesma pasta do seu notebook.\n",
      "-----------------------------------------------------------------\n",
      "SepalWidthCm PetalLengthCm  dim2  dim3\n",
      "Backend do Matplotlib alterado para 'Agg'. Iniciando a criação do gráfico em memória...\n",
      "-----------------------------------------------------------------\n",
      "SUCESSO! O gráfico foi salvo como 'c:\\Users\\Usuario\\Documents\\ufrj\\gestao\\TrabGest/plots/k3/kmedias_k3_SepalWidthCm_PetalLengthCm.png' na mesma pasta do seu notebook.\n",
      "-----------------------------------------------------------------\n",
      "SepalWidthCm PetalWidthCm  dim2  dim4\n",
      "Backend do Matplotlib alterado para 'Agg'. Iniciando a criação do gráfico em memória...\n",
      "-----------------------------------------------------------------\n",
      "SUCESSO! O gráfico foi salvo como 'c:\\Users\\Usuario\\Documents\\ufrj\\gestao\\TrabGest/plots/k3/kmedias_k3_SepalWidthCm_PetalWidthCm.png' na mesma pasta do seu notebook.\n",
      "-----------------------------------------------------------------\n",
      "PetalLengthCm PetalWidthCm  dim3  dim4\n",
      "Backend do Matplotlib alterado para 'Agg'. Iniciando a criação do gráfico em memória...\n"
     ]
    },
    {
     "name": "stderr",
     "output_type": "stream",
     "text": [
      "C:\\Users\\Usuario\\AppData\\Local\\Temp\\ipykernel_23524\\706736877.py:35: UserWarning: *c* argument looks like a single numeric RGB or RGBA sequence, which should be avoided as value-mapping will have precedence in case its length matches with *x* & *y*.  Please use the *color* keyword-argument or provide a 2D array with a single row if you intend to specify the same RGB or RGBA value for all points.\n",
      "  plt.scatter(subset[primeira_variavel], subset[segunda_variavel],\n",
      "C:\\Users\\Usuario\\AppData\\Local\\Temp\\ipykernel_23524\\706736877.py:35: UserWarning: *c* argument looks like a single numeric RGB or RGBA sequence, which should be avoided as value-mapping will have precedence in case its length matches with *x* & *y*.  Please use the *color* keyword-argument or provide a 2D array with a single row if you intend to specify the same RGB or RGBA value for all points.\n",
      "  plt.scatter(subset[primeira_variavel], subset[segunda_variavel],\n",
      "C:\\Users\\Usuario\\AppData\\Local\\Temp\\ipykernel_23524\\706736877.py:35: UserWarning: *c* argument looks like a single numeric RGB or RGBA sequence, which should be avoided as value-mapping will have precedence in case its length matches with *x* & *y*.  Please use the *color* keyword-argument or provide a 2D array with a single row if you intend to specify the same RGB or RGBA value for all points.\n",
      "  plt.scatter(subset[primeira_variavel], subset[segunda_variavel],\n"
     ]
    },
    {
     "name": "stdout",
     "output_type": "stream",
     "text": [
      "-----------------------------------------------------------------\n",
      "SUCESSO! O gráfico foi salvo como 'c:\\Users\\Usuario\\Documents\\ufrj\\gestao\\TrabGest/plots/k3/kmedias_k3_PetalLengthCm_PetalWidthCm.png' na mesma pasta do seu notebook.\n",
      "-----------------------------------------------------------------\n",
      "SepalLengthCm SepalWidthCm  dim1  dim2\n",
      "Backend do Matplotlib alterado para 'Agg'. Iniciando a criação do gráfico em memória...\n",
      "-----------------------------------------------------------------\n",
      "SUCESSO! O gráfico foi salvo como 'c:\\Users\\Usuario\\Documents\\ufrj\\gestao\\TrabGest/plots/k4/kmedias_k4_SepalLengthCm_SepalWidthCm.png' na mesma pasta do seu notebook.\n",
      "-----------------------------------------------------------------\n",
      "SepalLengthCm PetalLengthCm  dim1  dim3\n",
      "Backend do Matplotlib alterado para 'Agg'. Iniciando a criação do gráfico em memória...\n"
     ]
    },
    {
     "name": "stderr",
     "output_type": "stream",
     "text": [
      "C:\\Users\\Usuario\\AppData\\Local\\Temp\\ipykernel_23524\\706736877.py:35: UserWarning: *c* argument looks like a single numeric RGB or RGBA sequence, which should be avoided as value-mapping will have precedence in case its length matches with *x* & *y*.  Please use the *color* keyword-argument or provide a 2D array with a single row if you intend to specify the same RGB or RGBA value for all points.\n",
      "  plt.scatter(subset[primeira_variavel], subset[segunda_variavel],\n",
      "C:\\Users\\Usuario\\AppData\\Local\\Temp\\ipykernel_23524\\706736877.py:35: UserWarning: *c* argument looks like a single numeric RGB or RGBA sequence, which should be avoided as value-mapping will have precedence in case its length matches with *x* & *y*.  Please use the *color* keyword-argument or provide a 2D array with a single row if you intend to specify the same RGB or RGBA value for all points.\n",
      "  plt.scatter(subset[primeira_variavel], subset[segunda_variavel],\n"
     ]
    },
    {
     "name": "stdout",
     "output_type": "stream",
     "text": [
      "-----------------------------------------------------------------\n",
      "SUCESSO! O gráfico foi salvo como 'c:\\Users\\Usuario\\Documents\\ufrj\\gestao\\TrabGest/plots/k4/kmedias_k4_SepalLengthCm_PetalLengthCm.png' na mesma pasta do seu notebook.\n",
      "-----------------------------------------------------------------\n",
      "SepalLengthCm PetalWidthCm  dim1  dim4\n",
      "Backend do Matplotlib alterado para 'Agg'. Iniciando a criação do gráfico em memória...\n",
      "-----------------------------------------------------------------\n",
      "SUCESSO! O gráfico foi salvo como 'c:\\Users\\Usuario\\Documents\\ufrj\\gestao\\TrabGest/plots/k4/kmedias_k4_SepalLengthCm_PetalWidthCm.png' na mesma pasta do seu notebook.\n",
      "-----------------------------------------------------------------\n",
      "SepalWidthCm PetalLengthCm  dim2  dim3\n",
      "Backend do Matplotlib alterado para 'Agg'. Iniciando a criação do gráfico em memória...\n"
     ]
    },
    {
     "name": "stderr",
     "output_type": "stream",
     "text": [
      "C:\\Users\\Usuario\\AppData\\Local\\Temp\\ipykernel_23524\\706736877.py:35: UserWarning: *c* argument looks like a single numeric RGB or RGBA sequence, which should be avoided as value-mapping will have precedence in case its length matches with *x* & *y*.  Please use the *color* keyword-argument or provide a 2D array with a single row if you intend to specify the same RGB or RGBA value for all points.\n",
      "  plt.scatter(subset[primeira_variavel], subset[segunda_variavel],\n",
      "C:\\Users\\Usuario\\AppData\\Local\\Temp\\ipykernel_23524\\706736877.py:35: UserWarning: *c* argument looks like a single numeric RGB or RGBA sequence, which should be avoided as value-mapping will have precedence in case its length matches with *x* & *y*.  Please use the *color* keyword-argument or provide a 2D array with a single row if you intend to specify the same RGB or RGBA value for all points.\n",
      "  plt.scatter(subset[primeira_variavel], subset[segunda_variavel],\n"
     ]
    },
    {
     "name": "stdout",
     "output_type": "stream",
     "text": [
      "-----------------------------------------------------------------\n",
      "SUCESSO! O gráfico foi salvo como 'c:\\Users\\Usuario\\Documents\\ufrj\\gestao\\TrabGest/plots/k4/kmedias_k4_SepalWidthCm_PetalLengthCm.png' na mesma pasta do seu notebook.\n",
      "-----------------------------------------------------------------\n",
      "SepalWidthCm PetalWidthCm  dim2  dim4\n",
      "Backend do Matplotlib alterado para 'Agg'. Iniciando a criação do gráfico em memória...\n",
      "-----------------------------------------------------------------\n",
      "SUCESSO! O gráfico foi salvo como 'c:\\Users\\Usuario\\Documents\\ufrj\\gestao\\TrabGest/plots/k4/kmedias_k4_SepalWidthCm_PetalWidthCm.png' na mesma pasta do seu notebook.\n",
      "-----------------------------------------------------------------\n",
      "PetalLengthCm PetalWidthCm  dim3  dim4\n",
      "Backend do Matplotlib alterado para 'Agg'. Iniciando a criação do gráfico em memória...\n"
     ]
    },
    {
     "name": "stderr",
     "output_type": "stream",
     "text": [
      "C:\\Users\\Usuario\\AppData\\Local\\Temp\\ipykernel_23524\\706736877.py:35: UserWarning: *c* argument looks like a single numeric RGB or RGBA sequence, which should be avoided as value-mapping will have precedence in case its length matches with *x* & *y*.  Please use the *color* keyword-argument or provide a 2D array with a single row if you intend to specify the same RGB or RGBA value for all points.\n",
      "  plt.scatter(subset[primeira_variavel], subset[segunda_variavel],\n",
      "C:\\Users\\Usuario\\AppData\\Local\\Temp\\ipykernel_23524\\706736877.py:35: UserWarning: *c* argument looks like a single numeric RGB or RGBA sequence, which should be avoided as value-mapping will have precedence in case its length matches with *x* & *y*.  Please use the *color* keyword-argument or provide a 2D array with a single row if you intend to specify the same RGB or RGBA value for all points.\n",
      "  plt.scatter(subset[primeira_variavel], subset[segunda_variavel],\n"
     ]
    },
    {
     "name": "stdout",
     "output_type": "stream",
     "text": [
      "-----------------------------------------------------------------\n",
      "SUCESSO! O gráfico foi salvo como 'c:\\Users\\Usuario\\Documents\\ufrj\\gestao\\TrabGest/plots/k4/kmedias_k4_PetalLengthCm_PetalWidthCm.png' na mesma pasta do seu notebook.\n",
      "-----------------------------------------------------------------\n",
      "SepalLengthCm SepalWidthCm  dim1  dim2\n",
      "Backend do Matplotlib alterado para 'Agg'. Iniciando a criação do gráfico em memória...\n",
      "-----------------------------------------------------------------\n",
      "SUCESSO! O gráfico foi salvo como 'c:\\Users\\Usuario\\Documents\\ufrj\\gestao\\TrabGest/plots/k5/kmedias_k5_SepalLengthCm_SepalWidthCm.png' na mesma pasta do seu notebook.\n",
      "-----------------------------------------------------------------\n",
      "SepalLengthCm PetalLengthCm  dim1  dim3\n",
      "Backend do Matplotlib alterado para 'Agg'. Iniciando a criação do gráfico em memória...\n"
     ]
    },
    {
     "name": "stderr",
     "output_type": "stream",
     "text": [
      "C:\\Users\\Usuario\\AppData\\Local\\Temp\\ipykernel_23524\\706736877.py:35: UserWarning: *c* argument looks like a single numeric RGB or RGBA sequence, which should be avoided as value-mapping will have precedence in case its length matches with *x* & *y*.  Please use the *color* keyword-argument or provide a 2D array with a single row if you intend to specify the same RGB or RGBA value for all points.\n",
      "  plt.scatter(subset[primeira_variavel], subset[segunda_variavel],\n",
      "C:\\Users\\Usuario\\AppData\\Local\\Temp\\ipykernel_23524\\706736877.py:35: UserWarning: *c* argument looks like a single numeric RGB or RGBA sequence, which should be avoided as value-mapping will have precedence in case its length matches with *x* & *y*.  Please use the *color* keyword-argument or provide a 2D array with a single row if you intend to specify the same RGB or RGBA value for all points.\n",
      "  plt.scatter(subset[primeira_variavel], subset[segunda_variavel],\n"
     ]
    },
    {
     "name": "stdout",
     "output_type": "stream",
     "text": [
      "-----------------------------------------------------------------\n",
      "SUCESSO! O gráfico foi salvo como 'c:\\Users\\Usuario\\Documents\\ufrj\\gestao\\TrabGest/plots/k5/kmedias_k5_SepalLengthCm_PetalLengthCm.png' na mesma pasta do seu notebook.\n",
      "-----------------------------------------------------------------\n",
      "SepalLengthCm PetalWidthCm  dim1  dim4\n",
      "Backend do Matplotlib alterado para 'Agg'. Iniciando a criação do gráfico em memória...\n",
      "-----------------------------------------------------------------\n",
      "SUCESSO! O gráfico foi salvo como 'c:\\Users\\Usuario\\Documents\\ufrj\\gestao\\TrabGest/plots/k5/kmedias_k5_SepalLengthCm_PetalWidthCm.png' na mesma pasta do seu notebook.\n",
      "-----------------------------------------------------------------\n",
      "SepalWidthCm PetalLengthCm  dim2  dim3\n",
      "Backend do Matplotlib alterado para 'Agg'. Iniciando a criação do gráfico em memória...\n"
     ]
    },
    {
     "name": "stderr",
     "output_type": "stream",
     "text": [
      "C:\\Users\\Usuario\\AppData\\Local\\Temp\\ipykernel_23524\\706736877.py:35: UserWarning: *c* argument looks like a single numeric RGB or RGBA sequence, which should be avoided as value-mapping will have precedence in case its length matches with *x* & *y*.  Please use the *color* keyword-argument or provide a 2D array with a single row if you intend to specify the same RGB or RGBA value for all points.\n",
      "  plt.scatter(subset[primeira_variavel], subset[segunda_variavel],\n",
      "C:\\Users\\Usuario\\AppData\\Local\\Temp\\ipykernel_23524\\706736877.py:35: UserWarning: *c* argument looks like a single numeric RGB or RGBA sequence, which should be avoided as value-mapping will have precedence in case its length matches with *x* & *y*.  Please use the *color* keyword-argument or provide a 2D array with a single row if you intend to specify the same RGB or RGBA value for all points.\n",
      "  plt.scatter(subset[primeira_variavel], subset[segunda_variavel],\n"
     ]
    },
    {
     "name": "stdout",
     "output_type": "stream",
     "text": [
      "-----------------------------------------------------------------\n",
      "SUCESSO! O gráfico foi salvo como 'c:\\Users\\Usuario\\Documents\\ufrj\\gestao\\TrabGest/plots/k5/kmedias_k5_SepalWidthCm_PetalLengthCm.png' na mesma pasta do seu notebook.\n",
      "-----------------------------------------------------------------\n",
      "SepalWidthCm PetalWidthCm  dim2  dim4\n",
      "Backend do Matplotlib alterado para 'Agg'. Iniciando a criação do gráfico em memória...\n",
      "-----------------------------------------------------------------\n",
      "SUCESSO! O gráfico foi salvo como 'c:\\Users\\Usuario\\Documents\\ufrj\\gestao\\TrabGest/plots/k5/kmedias_k5_SepalWidthCm_PetalWidthCm.png' na mesma pasta do seu notebook.\n",
      "-----------------------------------------------------------------\n",
      "PetalLengthCm PetalWidthCm  dim3  dim4\n",
      "Backend do Matplotlib alterado para 'Agg'. Iniciando a criação do gráfico em memória...\n"
     ]
    },
    {
     "name": "stderr",
     "output_type": "stream",
     "text": [
      "C:\\Users\\Usuario\\AppData\\Local\\Temp\\ipykernel_23524\\706736877.py:35: UserWarning: *c* argument looks like a single numeric RGB or RGBA sequence, which should be avoided as value-mapping will have precedence in case its length matches with *x* & *y*.  Please use the *color* keyword-argument or provide a 2D array with a single row if you intend to specify the same RGB or RGBA value for all points.\n",
      "  plt.scatter(subset[primeira_variavel], subset[segunda_variavel],\n",
      "C:\\Users\\Usuario\\AppData\\Local\\Temp\\ipykernel_23524\\706736877.py:35: UserWarning: *c* argument looks like a single numeric RGB or RGBA sequence, which should be avoided as value-mapping will have precedence in case its length matches with *x* & *y*.  Please use the *color* keyword-argument or provide a 2D array with a single row if you intend to specify the same RGB or RGBA value for all points.\n",
      "  plt.scatter(subset[primeira_variavel], subset[segunda_variavel],\n"
     ]
    },
    {
     "name": "stdout",
     "output_type": "stream",
     "text": [
      "-----------------------------------------------------------------\n",
      "SUCESSO! O gráfico foi salvo como 'c:\\Users\\Usuario\\Documents\\ufrj\\gestao\\TrabGest/plots/k5/kmedias_k5_PetalLengthCm_PetalWidthCm.png' na mesma pasta do seu notebook.\n",
      "-----------------------------------------------------------------\n",
      "SepalLengthCm SepalWidthCm  dim1  dim2\n",
      "Backend do Matplotlib alterado para 'Agg'. Iniciando a criação do gráfico em memória...\n",
      "-----------------------------------------------------------------\n",
      "SUCESSO! O gráfico foi salvo como 'c:\\Users\\Usuario\\Documents\\ufrj\\gestao\\TrabGest/plots/k6/kmedias_k6_SepalLengthCm_SepalWidthCm.png' na mesma pasta do seu notebook.\n",
      "-----------------------------------------------------------------\n",
      "SepalLengthCm PetalLengthCm  dim1  dim3\n",
      "Backend do Matplotlib alterado para 'Agg'. Iniciando a criação do gráfico em memória...\n"
     ]
    },
    {
     "name": "stderr",
     "output_type": "stream",
     "text": [
      "C:\\Users\\Usuario\\AppData\\Local\\Temp\\ipykernel_23524\\706736877.py:35: UserWarning: *c* argument looks like a single numeric RGB or RGBA sequence, which should be avoided as value-mapping will have precedence in case its length matches with *x* & *y*.  Please use the *color* keyword-argument or provide a 2D array with a single row if you intend to specify the same RGB or RGBA value for all points.\n",
      "  plt.scatter(subset[primeira_variavel], subset[segunda_variavel],\n",
      "C:\\Users\\Usuario\\AppData\\Local\\Temp\\ipykernel_23524\\706736877.py:35: UserWarning: *c* argument looks like a single numeric RGB or RGBA sequence, which should be avoided as value-mapping will have precedence in case its length matches with *x* & *y*.  Please use the *color* keyword-argument or provide a 2D array with a single row if you intend to specify the same RGB or RGBA value for all points.\n",
      "  plt.scatter(subset[primeira_variavel], subset[segunda_variavel],\n"
     ]
    },
    {
     "name": "stdout",
     "output_type": "stream",
     "text": [
      "-----------------------------------------------------------------\n",
      "SUCESSO! O gráfico foi salvo como 'c:\\Users\\Usuario\\Documents\\ufrj\\gestao\\TrabGest/plots/k6/kmedias_k6_SepalLengthCm_PetalLengthCm.png' na mesma pasta do seu notebook.\n",
      "-----------------------------------------------------------------\n",
      "SepalLengthCm PetalWidthCm  dim1  dim4\n",
      "Backend do Matplotlib alterado para 'Agg'. Iniciando a criação do gráfico em memória...\n",
      "-----------------------------------------------------------------\n",
      "SUCESSO! O gráfico foi salvo como 'c:\\Users\\Usuario\\Documents\\ufrj\\gestao\\TrabGest/plots/k6/kmedias_k6_SepalLengthCm_PetalWidthCm.png' na mesma pasta do seu notebook.\n",
      "-----------------------------------------------------------------\n",
      "SepalWidthCm PetalLengthCm  dim2  dim3\n",
      "Backend do Matplotlib alterado para 'Agg'. Iniciando a criação do gráfico em memória...\n"
     ]
    },
    {
     "name": "stderr",
     "output_type": "stream",
     "text": [
      "C:\\Users\\Usuario\\AppData\\Local\\Temp\\ipykernel_23524\\706736877.py:35: UserWarning: *c* argument looks like a single numeric RGB or RGBA sequence, which should be avoided as value-mapping will have precedence in case its length matches with *x* & *y*.  Please use the *color* keyword-argument or provide a 2D array with a single row if you intend to specify the same RGB or RGBA value for all points.\n",
      "  plt.scatter(subset[primeira_variavel], subset[segunda_variavel],\n",
      "C:\\Users\\Usuario\\AppData\\Local\\Temp\\ipykernel_23524\\706736877.py:35: UserWarning: *c* argument looks like a single numeric RGB or RGBA sequence, which should be avoided as value-mapping will have precedence in case its length matches with *x* & *y*.  Please use the *color* keyword-argument or provide a 2D array with a single row if you intend to specify the same RGB or RGBA value for all points.\n",
      "  plt.scatter(subset[primeira_variavel], subset[segunda_variavel],\n"
     ]
    },
    {
     "name": "stdout",
     "output_type": "stream",
     "text": [
      "-----------------------------------------------------------------\n",
      "SUCESSO! O gráfico foi salvo como 'c:\\Users\\Usuario\\Documents\\ufrj\\gestao\\TrabGest/plots/k6/kmedias_k6_SepalWidthCm_PetalLengthCm.png' na mesma pasta do seu notebook.\n",
      "-----------------------------------------------------------------\n",
      "SepalWidthCm PetalWidthCm  dim2  dim4\n",
      "Backend do Matplotlib alterado para 'Agg'. Iniciando a criação do gráfico em memória...\n",
      "-----------------------------------------------------------------\n",
      "SUCESSO! O gráfico foi salvo como 'c:\\Users\\Usuario\\Documents\\ufrj\\gestao\\TrabGest/plots/k6/kmedias_k6_SepalWidthCm_PetalWidthCm.png' na mesma pasta do seu notebook.\n",
      "-----------------------------------------------------------------\n",
      "PetalLengthCm PetalWidthCm  dim3  dim4\n",
      "Backend do Matplotlib alterado para 'Agg'. Iniciando a criação do gráfico em memória...\n"
     ]
    },
    {
     "name": "stderr",
     "output_type": "stream",
     "text": [
      "C:\\Users\\Usuario\\AppData\\Local\\Temp\\ipykernel_23524\\706736877.py:35: UserWarning: *c* argument looks like a single numeric RGB or RGBA sequence, which should be avoided as value-mapping will have precedence in case its length matches with *x* & *y*.  Please use the *color* keyword-argument or provide a 2D array with a single row if you intend to specify the same RGB or RGBA value for all points.\n",
      "  plt.scatter(subset[primeira_variavel], subset[segunda_variavel],\n",
      "C:\\Users\\Usuario\\AppData\\Local\\Temp\\ipykernel_23524\\706736877.py:35: UserWarning: *c* argument looks like a single numeric RGB or RGBA sequence, which should be avoided as value-mapping will have precedence in case its length matches with *x* & *y*.  Please use the *color* keyword-argument or provide a 2D array with a single row if you intend to specify the same RGB or RGBA value for all points.\n",
      "  plt.scatter(subset[primeira_variavel], subset[segunda_variavel],\n"
     ]
    },
    {
     "name": "stdout",
     "output_type": "stream",
     "text": [
      "-----------------------------------------------------------------\n",
      "SUCESSO! O gráfico foi salvo como 'c:\\Users\\Usuario\\Documents\\ufrj\\gestao\\TrabGest/plots/k6/kmedias_k6_PetalLengthCm_PetalWidthCm.png' na mesma pasta do seu notebook.\n",
      "-----------------------------------------------------------------\n",
      "SepalLengthCm SepalWidthCm  dim1  dim2\n",
      "Backend do Matplotlib alterado para 'Agg'. Iniciando a criação do gráfico em memória...\n",
      "-----------------------------------------------------------------\n",
      "SUCESSO! O gráfico foi salvo como 'c:\\Users\\Usuario\\Documents\\ufrj\\gestao\\TrabGest/plots/k7/kmedias_k7_SepalLengthCm_SepalWidthCm.png' na mesma pasta do seu notebook.\n",
      "-----------------------------------------------------------------\n",
      "SepalLengthCm PetalLengthCm  dim1  dim3\n",
      "Backend do Matplotlib alterado para 'Agg'. Iniciando a criação do gráfico em memória...\n"
     ]
    },
    {
     "name": "stderr",
     "output_type": "stream",
     "text": [
      "C:\\Users\\Usuario\\AppData\\Local\\Temp\\ipykernel_23524\\706736877.py:35: UserWarning: *c* argument looks like a single numeric RGB or RGBA sequence, which should be avoided as value-mapping will have precedence in case its length matches with *x* & *y*.  Please use the *color* keyword-argument or provide a 2D array with a single row if you intend to specify the same RGB or RGBA value for all points.\n",
      "  plt.scatter(subset[primeira_variavel], subset[segunda_variavel],\n",
      "C:\\Users\\Usuario\\AppData\\Local\\Temp\\ipykernel_23524\\706736877.py:35: UserWarning: *c* argument looks like a single numeric RGB or RGBA sequence, which should be avoided as value-mapping will have precedence in case its length matches with *x* & *y*.  Please use the *color* keyword-argument or provide a 2D array with a single row if you intend to specify the same RGB or RGBA value for all points.\n",
      "  plt.scatter(subset[primeira_variavel], subset[segunda_variavel],\n"
     ]
    },
    {
     "name": "stdout",
     "output_type": "stream",
     "text": [
      "-----------------------------------------------------------------\n",
      "SUCESSO! O gráfico foi salvo como 'c:\\Users\\Usuario\\Documents\\ufrj\\gestao\\TrabGest/plots/k7/kmedias_k7_SepalLengthCm_PetalLengthCm.png' na mesma pasta do seu notebook.\n",
      "-----------------------------------------------------------------\n",
      "SepalLengthCm PetalWidthCm  dim1  dim4\n",
      "Backend do Matplotlib alterado para 'Agg'. Iniciando a criação do gráfico em memória...\n",
      "-----------------------------------------------------------------\n",
      "SUCESSO! O gráfico foi salvo como 'c:\\Users\\Usuario\\Documents\\ufrj\\gestao\\TrabGest/plots/k7/kmedias_k7_SepalLengthCm_PetalWidthCm.png' na mesma pasta do seu notebook.\n",
      "-----------------------------------------------------------------\n",
      "SepalWidthCm PetalLengthCm  dim2  dim3\n",
      "Backend do Matplotlib alterado para 'Agg'. Iniciando a criação do gráfico em memória...\n"
     ]
    },
    {
     "name": "stderr",
     "output_type": "stream",
     "text": [
      "C:\\Users\\Usuario\\AppData\\Local\\Temp\\ipykernel_23524\\706736877.py:35: UserWarning: *c* argument looks like a single numeric RGB or RGBA sequence, which should be avoided as value-mapping will have precedence in case its length matches with *x* & *y*.  Please use the *color* keyword-argument or provide a 2D array with a single row if you intend to specify the same RGB or RGBA value for all points.\n",
      "  plt.scatter(subset[primeira_variavel], subset[segunda_variavel],\n",
      "C:\\Users\\Usuario\\AppData\\Local\\Temp\\ipykernel_23524\\706736877.py:35: UserWarning: *c* argument looks like a single numeric RGB or RGBA sequence, which should be avoided as value-mapping will have precedence in case its length matches with *x* & *y*.  Please use the *color* keyword-argument or provide a 2D array with a single row if you intend to specify the same RGB or RGBA value for all points.\n",
      "  plt.scatter(subset[primeira_variavel], subset[segunda_variavel],\n"
     ]
    },
    {
     "name": "stdout",
     "output_type": "stream",
     "text": [
      "-----------------------------------------------------------------\n",
      "SUCESSO! O gráfico foi salvo como 'c:\\Users\\Usuario\\Documents\\ufrj\\gestao\\TrabGest/plots/k7/kmedias_k7_SepalWidthCm_PetalLengthCm.png' na mesma pasta do seu notebook.\n",
      "-----------------------------------------------------------------\n",
      "SepalWidthCm PetalWidthCm  dim2  dim4\n",
      "Backend do Matplotlib alterado para 'Agg'. Iniciando a criação do gráfico em memória...\n",
      "-----------------------------------------------------------------\n",
      "SUCESSO! O gráfico foi salvo como 'c:\\Users\\Usuario\\Documents\\ufrj\\gestao\\TrabGest/plots/k7/kmedias_k7_SepalWidthCm_PetalWidthCm.png' na mesma pasta do seu notebook.\n",
      "-----------------------------------------------------------------\n",
      "PetalLengthCm PetalWidthCm  dim3  dim4\n",
      "Backend do Matplotlib alterado para 'Agg'. Iniciando a criação do gráfico em memória...\n"
     ]
    },
    {
     "name": "stderr",
     "output_type": "stream",
     "text": [
      "C:\\Users\\Usuario\\AppData\\Local\\Temp\\ipykernel_23524\\706736877.py:35: UserWarning: *c* argument looks like a single numeric RGB or RGBA sequence, which should be avoided as value-mapping will have precedence in case its length matches with *x* & *y*.  Please use the *color* keyword-argument or provide a 2D array with a single row if you intend to specify the same RGB or RGBA value for all points.\n",
      "  plt.scatter(subset[primeira_variavel], subset[segunda_variavel],\n",
      "C:\\Users\\Usuario\\AppData\\Local\\Temp\\ipykernel_23524\\706736877.py:35: UserWarning: *c* argument looks like a single numeric RGB or RGBA sequence, which should be avoided as value-mapping will have precedence in case its length matches with *x* & *y*.  Please use the *color* keyword-argument or provide a 2D array with a single row if you intend to specify the same RGB or RGBA value for all points.\n",
      "  plt.scatter(subset[primeira_variavel], subset[segunda_variavel],\n"
     ]
    },
    {
     "name": "stdout",
     "output_type": "stream",
     "text": [
      "-----------------------------------------------------------------\n",
      "SUCESSO! O gráfico foi salvo como 'c:\\Users\\Usuario\\Documents\\ufrj\\gestao\\TrabGest/plots/k7/kmedias_k7_PetalLengthCm_PetalWidthCm.png' na mesma pasta do seu notebook.\n",
      "-----------------------------------------------------------------\n",
      "SepalLengthCm SepalWidthCm  dim1  dim2\n",
      "Backend do Matplotlib alterado para 'Agg'. Iniciando a criação do gráfico em memória...\n",
      "-----------------------------------------------------------------\n",
      "SUCESSO! O gráfico foi salvo como 'c:\\Users\\Usuario\\Documents\\ufrj\\gestao\\TrabGest/plots/k8/kmedias_k8_SepalLengthCm_SepalWidthCm.png' na mesma pasta do seu notebook.\n",
      "-----------------------------------------------------------------\n",
      "SepalLengthCm PetalLengthCm  dim1  dim3\n",
      "Backend do Matplotlib alterado para 'Agg'. Iniciando a criação do gráfico em memória...\n"
     ]
    },
    {
     "name": "stderr",
     "output_type": "stream",
     "text": [
      "C:\\Users\\Usuario\\AppData\\Local\\Temp\\ipykernel_23524\\706736877.py:35: UserWarning: *c* argument looks like a single numeric RGB or RGBA sequence, which should be avoided as value-mapping will have precedence in case its length matches with *x* & *y*.  Please use the *color* keyword-argument or provide a 2D array with a single row if you intend to specify the same RGB or RGBA value for all points.\n",
      "  plt.scatter(subset[primeira_variavel], subset[segunda_variavel],\n",
      "C:\\Users\\Usuario\\AppData\\Local\\Temp\\ipykernel_23524\\706736877.py:35: UserWarning: *c* argument looks like a single numeric RGB or RGBA sequence, which should be avoided as value-mapping will have precedence in case its length matches with *x* & *y*.  Please use the *color* keyword-argument or provide a 2D array with a single row if you intend to specify the same RGB or RGBA value for all points.\n",
      "  plt.scatter(subset[primeira_variavel], subset[segunda_variavel],\n"
     ]
    },
    {
     "name": "stdout",
     "output_type": "stream",
     "text": [
      "-----------------------------------------------------------------\n",
      "SUCESSO! O gráfico foi salvo como 'c:\\Users\\Usuario\\Documents\\ufrj\\gestao\\TrabGest/plots/k8/kmedias_k8_SepalLengthCm_PetalLengthCm.png' na mesma pasta do seu notebook.\n",
      "-----------------------------------------------------------------\n",
      "SepalLengthCm PetalWidthCm  dim1  dim4\n",
      "Backend do Matplotlib alterado para 'Agg'. Iniciando a criação do gráfico em memória...\n",
      "-----------------------------------------------------------------\n",
      "SUCESSO! O gráfico foi salvo como 'c:\\Users\\Usuario\\Documents\\ufrj\\gestao\\TrabGest/plots/k8/kmedias_k8_SepalLengthCm_PetalWidthCm.png' na mesma pasta do seu notebook.\n",
      "-----------------------------------------------------------------\n",
      "SepalWidthCm PetalLengthCm  dim2  dim3\n",
      "Backend do Matplotlib alterado para 'Agg'. Iniciando a criação do gráfico em memória...\n"
     ]
    },
    {
     "name": "stderr",
     "output_type": "stream",
     "text": [
      "C:\\Users\\Usuario\\AppData\\Local\\Temp\\ipykernel_23524\\706736877.py:35: UserWarning: *c* argument looks like a single numeric RGB or RGBA sequence, which should be avoided as value-mapping will have precedence in case its length matches with *x* & *y*.  Please use the *color* keyword-argument or provide a 2D array with a single row if you intend to specify the same RGB or RGBA value for all points.\n",
      "  plt.scatter(subset[primeira_variavel], subset[segunda_variavel],\n",
      "C:\\Users\\Usuario\\AppData\\Local\\Temp\\ipykernel_23524\\706736877.py:35: UserWarning: *c* argument looks like a single numeric RGB or RGBA sequence, which should be avoided as value-mapping will have precedence in case its length matches with *x* & *y*.  Please use the *color* keyword-argument or provide a 2D array with a single row if you intend to specify the same RGB or RGBA value for all points.\n",
      "  plt.scatter(subset[primeira_variavel], subset[segunda_variavel],\n"
     ]
    },
    {
     "name": "stdout",
     "output_type": "stream",
     "text": [
      "-----------------------------------------------------------------\n",
      "SUCESSO! O gráfico foi salvo como 'c:\\Users\\Usuario\\Documents\\ufrj\\gestao\\TrabGest/plots/k8/kmedias_k8_SepalWidthCm_PetalLengthCm.png' na mesma pasta do seu notebook.\n",
      "-----------------------------------------------------------------\n",
      "SepalWidthCm PetalWidthCm  dim2  dim4\n",
      "Backend do Matplotlib alterado para 'Agg'. Iniciando a criação do gráfico em memória...\n",
      "-----------------------------------------------------------------\n",
      "SUCESSO! O gráfico foi salvo como 'c:\\Users\\Usuario\\Documents\\ufrj\\gestao\\TrabGest/plots/k8/kmedias_k8_SepalWidthCm_PetalWidthCm.png' na mesma pasta do seu notebook.\n",
      "-----------------------------------------------------------------\n",
      "PetalLengthCm PetalWidthCm  dim3  dim4\n",
      "Backend do Matplotlib alterado para 'Agg'. Iniciando a criação do gráfico em memória...\n"
     ]
    },
    {
     "name": "stderr",
     "output_type": "stream",
     "text": [
      "C:\\Users\\Usuario\\AppData\\Local\\Temp\\ipykernel_23524\\706736877.py:35: UserWarning: *c* argument looks like a single numeric RGB or RGBA sequence, which should be avoided as value-mapping will have precedence in case its length matches with *x* & *y*.  Please use the *color* keyword-argument or provide a 2D array with a single row if you intend to specify the same RGB or RGBA value for all points.\n",
      "  plt.scatter(subset[primeira_variavel], subset[segunda_variavel],\n",
      "C:\\Users\\Usuario\\AppData\\Local\\Temp\\ipykernel_23524\\706736877.py:35: UserWarning: *c* argument looks like a single numeric RGB or RGBA sequence, which should be avoided as value-mapping will have precedence in case its length matches with *x* & *y*.  Please use the *color* keyword-argument or provide a 2D array with a single row if you intend to specify the same RGB or RGBA value for all points.\n",
      "  plt.scatter(subset[primeira_variavel], subset[segunda_variavel],\n"
     ]
    },
    {
     "name": "stdout",
     "output_type": "stream",
     "text": [
      "-----------------------------------------------------------------\n",
      "SUCESSO! O gráfico foi salvo como 'c:\\Users\\Usuario\\Documents\\ufrj\\gestao\\TrabGest/plots/k8/kmedias_k8_PetalLengthCm_PetalWidthCm.png' na mesma pasta do seu notebook.\n",
      "-----------------------------------------------------------------\n",
      "SepalLengthCm SepalWidthCm  dim1  dim2\n",
      "Backend do Matplotlib alterado para 'Agg'. Iniciando a criação do gráfico em memória...\n",
      "-----------------------------------------------------------------\n",
      "SUCESSO! O gráfico foi salvo como 'c:\\Users\\Usuario\\Documents\\ufrj\\gestao\\TrabGest/plots/k9/kmedias_k9_SepalLengthCm_SepalWidthCm.png' na mesma pasta do seu notebook.\n",
      "-----------------------------------------------------------------\n",
      "SepalLengthCm PetalLengthCm  dim1  dim3\n",
      "Backend do Matplotlib alterado para 'Agg'. Iniciando a criação do gráfico em memória...\n"
     ]
    },
    {
     "name": "stderr",
     "output_type": "stream",
     "text": [
      "C:\\Users\\Usuario\\AppData\\Local\\Temp\\ipykernel_23524\\706736877.py:35: UserWarning: *c* argument looks like a single numeric RGB or RGBA sequence, which should be avoided as value-mapping will have precedence in case its length matches with *x* & *y*.  Please use the *color* keyword-argument or provide a 2D array with a single row if you intend to specify the same RGB or RGBA value for all points.\n",
      "  plt.scatter(subset[primeira_variavel], subset[segunda_variavel],\n",
      "C:\\Users\\Usuario\\AppData\\Local\\Temp\\ipykernel_23524\\706736877.py:35: UserWarning: *c* argument looks like a single numeric RGB or RGBA sequence, which should be avoided as value-mapping will have precedence in case its length matches with *x* & *y*.  Please use the *color* keyword-argument or provide a 2D array with a single row if you intend to specify the same RGB or RGBA value for all points.\n",
      "  plt.scatter(subset[primeira_variavel], subset[segunda_variavel],\n"
     ]
    },
    {
     "name": "stdout",
     "output_type": "stream",
     "text": [
      "-----------------------------------------------------------------\n",
      "SUCESSO! O gráfico foi salvo como 'c:\\Users\\Usuario\\Documents\\ufrj\\gestao\\TrabGest/plots/k9/kmedias_k9_SepalLengthCm_PetalLengthCm.png' na mesma pasta do seu notebook.\n",
      "-----------------------------------------------------------------\n",
      "SepalLengthCm PetalWidthCm  dim1  dim4\n",
      "Backend do Matplotlib alterado para 'Agg'. Iniciando a criação do gráfico em memória...\n",
      "-----------------------------------------------------------------\n",
      "SUCESSO! O gráfico foi salvo como 'c:\\Users\\Usuario\\Documents\\ufrj\\gestao\\TrabGest/plots/k9/kmedias_k9_SepalLengthCm_PetalWidthCm.png' na mesma pasta do seu notebook.\n",
      "-----------------------------------------------------------------\n",
      "SepalWidthCm PetalLengthCm  dim2  dim3\n",
      "Backend do Matplotlib alterado para 'Agg'. Iniciando a criação do gráfico em memória...\n"
     ]
    },
    {
     "name": "stderr",
     "output_type": "stream",
     "text": [
      "C:\\Users\\Usuario\\AppData\\Local\\Temp\\ipykernel_23524\\706736877.py:35: UserWarning: *c* argument looks like a single numeric RGB or RGBA sequence, which should be avoided as value-mapping will have precedence in case its length matches with *x* & *y*.  Please use the *color* keyword-argument or provide a 2D array with a single row if you intend to specify the same RGB or RGBA value for all points.\n",
      "  plt.scatter(subset[primeira_variavel], subset[segunda_variavel],\n",
      "C:\\Users\\Usuario\\AppData\\Local\\Temp\\ipykernel_23524\\706736877.py:35: UserWarning: *c* argument looks like a single numeric RGB or RGBA sequence, which should be avoided as value-mapping will have precedence in case its length matches with *x* & *y*.  Please use the *color* keyword-argument or provide a 2D array with a single row if you intend to specify the same RGB or RGBA value for all points.\n",
      "  plt.scatter(subset[primeira_variavel], subset[segunda_variavel],\n"
     ]
    },
    {
     "name": "stdout",
     "output_type": "stream",
     "text": [
      "-----------------------------------------------------------------\n",
      "SUCESSO! O gráfico foi salvo como 'c:\\Users\\Usuario\\Documents\\ufrj\\gestao\\TrabGest/plots/k9/kmedias_k9_SepalWidthCm_PetalLengthCm.png' na mesma pasta do seu notebook.\n",
      "-----------------------------------------------------------------\n",
      "SepalWidthCm PetalWidthCm  dim2  dim4\n",
      "Backend do Matplotlib alterado para 'Agg'. Iniciando a criação do gráfico em memória...\n",
      "-----------------------------------------------------------------\n",
      "SUCESSO! O gráfico foi salvo como 'c:\\Users\\Usuario\\Documents\\ufrj\\gestao\\TrabGest/plots/k9/kmedias_k9_SepalWidthCm_PetalWidthCm.png' na mesma pasta do seu notebook.\n",
      "-----------------------------------------------------------------\n",
      "PetalLengthCm PetalWidthCm  dim3  dim4\n",
      "Backend do Matplotlib alterado para 'Agg'. Iniciando a criação do gráfico em memória...\n"
     ]
    },
    {
     "name": "stderr",
     "output_type": "stream",
     "text": [
      "C:\\Users\\Usuario\\AppData\\Local\\Temp\\ipykernel_23524\\706736877.py:35: UserWarning: *c* argument looks like a single numeric RGB or RGBA sequence, which should be avoided as value-mapping will have precedence in case its length matches with *x* & *y*.  Please use the *color* keyword-argument or provide a 2D array with a single row if you intend to specify the same RGB or RGBA value for all points.\n",
      "  plt.scatter(subset[primeira_variavel], subset[segunda_variavel],\n",
      "C:\\Users\\Usuario\\AppData\\Local\\Temp\\ipykernel_23524\\706736877.py:35: UserWarning: *c* argument looks like a single numeric RGB or RGBA sequence, which should be avoided as value-mapping will have precedence in case its length matches with *x* & *y*.  Please use the *color* keyword-argument or provide a 2D array with a single row if you intend to specify the same RGB or RGBA value for all points.\n",
      "  plt.scatter(subset[primeira_variavel], subset[segunda_variavel],\n"
     ]
    },
    {
     "name": "stdout",
     "output_type": "stream",
     "text": [
      "-----------------------------------------------------------------\n",
      "SUCESSO! O gráfico foi salvo como 'c:\\Users\\Usuario\\Documents\\ufrj\\gestao\\TrabGest/plots/k9/kmedias_k9_PetalLengthCm_PetalWidthCm.png' na mesma pasta do seu notebook.\n",
      "-----------------------------------------------------------------\n",
      "SepalLengthCm SepalWidthCm  dim1  dim2\n",
      "Backend do Matplotlib alterado para 'Agg'. Iniciando a criação do gráfico em memória...\n",
      "-----------------------------------------------------------------\n",
      "SUCESSO! O gráfico foi salvo como 'c:\\Users\\Usuario\\Documents\\ufrj\\gestao\\TrabGest/plots/k10/kmedias_k10_SepalLengthCm_SepalWidthCm.png' na mesma pasta do seu notebook.\n",
      "-----------------------------------------------------------------\n",
      "SepalLengthCm PetalLengthCm  dim1  dim3\n",
      "Backend do Matplotlib alterado para 'Agg'. Iniciando a criação do gráfico em memória...\n"
     ]
    },
    {
     "name": "stderr",
     "output_type": "stream",
     "text": [
      "C:\\Users\\Usuario\\AppData\\Local\\Temp\\ipykernel_23524\\706736877.py:35: UserWarning: *c* argument looks like a single numeric RGB or RGBA sequence, which should be avoided as value-mapping will have precedence in case its length matches with *x* & *y*.  Please use the *color* keyword-argument or provide a 2D array with a single row if you intend to specify the same RGB or RGBA value for all points.\n",
      "  plt.scatter(subset[primeira_variavel], subset[segunda_variavel],\n",
      "C:\\Users\\Usuario\\AppData\\Local\\Temp\\ipykernel_23524\\706736877.py:35: UserWarning: *c* argument looks like a single numeric RGB or RGBA sequence, which should be avoided as value-mapping will have precedence in case its length matches with *x* & *y*.  Please use the *color* keyword-argument or provide a 2D array with a single row if you intend to specify the same RGB or RGBA value for all points.\n",
      "  plt.scatter(subset[primeira_variavel], subset[segunda_variavel],\n"
     ]
    },
    {
     "name": "stdout",
     "output_type": "stream",
     "text": [
      "-----------------------------------------------------------------\n",
      "SUCESSO! O gráfico foi salvo como 'c:\\Users\\Usuario\\Documents\\ufrj\\gestao\\TrabGest/plots/k10/kmedias_k10_SepalLengthCm_PetalLengthCm.png' na mesma pasta do seu notebook.\n",
      "-----------------------------------------------------------------\n",
      "SepalLengthCm PetalWidthCm  dim1  dim4\n",
      "Backend do Matplotlib alterado para 'Agg'. Iniciando a criação do gráfico em memória...\n",
      "-----------------------------------------------------------------\n",
      "SUCESSO! O gráfico foi salvo como 'c:\\Users\\Usuario\\Documents\\ufrj\\gestao\\TrabGest/plots/k10/kmedias_k10_SepalLengthCm_PetalWidthCm.png' na mesma pasta do seu notebook.\n",
      "-----------------------------------------------------------------\n",
      "SepalWidthCm PetalLengthCm  dim2  dim3\n",
      "Backend do Matplotlib alterado para 'Agg'. Iniciando a criação do gráfico em memória...\n"
     ]
    },
    {
     "name": "stderr",
     "output_type": "stream",
     "text": [
      "C:\\Users\\Usuario\\AppData\\Local\\Temp\\ipykernel_23524\\706736877.py:35: UserWarning: *c* argument looks like a single numeric RGB or RGBA sequence, which should be avoided as value-mapping will have precedence in case its length matches with *x* & *y*.  Please use the *color* keyword-argument or provide a 2D array with a single row if you intend to specify the same RGB or RGBA value for all points.\n",
      "  plt.scatter(subset[primeira_variavel], subset[segunda_variavel],\n",
      "C:\\Users\\Usuario\\AppData\\Local\\Temp\\ipykernel_23524\\706736877.py:35: UserWarning: *c* argument looks like a single numeric RGB or RGBA sequence, which should be avoided as value-mapping will have precedence in case its length matches with *x* & *y*.  Please use the *color* keyword-argument or provide a 2D array with a single row if you intend to specify the same RGB or RGBA value for all points.\n",
      "  plt.scatter(subset[primeira_variavel], subset[segunda_variavel],\n"
     ]
    },
    {
     "name": "stdout",
     "output_type": "stream",
     "text": [
      "-----------------------------------------------------------------\n",
      "SUCESSO! O gráfico foi salvo como 'c:\\Users\\Usuario\\Documents\\ufrj\\gestao\\TrabGest/plots/k10/kmedias_k10_SepalWidthCm_PetalLengthCm.png' na mesma pasta do seu notebook.\n",
      "-----------------------------------------------------------------\n",
      "SepalWidthCm PetalWidthCm  dim2  dim4\n",
      "Backend do Matplotlib alterado para 'Agg'. Iniciando a criação do gráfico em memória...\n",
      "-----------------------------------------------------------------\n",
      "SUCESSO! O gráfico foi salvo como 'c:\\Users\\Usuario\\Documents\\ufrj\\gestao\\TrabGest/plots/k10/kmedias_k10_SepalWidthCm_PetalWidthCm.png' na mesma pasta do seu notebook.\n",
      "-----------------------------------------------------------------\n",
      "PetalLengthCm PetalWidthCm  dim3  dim4\n",
      "Backend do Matplotlib alterado para 'Agg'. Iniciando a criação do gráfico em memória...\n"
     ]
    },
    {
     "name": "stderr",
     "output_type": "stream",
     "text": [
      "C:\\Users\\Usuario\\AppData\\Local\\Temp\\ipykernel_23524\\706736877.py:35: UserWarning: *c* argument looks like a single numeric RGB or RGBA sequence, which should be avoided as value-mapping will have precedence in case its length matches with *x* & *y*.  Please use the *color* keyword-argument or provide a 2D array with a single row if you intend to specify the same RGB or RGBA value for all points.\n",
      "  plt.scatter(subset[primeira_variavel], subset[segunda_variavel],\n",
      "C:\\Users\\Usuario\\AppData\\Local\\Temp\\ipykernel_23524\\706736877.py:35: UserWarning: *c* argument looks like a single numeric RGB or RGBA sequence, which should be avoided as value-mapping will have precedence in case its length matches with *x* & *y*.  Please use the *color* keyword-argument or provide a 2D array with a single row if you intend to specify the same RGB or RGBA value for all points.\n",
      "  plt.scatter(subset[primeira_variavel], subset[segunda_variavel],\n"
     ]
    },
    {
     "name": "stdout",
     "output_type": "stream",
     "text": [
      "-----------------------------------------------------------------\n",
      "SUCESSO! O gráfico foi salvo como 'c:\\Users\\Usuario\\Documents\\ufrj\\gestao\\TrabGest/plots/k10/kmedias_k10_PetalLengthCm_PetalWidthCm.png' na mesma pasta do seu notebook.\n",
      "-----------------------------------------------------------------\n",
      "SepalLengthCm SepalWidthCm  dim1  dim2\n",
      "Backend do Matplotlib alterado para 'Agg'. Iniciando a criação do gráfico em memória...\n",
      "-----------------------------------------------------------------\n",
      "SUCESSO! O gráfico foi salvo como 'c:\\Users\\Usuario\\Documents\\ufrj\\gestao\\TrabGest/plots/k11/kmedias_k11_SepalLengthCm_SepalWidthCm.png' na mesma pasta do seu notebook.\n",
      "-----------------------------------------------------------------\n",
      "SepalLengthCm PetalLengthCm  dim1  dim3\n",
      "Backend do Matplotlib alterado para 'Agg'. Iniciando a criação do gráfico em memória...\n"
     ]
    },
    {
     "name": "stderr",
     "output_type": "stream",
     "text": [
      "C:\\Users\\Usuario\\AppData\\Local\\Temp\\ipykernel_23524\\706736877.py:35: UserWarning: *c* argument looks like a single numeric RGB or RGBA sequence, which should be avoided as value-mapping will have precedence in case its length matches with *x* & *y*.  Please use the *color* keyword-argument or provide a 2D array with a single row if you intend to specify the same RGB or RGBA value for all points.\n",
      "  plt.scatter(subset[primeira_variavel], subset[segunda_variavel],\n",
      "C:\\Users\\Usuario\\AppData\\Local\\Temp\\ipykernel_23524\\706736877.py:35: UserWarning: *c* argument looks like a single numeric RGB or RGBA sequence, which should be avoided as value-mapping will have precedence in case its length matches with *x* & *y*.  Please use the *color* keyword-argument or provide a 2D array with a single row if you intend to specify the same RGB or RGBA value for all points.\n",
      "  plt.scatter(subset[primeira_variavel], subset[segunda_variavel],\n"
     ]
    },
    {
     "name": "stdout",
     "output_type": "stream",
     "text": [
      "-----------------------------------------------------------------\n",
      "SUCESSO! O gráfico foi salvo como 'c:\\Users\\Usuario\\Documents\\ufrj\\gestao\\TrabGest/plots/k11/kmedias_k11_SepalLengthCm_PetalLengthCm.png' na mesma pasta do seu notebook.\n",
      "-----------------------------------------------------------------\n",
      "SepalLengthCm PetalWidthCm  dim1  dim4\n",
      "Backend do Matplotlib alterado para 'Agg'. Iniciando a criação do gráfico em memória...\n",
      "-----------------------------------------------------------------\n",
      "SUCESSO! O gráfico foi salvo como 'c:\\Users\\Usuario\\Documents\\ufrj\\gestao\\TrabGest/plots/k11/kmedias_k11_SepalLengthCm_PetalWidthCm.png' na mesma pasta do seu notebook.\n",
      "-----------------------------------------------------------------\n",
      "SepalWidthCm PetalLengthCm  dim2  dim3\n",
      "Backend do Matplotlib alterado para 'Agg'. Iniciando a criação do gráfico em memória...\n"
     ]
    },
    {
     "name": "stderr",
     "output_type": "stream",
     "text": [
      "C:\\Users\\Usuario\\AppData\\Local\\Temp\\ipykernel_23524\\706736877.py:35: UserWarning: *c* argument looks like a single numeric RGB or RGBA sequence, which should be avoided as value-mapping will have precedence in case its length matches with *x* & *y*.  Please use the *color* keyword-argument or provide a 2D array with a single row if you intend to specify the same RGB or RGBA value for all points.\n",
      "  plt.scatter(subset[primeira_variavel], subset[segunda_variavel],\n",
      "C:\\Users\\Usuario\\AppData\\Local\\Temp\\ipykernel_23524\\706736877.py:35: UserWarning: *c* argument looks like a single numeric RGB or RGBA sequence, which should be avoided as value-mapping will have precedence in case its length matches with *x* & *y*.  Please use the *color* keyword-argument or provide a 2D array with a single row if you intend to specify the same RGB or RGBA value for all points.\n",
      "  plt.scatter(subset[primeira_variavel], subset[segunda_variavel],\n"
     ]
    },
    {
     "name": "stdout",
     "output_type": "stream",
     "text": [
      "-----------------------------------------------------------------\n",
      "SUCESSO! O gráfico foi salvo como 'c:\\Users\\Usuario\\Documents\\ufrj\\gestao\\TrabGest/plots/k11/kmedias_k11_SepalWidthCm_PetalLengthCm.png' na mesma pasta do seu notebook.\n",
      "-----------------------------------------------------------------\n",
      "SepalWidthCm PetalWidthCm  dim2  dim4\n",
      "Backend do Matplotlib alterado para 'Agg'. Iniciando a criação do gráfico em memória...\n",
      "-----------------------------------------------------------------\n",
      "SUCESSO! O gráfico foi salvo como 'c:\\Users\\Usuario\\Documents\\ufrj\\gestao\\TrabGest/plots/k11/kmedias_k11_SepalWidthCm_PetalWidthCm.png' na mesma pasta do seu notebook.\n",
      "-----------------------------------------------------------------\n",
      "PetalLengthCm PetalWidthCm  dim3  dim4\n",
      "Backend do Matplotlib alterado para 'Agg'. Iniciando a criação do gráfico em memória...\n"
     ]
    },
    {
     "name": "stderr",
     "output_type": "stream",
     "text": [
      "C:\\Users\\Usuario\\AppData\\Local\\Temp\\ipykernel_23524\\706736877.py:35: UserWarning: *c* argument looks like a single numeric RGB or RGBA sequence, which should be avoided as value-mapping will have precedence in case its length matches with *x* & *y*.  Please use the *color* keyword-argument or provide a 2D array with a single row if you intend to specify the same RGB or RGBA value for all points.\n",
      "  plt.scatter(subset[primeira_variavel], subset[segunda_variavel],\n",
      "C:\\Users\\Usuario\\AppData\\Local\\Temp\\ipykernel_23524\\706736877.py:35: UserWarning: *c* argument looks like a single numeric RGB or RGBA sequence, which should be avoided as value-mapping will have precedence in case its length matches with *x* & *y*.  Please use the *color* keyword-argument or provide a 2D array with a single row if you intend to specify the same RGB or RGBA value for all points.\n",
      "  plt.scatter(subset[primeira_variavel], subset[segunda_variavel],\n"
     ]
    },
    {
     "name": "stdout",
     "output_type": "stream",
     "text": [
      "-----------------------------------------------------------------\n",
      "SUCESSO! O gráfico foi salvo como 'c:\\Users\\Usuario\\Documents\\ufrj\\gestao\\TrabGest/plots/k11/kmedias_k11_PetalLengthCm_PetalWidthCm.png' na mesma pasta do seu notebook.\n",
      "-----------------------------------------------------------------\n",
      "SepalLengthCm SepalWidthCm  dim1  dim2\n",
      "Backend do Matplotlib alterado para 'Agg'. Iniciando a criação do gráfico em memória...\n",
      "-----------------------------------------------------------------\n",
      "SUCESSO! O gráfico foi salvo como 'c:\\Users\\Usuario\\Documents\\ufrj\\gestao\\TrabGest/plots/k12/kmedias_k12_SepalLengthCm_SepalWidthCm.png' na mesma pasta do seu notebook.\n",
      "-----------------------------------------------------------------\n",
      "SepalLengthCm PetalLengthCm  dim1  dim3\n",
      "Backend do Matplotlib alterado para 'Agg'. Iniciando a criação do gráfico em memória...\n"
     ]
    },
    {
     "name": "stderr",
     "output_type": "stream",
     "text": [
      "C:\\Users\\Usuario\\AppData\\Local\\Temp\\ipykernel_23524\\706736877.py:35: UserWarning: *c* argument looks like a single numeric RGB or RGBA sequence, which should be avoided as value-mapping will have precedence in case its length matches with *x* & *y*.  Please use the *color* keyword-argument or provide a 2D array with a single row if you intend to specify the same RGB or RGBA value for all points.\n",
      "  plt.scatter(subset[primeira_variavel], subset[segunda_variavel],\n",
      "C:\\Users\\Usuario\\AppData\\Local\\Temp\\ipykernel_23524\\706736877.py:35: UserWarning: *c* argument looks like a single numeric RGB or RGBA sequence, which should be avoided as value-mapping will have precedence in case its length matches with *x* & *y*.  Please use the *color* keyword-argument or provide a 2D array with a single row if you intend to specify the same RGB or RGBA value for all points.\n",
      "  plt.scatter(subset[primeira_variavel], subset[segunda_variavel],\n"
     ]
    },
    {
     "name": "stdout",
     "output_type": "stream",
     "text": [
      "-----------------------------------------------------------------\n",
      "SUCESSO! O gráfico foi salvo como 'c:\\Users\\Usuario\\Documents\\ufrj\\gestao\\TrabGest/plots/k12/kmedias_k12_SepalLengthCm_PetalLengthCm.png' na mesma pasta do seu notebook.\n",
      "-----------------------------------------------------------------\n",
      "SepalLengthCm PetalWidthCm  dim1  dim4\n",
      "Backend do Matplotlib alterado para 'Agg'. Iniciando a criação do gráfico em memória...\n",
      "-----------------------------------------------------------------\n",
      "SUCESSO! O gráfico foi salvo como 'c:\\Users\\Usuario\\Documents\\ufrj\\gestao\\TrabGest/plots/k12/kmedias_k12_SepalLengthCm_PetalWidthCm.png' na mesma pasta do seu notebook.\n",
      "-----------------------------------------------------------------\n",
      "SepalWidthCm PetalLengthCm  dim2  dim3\n",
      "Backend do Matplotlib alterado para 'Agg'. Iniciando a criação do gráfico em memória...\n"
     ]
    },
    {
     "name": "stderr",
     "output_type": "stream",
     "text": [
      "C:\\Users\\Usuario\\AppData\\Local\\Temp\\ipykernel_23524\\706736877.py:35: UserWarning: *c* argument looks like a single numeric RGB or RGBA sequence, which should be avoided as value-mapping will have precedence in case its length matches with *x* & *y*.  Please use the *color* keyword-argument or provide a 2D array with a single row if you intend to specify the same RGB or RGBA value for all points.\n",
      "  plt.scatter(subset[primeira_variavel], subset[segunda_variavel],\n",
      "C:\\Users\\Usuario\\AppData\\Local\\Temp\\ipykernel_23524\\706736877.py:35: UserWarning: *c* argument looks like a single numeric RGB or RGBA sequence, which should be avoided as value-mapping will have precedence in case its length matches with *x* & *y*.  Please use the *color* keyword-argument or provide a 2D array with a single row if you intend to specify the same RGB or RGBA value for all points.\n",
      "  plt.scatter(subset[primeira_variavel], subset[segunda_variavel],\n"
     ]
    },
    {
     "name": "stdout",
     "output_type": "stream",
     "text": [
      "-----------------------------------------------------------------\n",
      "SUCESSO! O gráfico foi salvo como 'c:\\Users\\Usuario\\Documents\\ufrj\\gestao\\TrabGest/plots/k12/kmedias_k12_SepalWidthCm_PetalLengthCm.png' na mesma pasta do seu notebook.\n",
      "-----------------------------------------------------------------\n",
      "SepalWidthCm PetalWidthCm  dim2  dim4\n",
      "Backend do Matplotlib alterado para 'Agg'. Iniciando a criação do gráfico em memória...\n",
      "-----------------------------------------------------------------\n",
      "SUCESSO! O gráfico foi salvo como 'c:\\Users\\Usuario\\Documents\\ufrj\\gestao\\TrabGest/plots/k12/kmedias_k12_SepalWidthCm_PetalWidthCm.png' na mesma pasta do seu notebook.\n",
      "-----------------------------------------------------------------\n",
      "PetalLengthCm PetalWidthCm  dim3  dim4\n",
      "Backend do Matplotlib alterado para 'Agg'. Iniciando a criação do gráfico em memória...\n"
     ]
    },
    {
     "name": "stderr",
     "output_type": "stream",
     "text": [
      "C:\\Users\\Usuario\\AppData\\Local\\Temp\\ipykernel_23524\\706736877.py:35: UserWarning: *c* argument looks like a single numeric RGB or RGBA sequence, which should be avoided as value-mapping will have precedence in case its length matches with *x* & *y*.  Please use the *color* keyword-argument or provide a 2D array with a single row if you intend to specify the same RGB or RGBA value for all points.\n",
      "  plt.scatter(subset[primeira_variavel], subset[segunda_variavel],\n",
      "C:\\Users\\Usuario\\AppData\\Local\\Temp\\ipykernel_23524\\706736877.py:35: UserWarning: *c* argument looks like a single numeric RGB or RGBA sequence, which should be avoided as value-mapping will have precedence in case its length matches with *x* & *y*.  Please use the *color* keyword-argument or provide a 2D array with a single row if you intend to specify the same RGB or RGBA value for all points.\n",
      "  plt.scatter(subset[primeira_variavel], subset[segunda_variavel],\n"
     ]
    },
    {
     "name": "stdout",
     "output_type": "stream",
     "text": [
      "-----------------------------------------------------------------\n",
      "SUCESSO! O gráfico foi salvo como 'c:\\Users\\Usuario\\Documents\\ufrj\\gestao\\TrabGest/plots/k12/kmedias_k12_PetalLengthCm_PetalWidthCm.png' na mesma pasta do seu notebook.\n",
      "-----------------------------------------------------------------\n",
      "SepalLengthCm SepalWidthCm  dim1  dim2\n",
      "Backend do Matplotlib alterado para 'Agg'. Iniciando a criação do gráfico em memória...\n",
      "-----------------------------------------------------------------\n",
      "SUCESSO! O gráfico foi salvo como 'c:\\Users\\Usuario\\Documents\\ufrj\\gestao\\TrabGest/plots/k13/kmedias_k13_SepalLengthCm_SepalWidthCm.png' na mesma pasta do seu notebook.\n",
      "-----------------------------------------------------------------\n",
      "SepalLengthCm PetalLengthCm  dim1  dim3\n",
      "Backend do Matplotlib alterado para 'Agg'. Iniciando a criação do gráfico em memória...\n"
     ]
    },
    {
     "name": "stderr",
     "output_type": "stream",
     "text": [
      "C:\\Users\\Usuario\\AppData\\Local\\Temp\\ipykernel_23524\\706736877.py:35: UserWarning: *c* argument looks like a single numeric RGB or RGBA sequence, which should be avoided as value-mapping will have precedence in case its length matches with *x* & *y*.  Please use the *color* keyword-argument or provide a 2D array with a single row if you intend to specify the same RGB or RGBA value for all points.\n",
      "  plt.scatter(subset[primeira_variavel], subset[segunda_variavel],\n",
      "C:\\Users\\Usuario\\AppData\\Local\\Temp\\ipykernel_23524\\706736877.py:35: UserWarning: *c* argument looks like a single numeric RGB or RGBA sequence, which should be avoided as value-mapping will have precedence in case its length matches with *x* & *y*.  Please use the *color* keyword-argument or provide a 2D array with a single row if you intend to specify the same RGB or RGBA value for all points.\n",
      "  plt.scatter(subset[primeira_variavel], subset[segunda_variavel],\n"
     ]
    },
    {
     "name": "stdout",
     "output_type": "stream",
     "text": [
      "-----------------------------------------------------------------\n",
      "SUCESSO! O gráfico foi salvo como 'c:\\Users\\Usuario\\Documents\\ufrj\\gestao\\TrabGest/plots/k13/kmedias_k13_SepalLengthCm_PetalLengthCm.png' na mesma pasta do seu notebook.\n",
      "-----------------------------------------------------------------\n",
      "SepalLengthCm PetalWidthCm  dim1  dim4\n",
      "Backend do Matplotlib alterado para 'Agg'. Iniciando a criação do gráfico em memória...\n",
      "-----------------------------------------------------------------\n",
      "SUCESSO! O gráfico foi salvo como 'c:\\Users\\Usuario\\Documents\\ufrj\\gestao\\TrabGest/plots/k13/kmedias_k13_SepalLengthCm_PetalWidthCm.png' na mesma pasta do seu notebook.\n",
      "-----------------------------------------------------------------\n",
      "SepalWidthCm PetalLengthCm  dim2  dim3\n",
      "Backend do Matplotlib alterado para 'Agg'. Iniciando a criação do gráfico em memória...\n"
     ]
    },
    {
     "name": "stderr",
     "output_type": "stream",
     "text": [
      "C:\\Users\\Usuario\\AppData\\Local\\Temp\\ipykernel_23524\\706736877.py:35: UserWarning: *c* argument looks like a single numeric RGB or RGBA sequence, which should be avoided as value-mapping will have precedence in case its length matches with *x* & *y*.  Please use the *color* keyword-argument or provide a 2D array with a single row if you intend to specify the same RGB or RGBA value for all points.\n",
      "  plt.scatter(subset[primeira_variavel], subset[segunda_variavel],\n",
      "C:\\Users\\Usuario\\AppData\\Local\\Temp\\ipykernel_23524\\706736877.py:35: UserWarning: *c* argument looks like a single numeric RGB or RGBA sequence, which should be avoided as value-mapping will have precedence in case its length matches with *x* & *y*.  Please use the *color* keyword-argument or provide a 2D array with a single row if you intend to specify the same RGB or RGBA value for all points.\n",
      "  plt.scatter(subset[primeira_variavel], subset[segunda_variavel],\n"
     ]
    },
    {
     "name": "stdout",
     "output_type": "stream",
     "text": [
      "-----------------------------------------------------------------\n",
      "SUCESSO! O gráfico foi salvo como 'c:\\Users\\Usuario\\Documents\\ufrj\\gestao\\TrabGest/plots/k13/kmedias_k13_SepalWidthCm_PetalLengthCm.png' na mesma pasta do seu notebook.\n",
      "-----------------------------------------------------------------\n",
      "SepalWidthCm PetalWidthCm  dim2  dim4\n",
      "Backend do Matplotlib alterado para 'Agg'. Iniciando a criação do gráfico em memória...\n",
      "-----------------------------------------------------------------\n",
      "SUCESSO! O gráfico foi salvo como 'c:\\Users\\Usuario\\Documents\\ufrj\\gestao\\TrabGest/plots/k13/kmedias_k13_SepalWidthCm_PetalWidthCm.png' na mesma pasta do seu notebook.\n",
      "-----------------------------------------------------------------\n",
      "PetalLengthCm PetalWidthCm  dim3  dim4\n",
      "Backend do Matplotlib alterado para 'Agg'. Iniciando a criação do gráfico em memória...\n"
     ]
    },
    {
     "name": "stderr",
     "output_type": "stream",
     "text": [
      "C:\\Users\\Usuario\\AppData\\Local\\Temp\\ipykernel_23524\\706736877.py:35: UserWarning: *c* argument looks like a single numeric RGB or RGBA sequence, which should be avoided as value-mapping will have precedence in case its length matches with *x* & *y*.  Please use the *color* keyword-argument or provide a 2D array with a single row if you intend to specify the same RGB or RGBA value for all points.\n",
      "  plt.scatter(subset[primeira_variavel], subset[segunda_variavel],\n",
      "C:\\Users\\Usuario\\AppData\\Local\\Temp\\ipykernel_23524\\706736877.py:35: UserWarning: *c* argument looks like a single numeric RGB or RGBA sequence, which should be avoided as value-mapping will have precedence in case its length matches with *x* & *y*.  Please use the *color* keyword-argument or provide a 2D array with a single row if you intend to specify the same RGB or RGBA value for all points.\n",
      "  plt.scatter(subset[primeira_variavel], subset[segunda_variavel],\n"
     ]
    },
    {
     "name": "stdout",
     "output_type": "stream",
     "text": [
      "-----------------------------------------------------------------\n",
      "SUCESSO! O gráfico foi salvo como 'c:\\Users\\Usuario\\Documents\\ufrj\\gestao\\TrabGest/plots/k13/kmedias_k13_PetalLengthCm_PetalWidthCm.png' na mesma pasta do seu notebook.\n",
      "-----------------------------------------------------------------\n",
      "SepalLengthCm SepalWidthCm  dim1  dim2\n",
      "Backend do Matplotlib alterado para 'Agg'. Iniciando a criação do gráfico em memória...\n",
      "-----------------------------------------------------------------\n",
      "SUCESSO! O gráfico foi salvo como 'c:\\Users\\Usuario\\Documents\\ufrj\\gestao\\TrabGest/plots/k14/kmedias_k14_SepalLengthCm_SepalWidthCm.png' na mesma pasta do seu notebook.\n",
      "-----------------------------------------------------------------\n",
      "SepalLengthCm PetalLengthCm  dim1  dim3\n",
      "Backend do Matplotlib alterado para 'Agg'. Iniciando a criação do gráfico em memória...\n"
     ]
    },
    {
     "name": "stderr",
     "output_type": "stream",
     "text": [
      "C:\\Users\\Usuario\\AppData\\Local\\Temp\\ipykernel_23524\\706736877.py:35: UserWarning: *c* argument looks like a single numeric RGB or RGBA sequence, which should be avoided as value-mapping will have precedence in case its length matches with *x* & *y*.  Please use the *color* keyword-argument or provide a 2D array with a single row if you intend to specify the same RGB or RGBA value for all points.\n",
      "  plt.scatter(subset[primeira_variavel], subset[segunda_variavel],\n",
      "C:\\Users\\Usuario\\AppData\\Local\\Temp\\ipykernel_23524\\706736877.py:35: UserWarning: *c* argument looks like a single numeric RGB or RGBA sequence, which should be avoided as value-mapping will have precedence in case its length matches with *x* & *y*.  Please use the *color* keyword-argument or provide a 2D array with a single row if you intend to specify the same RGB or RGBA value for all points.\n",
      "  plt.scatter(subset[primeira_variavel], subset[segunda_variavel],\n"
     ]
    },
    {
     "name": "stdout",
     "output_type": "stream",
     "text": [
      "-----------------------------------------------------------------\n",
      "SUCESSO! O gráfico foi salvo como 'c:\\Users\\Usuario\\Documents\\ufrj\\gestao\\TrabGest/plots/k14/kmedias_k14_SepalLengthCm_PetalLengthCm.png' na mesma pasta do seu notebook.\n",
      "-----------------------------------------------------------------\n",
      "SepalLengthCm PetalWidthCm  dim1  dim4\n",
      "Backend do Matplotlib alterado para 'Agg'. Iniciando a criação do gráfico em memória...\n",
      "-----------------------------------------------------------------\n",
      "SUCESSO! O gráfico foi salvo como 'c:\\Users\\Usuario\\Documents\\ufrj\\gestao\\TrabGest/plots/k14/kmedias_k14_SepalLengthCm_PetalWidthCm.png' na mesma pasta do seu notebook.\n",
      "-----------------------------------------------------------------\n",
      "SepalWidthCm PetalLengthCm  dim2  dim3\n",
      "Backend do Matplotlib alterado para 'Agg'. Iniciando a criação do gráfico em memória...\n"
     ]
    },
    {
     "name": "stderr",
     "output_type": "stream",
     "text": [
      "C:\\Users\\Usuario\\AppData\\Local\\Temp\\ipykernel_23524\\706736877.py:35: UserWarning: *c* argument looks like a single numeric RGB or RGBA sequence, which should be avoided as value-mapping will have precedence in case its length matches with *x* & *y*.  Please use the *color* keyword-argument or provide a 2D array with a single row if you intend to specify the same RGB or RGBA value for all points.\n",
      "  plt.scatter(subset[primeira_variavel], subset[segunda_variavel],\n",
      "C:\\Users\\Usuario\\AppData\\Local\\Temp\\ipykernel_23524\\706736877.py:35: UserWarning: *c* argument looks like a single numeric RGB or RGBA sequence, which should be avoided as value-mapping will have precedence in case its length matches with *x* & *y*.  Please use the *color* keyword-argument or provide a 2D array with a single row if you intend to specify the same RGB or RGBA value for all points.\n",
      "  plt.scatter(subset[primeira_variavel], subset[segunda_variavel],\n"
     ]
    },
    {
     "name": "stdout",
     "output_type": "stream",
     "text": [
      "-----------------------------------------------------------------\n",
      "SUCESSO! O gráfico foi salvo como 'c:\\Users\\Usuario\\Documents\\ufrj\\gestao\\TrabGest/plots/k14/kmedias_k14_SepalWidthCm_PetalLengthCm.png' na mesma pasta do seu notebook.\n",
      "-----------------------------------------------------------------\n",
      "SepalWidthCm PetalWidthCm  dim2  dim4\n",
      "Backend do Matplotlib alterado para 'Agg'. Iniciando a criação do gráfico em memória...\n",
      "-----------------------------------------------------------------\n",
      "SUCESSO! O gráfico foi salvo como 'c:\\Users\\Usuario\\Documents\\ufrj\\gestao\\TrabGest/plots/k14/kmedias_k14_SepalWidthCm_PetalWidthCm.png' na mesma pasta do seu notebook.\n",
      "-----------------------------------------------------------------\n",
      "PetalLengthCm PetalWidthCm  dim3  dim4\n",
      "Backend do Matplotlib alterado para 'Agg'. Iniciando a criação do gráfico em memória...\n"
     ]
    },
    {
     "name": "stderr",
     "output_type": "stream",
     "text": [
      "C:\\Users\\Usuario\\AppData\\Local\\Temp\\ipykernel_23524\\706736877.py:35: UserWarning: *c* argument looks like a single numeric RGB or RGBA sequence, which should be avoided as value-mapping will have precedence in case its length matches with *x* & *y*.  Please use the *color* keyword-argument or provide a 2D array with a single row if you intend to specify the same RGB or RGBA value for all points.\n",
      "  plt.scatter(subset[primeira_variavel], subset[segunda_variavel],\n",
      "C:\\Users\\Usuario\\AppData\\Local\\Temp\\ipykernel_23524\\706736877.py:35: UserWarning: *c* argument looks like a single numeric RGB or RGBA sequence, which should be avoided as value-mapping will have precedence in case its length matches with *x* & *y*.  Please use the *color* keyword-argument or provide a 2D array with a single row if you intend to specify the same RGB or RGBA value for all points.\n",
      "  plt.scatter(subset[primeira_variavel], subset[segunda_variavel],\n"
     ]
    },
    {
     "name": "stdout",
     "output_type": "stream",
     "text": [
      "-----------------------------------------------------------------\n",
      "SUCESSO! O gráfico foi salvo como 'c:\\Users\\Usuario\\Documents\\ufrj\\gestao\\TrabGest/plots/k14/kmedias_k14_PetalLengthCm_PetalWidthCm.png' na mesma pasta do seu notebook.\n",
      "-----------------------------------------------------------------\n",
      "SepalLengthCm SepalWidthCm  dim1  dim2\n",
      "Backend do Matplotlib alterado para 'Agg'. Iniciando a criação do gráfico em memória...\n",
      "-----------------------------------------------------------------\n",
      "SUCESSO! O gráfico foi salvo como 'c:\\Users\\Usuario\\Documents\\ufrj\\gestao\\TrabGest/plots/k15/kmedias_k15_SepalLengthCm_SepalWidthCm.png' na mesma pasta do seu notebook.\n",
      "-----------------------------------------------------------------\n",
      "SepalLengthCm PetalLengthCm  dim1  dim3\n",
      "Backend do Matplotlib alterado para 'Agg'. Iniciando a criação do gráfico em memória...\n"
     ]
    },
    {
     "name": "stderr",
     "output_type": "stream",
     "text": [
      "C:\\Users\\Usuario\\AppData\\Local\\Temp\\ipykernel_23524\\706736877.py:35: UserWarning: *c* argument looks like a single numeric RGB or RGBA sequence, which should be avoided as value-mapping will have precedence in case its length matches with *x* & *y*.  Please use the *color* keyword-argument or provide a 2D array with a single row if you intend to specify the same RGB or RGBA value for all points.\n",
      "  plt.scatter(subset[primeira_variavel], subset[segunda_variavel],\n",
      "C:\\Users\\Usuario\\AppData\\Local\\Temp\\ipykernel_23524\\706736877.py:35: UserWarning: *c* argument looks like a single numeric RGB or RGBA sequence, which should be avoided as value-mapping will have precedence in case its length matches with *x* & *y*.  Please use the *color* keyword-argument or provide a 2D array with a single row if you intend to specify the same RGB or RGBA value for all points.\n",
      "  plt.scatter(subset[primeira_variavel], subset[segunda_variavel],\n"
     ]
    },
    {
     "name": "stdout",
     "output_type": "stream",
     "text": [
      "-----------------------------------------------------------------\n",
      "SUCESSO! O gráfico foi salvo como 'c:\\Users\\Usuario\\Documents\\ufrj\\gestao\\TrabGest/plots/k15/kmedias_k15_SepalLengthCm_PetalLengthCm.png' na mesma pasta do seu notebook.\n",
      "-----------------------------------------------------------------\n",
      "SepalLengthCm PetalWidthCm  dim1  dim4\n",
      "Backend do Matplotlib alterado para 'Agg'. Iniciando a criação do gráfico em memória...\n",
      "-----------------------------------------------------------------\n",
      "SUCESSO! O gráfico foi salvo como 'c:\\Users\\Usuario\\Documents\\ufrj\\gestao\\TrabGest/plots/k15/kmedias_k15_SepalLengthCm_PetalWidthCm.png' na mesma pasta do seu notebook.\n",
      "-----------------------------------------------------------------\n",
      "SepalWidthCm PetalLengthCm  dim2  dim3\n",
      "Backend do Matplotlib alterado para 'Agg'. Iniciando a criação do gráfico em memória...\n"
     ]
    },
    {
     "name": "stderr",
     "output_type": "stream",
     "text": [
      "C:\\Users\\Usuario\\AppData\\Local\\Temp\\ipykernel_23524\\706736877.py:35: UserWarning: *c* argument looks like a single numeric RGB or RGBA sequence, which should be avoided as value-mapping will have precedence in case its length matches with *x* & *y*.  Please use the *color* keyword-argument or provide a 2D array with a single row if you intend to specify the same RGB or RGBA value for all points.\n",
      "  plt.scatter(subset[primeira_variavel], subset[segunda_variavel],\n",
      "C:\\Users\\Usuario\\AppData\\Local\\Temp\\ipykernel_23524\\706736877.py:35: UserWarning: *c* argument looks like a single numeric RGB or RGBA sequence, which should be avoided as value-mapping will have precedence in case its length matches with *x* & *y*.  Please use the *color* keyword-argument or provide a 2D array with a single row if you intend to specify the same RGB or RGBA value for all points.\n",
      "  plt.scatter(subset[primeira_variavel], subset[segunda_variavel],\n"
     ]
    },
    {
     "name": "stdout",
     "output_type": "stream",
     "text": [
      "-----------------------------------------------------------------\n",
      "SUCESSO! O gráfico foi salvo como 'c:\\Users\\Usuario\\Documents\\ufrj\\gestao\\TrabGest/plots/k15/kmedias_k15_SepalWidthCm_PetalLengthCm.png' na mesma pasta do seu notebook.\n",
      "-----------------------------------------------------------------\n",
      "SepalWidthCm PetalWidthCm  dim2  dim4\n",
      "Backend do Matplotlib alterado para 'Agg'. Iniciando a criação do gráfico em memória...\n",
      "-----------------------------------------------------------------\n",
      "SUCESSO! O gráfico foi salvo como 'c:\\Users\\Usuario\\Documents\\ufrj\\gestao\\TrabGest/plots/k15/kmedias_k15_SepalWidthCm_PetalWidthCm.png' na mesma pasta do seu notebook.\n",
      "-----------------------------------------------------------------\n",
      "PetalLengthCm PetalWidthCm  dim3  dim4\n",
      "Backend do Matplotlib alterado para 'Agg'. Iniciando a criação do gráfico em memória...\n"
     ]
    },
    {
     "name": "stderr",
     "output_type": "stream",
     "text": [
      "C:\\Users\\Usuario\\AppData\\Local\\Temp\\ipykernel_23524\\706736877.py:35: UserWarning: *c* argument looks like a single numeric RGB or RGBA sequence, which should be avoided as value-mapping will have precedence in case its length matches with *x* & *y*.  Please use the *color* keyword-argument or provide a 2D array with a single row if you intend to specify the same RGB or RGBA value for all points.\n",
      "  plt.scatter(subset[primeira_variavel], subset[segunda_variavel],\n",
      "C:\\Users\\Usuario\\AppData\\Local\\Temp\\ipykernel_23524\\706736877.py:35: UserWarning: *c* argument looks like a single numeric RGB or RGBA sequence, which should be avoided as value-mapping will have precedence in case its length matches with *x* & *y*.  Please use the *color* keyword-argument or provide a 2D array with a single row if you intend to specify the same RGB or RGBA value for all points.\n",
      "  plt.scatter(subset[primeira_variavel], subset[segunda_variavel],\n"
     ]
    },
    {
     "name": "stdout",
     "output_type": "stream",
     "text": [
      "-----------------------------------------------------------------\n",
      "SUCESSO! O gráfico foi salvo como 'c:\\Users\\Usuario\\Documents\\ufrj\\gestao\\TrabGest/plots/k15/kmedias_k15_PetalLengthCm_PetalWidthCm.png' na mesma pasta do seu notebook.\n",
      "-----------------------------------------------------------------\n",
      "SepalLengthCm SepalWidthCm  dim1  dim2\n",
      "Backend do Matplotlib alterado para 'Agg'. Iniciando a criação do gráfico em memória...\n",
      "-----------------------------------------------------------------\n",
      "SUCESSO! O gráfico foi salvo como 'c:\\Users\\Usuario\\Documents\\ufrj\\gestao\\TrabGest/plots/k16/kmedias_k16_SepalLengthCm_SepalWidthCm.png' na mesma pasta do seu notebook.\n",
      "-----------------------------------------------------------------\n",
      "SepalLengthCm PetalLengthCm  dim1  dim3\n",
      "Backend do Matplotlib alterado para 'Agg'. Iniciando a criação do gráfico em memória...\n"
     ]
    },
    {
     "name": "stderr",
     "output_type": "stream",
     "text": [
      "C:\\Users\\Usuario\\AppData\\Local\\Temp\\ipykernel_23524\\706736877.py:35: UserWarning: *c* argument looks like a single numeric RGB or RGBA sequence, which should be avoided as value-mapping will have precedence in case its length matches with *x* & *y*.  Please use the *color* keyword-argument or provide a 2D array with a single row if you intend to specify the same RGB or RGBA value for all points.\n",
      "  plt.scatter(subset[primeira_variavel], subset[segunda_variavel],\n",
      "C:\\Users\\Usuario\\AppData\\Local\\Temp\\ipykernel_23524\\706736877.py:35: UserWarning: *c* argument looks like a single numeric RGB or RGBA sequence, which should be avoided as value-mapping will have precedence in case its length matches with *x* & *y*.  Please use the *color* keyword-argument or provide a 2D array with a single row if you intend to specify the same RGB or RGBA value for all points.\n",
      "  plt.scatter(subset[primeira_variavel], subset[segunda_variavel],\n"
     ]
    },
    {
     "name": "stdout",
     "output_type": "stream",
     "text": [
      "-----------------------------------------------------------------\n",
      "SUCESSO! O gráfico foi salvo como 'c:\\Users\\Usuario\\Documents\\ufrj\\gestao\\TrabGest/plots/k16/kmedias_k16_SepalLengthCm_PetalLengthCm.png' na mesma pasta do seu notebook.\n",
      "-----------------------------------------------------------------\n",
      "SepalLengthCm PetalWidthCm  dim1  dim4\n",
      "Backend do Matplotlib alterado para 'Agg'. Iniciando a criação do gráfico em memória...\n",
      "-----------------------------------------------------------------\n",
      "SUCESSO! O gráfico foi salvo como 'c:\\Users\\Usuario\\Documents\\ufrj\\gestao\\TrabGest/plots/k16/kmedias_k16_SepalLengthCm_PetalWidthCm.png' na mesma pasta do seu notebook.\n",
      "-----------------------------------------------------------------\n",
      "SepalWidthCm PetalLengthCm  dim2  dim3\n",
      "Backend do Matplotlib alterado para 'Agg'. Iniciando a criação do gráfico em memória...\n"
     ]
    },
    {
     "name": "stderr",
     "output_type": "stream",
     "text": [
      "C:\\Users\\Usuario\\AppData\\Local\\Temp\\ipykernel_23524\\706736877.py:35: UserWarning: *c* argument looks like a single numeric RGB or RGBA sequence, which should be avoided as value-mapping will have precedence in case its length matches with *x* & *y*.  Please use the *color* keyword-argument or provide a 2D array with a single row if you intend to specify the same RGB or RGBA value for all points.\n",
      "  plt.scatter(subset[primeira_variavel], subset[segunda_variavel],\n",
      "C:\\Users\\Usuario\\AppData\\Local\\Temp\\ipykernel_23524\\706736877.py:35: UserWarning: *c* argument looks like a single numeric RGB or RGBA sequence, which should be avoided as value-mapping will have precedence in case its length matches with *x* & *y*.  Please use the *color* keyword-argument or provide a 2D array with a single row if you intend to specify the same RGB or RGBA value for all points.\n",
      "  plt.scatter(subset[primeira_variavel], subset[segunda_variavel],\n"
     ]
    },
    {
     "name": "stdout",
     "output_type": "stream",
     "text": [
      "-----------------------------------------------------------------\n",
      "SUCESSO! O gráfico foi salvo como 'c:\\Users\\Usuario\\Documents\\ufrj\\gestao\\TrabGest/plots/k16/kmedias_k16_SepalWidthCm_PetalLengthCm.png' na mesma pasta do seu notebook.\n",
      "-----------------------------------------------------------------\n",
      "SepalWidthCm PetalWidthCm  dim2  dim4\n",
      "Backend do Matplotlib alterado para 'Agg'. Iniciando a criação do gráfico em memória...\n"
     ]
    },
    {
     "name": "stderr",
     "output_type": "stream",
     "text": [
      "C:\\Users\\Usuario\\AppData\\Local\\Temp\\ipykernel_23524\\706736877.py:35: UserWarning: *c* argument looks like a single numeric RGB or RGBA sequence, which should be avoided as value-mapping will have precedence in case its length matches with *x* & *y*.  Please use the *color* keyword-argument or provide a 2D array with a single row if you intend to specify the same RGB or RGBA value for all points.\n",
      "  plt.scatter(subset[primeira_variavel], subset[segunda_variavel],\n"
     ]
    },
    {
     "name": "stdout",
     "output_type": "stream",
     "text": [
      "-----------------------------------------------------------------\n",
      "SUCESSO! O gráfico foi salvo como 'c:\\Users\\Usuario\\Documents\\ufrj\\gestao\\TrabGest/plots/k16/kmedias_k16_SepalWidthCm_PetalWidthCm.png' na mesma pasta do seu notebook.\n",
      "-----------------------------------------------------------------\n",
      "PetalLengthCm PetalWidthCm  dim3  dim4\n",
      "Backend do Matplotlib alterado para 'Agg'. Iniciando a criação do gráfico em memória...\n",
      "-----------------------------------------------------------------\n",
      "SUCESSO! O gráfico foi salvo como 'c:\\Users\\Usuario\\Documents\\ufrj\\gestao\\TrabGest/plots/k16/kmedias_k16_PetalLengthCm_PetalWidthCm.png' na mesma pasta do seu notebook.\n",
      "-----------------------------------------------------------------\n",
      "SepalLengthCm SepalWidthCm  dim1  dim2\n",
      "Backend do Matplotlib alterado para 'Agg'. Iniciando a criação do gráfico em memória...\n"
     ]
    },
    {
     "name": "stderr",
     "output_type": "stream",
     "text": [
      "C:\\Users\\Usuario\\AppData\\Local\\Temp\\ipykernel_23524\\706736877.py:35: UserWarning: *c* argument looks like a single numeric RGB or RGBA sequence, which should be avoided as value-mapping will have precedence in case its length matches with *x* & *y*.  Please use the *color* keyword-argument or provide a 2D array with a single row if you intend to specify the same RGB or RGBA value for all points.\n",
      "  plt.scatter(subset[primeira_variavel], subset[segunda_variavel],\n",
      "C:\\Users\\Usuario\\AppData\\Local\\Temp\\ipykernel_23524\\706736877.py:35: UserWarning: *c* argument looks like a single numeric RGB or RGBA sequence, which should be avoided as value-mapping will have precedence in case its length matches with *x* & *y*.  Please use the *color* keyword-argument or provide a 2D array with a single row if you intend to specify the same RGB or RGBA value for all points.\n",
      "  plt.scatter(subset[primeira_variavel], subset[segunda_variavel],\n"
     ]
    },
    {
     "name": "stdout",
     "output_type": "stream",
     "text": [
      "-----------------------------------------------------------------\n",
      "SUCESSO! O gráfico foi salvo como 'c:\\Users\\Usuario\\Documents\\ufrj\\gestao\\TrabGest/plots/k17/kmedias_k17_SepalLengthCm_SepalWidthCm.png' na mesma pasta do seu notebook.\n",
      "-----------------------------------------------------------------\n",
      "SepalLengthCm PetalLengthCm  dim1  dim3\n",
      "Backend do Matplotlib alterado para 'Agg'. Iniciando a criação do gráfico em memória...\n"
     ]
    },
    {
     "name": "stderr",
     "output_type": "stream",
     "text": [
      "C:\\Users\\Usuario\\AppData\\Local\\Temp\\ipykernel_23524\\706736877.py:35: UserWarning: *c* argument looks like a single numeric RGB or RGBA sequence, which should be avoided as value-mapping will have precedence in case its length matches with *x* & *y*.  Please use the *color* keyword-argument or provide a 2D array with a single row if you intend to specify the same RGB or RGBA value for all points.\n",
      "  plt.scatter(subset[primeira_variavel], subset[segunda_variavel],\n"
     ]
    },
    {
     "name": "stdout",
     "output_type": "stream",
     "text": [
      "-----------------------------------------------------------------\n",
      "SUCESSO! O gráfico foi salvo como 'c:\\Users\\Usuario\\Documents\\ufrj\\gestao\\TrabGest/plots/k17/kmedias_k17_SepalLengthCm_PetalLengthCm.png' na mesma pasta do seu notebook.\n",
      "-----------------------------------------------------------------\n",
      "SepalLengthCm PetalWidthCm  dim1  dim4\n",
      "Backend do Matplotlib alterado para 'Agg'. Iniciando a criação do gráfico em memória...\n",
      "-----------------------------------------------------------------\n",
      "SUCESSO! O gráfico foi salvo como 'c:\\Users\\Usuario\\Documents\\ufrj\\gestao\\TrabGest/plots/k17/kmedias_k17_SepalLengthCm_PetalWidthCm.png' na mesma pasta do seu notebook.\n",
      "-----------------------------------------------------------------\n",
      "SepalWidthCm PetalLengthCm  dim2  dim3\n",
      "Backend do Matplotlib alterado para 'Agg'. Iniciando a criação do gráfico em memória...\n"
     ]
    },
    {
     "name": "stderr",
     "output_type": "stream",
     "text": [
      "C:\\Users\\Usuario\\AppData\\Local\\Temp\\ipykernel_23524\\706736877.py:35: UserWarning: *c* argument looks like a single numeric RGB or RGBA sequence, which should be avoided as value-mapping will have precedence in case its length matches with *x* & *y*.  Please use the *color* keyword-argument or provide a 2D array with a single row if you intend to specify the same RGB or RGBA value for all points.\n",
      "  plt.scatter(subset[primeira_variavel], subset[segunda_variavel],\n",
      "C:\\Users\\Usuario\\AppData\\Local\\Temp\\ipykernel_23524\\706736877.py:35: UserWarning: *c* argument looks like a single numeric RGB or RGBA sequence, which should be avoided as value-mapping will have precedence in case its length matches with *x* & *y*.  Please use the *color* keyword-argument or provide a 2D array with a single row if you intend to specify the same RGB or RGBA value for all points.\n",
      "  plt.scatter(subset[primeira_variavel], subset[segunda_variavel],\n"
     ]
    },
    {
     "name": "stdout",
     "output_type": "stream",
     "text": [
      "-----------------------------------------------------------------\n",
      "SUCESSO! O gráfico foi salvo como 'c:\\Users\\Usuario\\Documents\\ufrj\\gestao\\TrabGest/plots/k17/kmedias_k17_SepalWidthCm_PetalLengthCm.png' na mesma pasta do seu notebook.\n",
      "-----------------------------------------------------------------\n",
      "SepalWidthCm PetalWidthCm  dim2  dim4\n",
      "Backend do Matplotlib alterado para 'Agg'. Iniciando a criação do gráfico em memória...\n"
     ]
    },
    {
     "name": "stderr",
     "output_type": "stream",
     "text": [
      "C:\\Users\\Usuario\\AppData\\Local\\Temp\\ipykernel_23524\\706736877.py:35: UserWarning: *c* argument looks like a single numeric RGB or RGBA sequence, which should be avoided as value-mapping will have precedence in case its length matches with *x* & *y*.  Please use the *color* keyword-argument or provide a 2D array with a single row if you intend to specify the same RGB or RGBA value for all points.\n",
      "  plt.scatter(subset[primeira_variavel], subset[segunda_variavel],\n"
     ]
    },
    {
     "name": "stdout",
     "output_type": "stream",
     "text": [
      "-----------------------------------------------------------------\n",
      "SUCESSO! O gráfico foi salvo como 'c:\\Users\\Usuario\\Documents\\ufrj\\gestao\\TrabGest/plots/k17/kmedias_k17_SepalWidthCm_PetalWidthCm.png' na mesma pasta do seu notebook.\n",
      "-----------------------------------------------------------------\n",
      "PetalLengthCm PetalWidthCm  dim3  dim4\n",
      "Backend do Matplotlib alterado para 'Agg'. Iniciando a criação do gráfico em memória...\n"
     ]
    },
    {
     "name": "stderr",
     "output_type": "stream",
     "text": [
      "C:\\Users\\Usuario\\AppData\\Local\\Temp\\ipykernel_23524\\706736877.py:35: UserWarning: *c* argument looks like a single numeric RGB or RGBA sequence, which should be avoided as value-mapping will have precedence in case its length matches with *x* & *y*.  Please use the *color* keyword-argument or provide a 2D array with a single row if you intend to specify the same RGB or RGBA value for all points.\n",
      "  plt.scatter(subset[primeira_variavel], subset[segunda_variavel],\n"
     ]
    },
    {
     "name": "stdout",
     "output_type": "stream",
     "text": [
      "-----------------------------------------------------------------\n",
      "SUCESSO! O gráfico foi salvo como 'c:\\Users\\Usuario\\Documents\\ufrj\\gestao\\TrabGest/plots/k17/kmedias_k17_PetalLengthCm_PetalWidthCm.png' na mesma pasta do seu notebook.\n",
      "-----------------------------------------------------------------\n",
      "SepalLengthCm SepalWidthCm  dim1  dim2\n",
      "Backend do Matplotlib alterado para 'Agg'. Iniciando a criação do gráfico em memória...\n"
     ]
    },
    {
     "name": "stderr",
     "output_type": "stream",
     "text": [
      "C:\\Users\\Usuario\\AppData\\Local\\Temp\\ipykernel_23524\\706736877.py:35: UserWarning: *c* argument looks like a single numeric RGB or RGBA sequence, which should be avoided as value-mapping will have precedence in case its length matches with *x* & *y*.  Please use the *color* keyword-argument or provide a 2D array with a single row if you intend to specify the same RGB or RGBA value for all points.\n",
      "  plt.scatter(subset[primeira_variavel], subset[segunda_variavel],\n"
     ]
    },
    {
     "name": "stdout",
     "output_type": "stream",
     "text": [
      "-----------------------------------------------------------------\n",
      "SUCESSO! O gráfico foi salvo como 'c:\\Users\\Usuario\\Documents\\ufrj\\gestao\\TrabGest/plots/k18/kmedias_k18_SepalLengthCm_SepalWidthCm.png' na mesma pasta do seu notebook.\n",
      "-----------------------------------------------------------------\n",
      "SepalLengthCm PetalLengthCm  dim1  dim3\n",
      "Backend do Matplotlib alterado para 'Agg'. Iniciando a criação do gráfico em memória...\n"
     ]
    },
    {
     "name": "stderr",
     "output_type": "stream",
     "text": [
      "C:\\Users\\Usuario\\AppData\\Local\\Temp\\ipykernel_23524\\706736877.py:35: UserWarning: *c* argument looks like a single numeric RGB or RGBA sequence, which should be avoided as value-mapping will have precedence in case its length matches with *x* & *y*.  Please use the *color* keyword-argument or provide a 2D array with a single row if you intend to specify the same RGB or RGBA value for all points.\n",
      "  plt.scatter(subset[primeira_variavel], subset[segunda_variavel],\n"
     ]
    },
    {
     "name": "stdout",
     "output_type": "stream",
     "text": [
      "-----------------------------------------------------------------\n",
      "SUCESSO! O gráfico foi salvo como 'c:\\Users\\Usuario\\Documents\\ufrj\\gestao\\TrabGest/plots/k18/kmedias_k18_SepalLengthCm_PetalLengthCm.png' na mesma pasta do seu notebook.\n",
      "-----------------------------------------------------------------\n",
      "SepalLengthCm PetalWidthCm  dim1  dim4\n",
      "Backend do Matplotlib alterado para 'Agg'. Iniciando a criação do gráfico em memória...\n"
     ]
    },
    {
     "name": "stderr",
     "output_type": "stream",
     "text": [
      "C:\\Users\\Usuario\\AppData\\Local\\Temp\\ipykernel_23524\\706736877.py:35: UserWarning: *c* argument looks like a single numeric RGB or RGBA sequence, which should be avoided as value-mapping will have precedence in case its length matches with *x* & *y*.  Please use the *color* keyword-argument or provide a 2D array with a single row if you intend to specify the same RGB or RGBA value for all points.\n",
      "  plt.scatter(subset[primeira_variavel], subset[segunda_variavel],\n"
     ]
    },
    {
     "name": "stdout",
     "output_type": "stream",
     "text": [
      "-----------------------------------------------------------------\n",
      "SUCESSO! O gráfico foi salvo como 'c:\\Users\\Usuario\\Documents\\ufrj\\gestao\\TrabGest/plots/k18/kmedias_k18_SepalLengthCm_PetalWidthCm.png' na mesma pasta do seu notebook.\n",
      "-----------------------------------------------------------------\n",
      "SepalWidthCm PetalLengthCm  dim2  dim3\n",
      "Backend do Matplotlib alterado para 'Agg'. Iniciando a criação do gráfico em memória...\n"
     ]
    },
    {
     "name": "stderr",
     "output_type": "stream",
     "text": [
      "C:\\Users\\Usuario\\AppData\\Local\\Temp\\ipykernel_23524\\706736877.py:35: UserWarning: *c* argument looks like a single numeric RGB or RGBA sequence, which should be avoided as value-mapping will have precedence in case its length matches with *x* & *y*.  Please use the *color* keyword-argument or provide a 2D array with a single row if you intend to specify the same RGB or RGBA value for all points.\n",
      "  plt.scatter(subset[primeira_variavel], subset[segunda_variavel],\n"
     ]
    },
    {
     "name": "stdout",
     "output_type": "stream",
     "text": [
      "-----------------------------------------------------------------\n",
      "SUCESSO! O gráfico foi salvo como 'c:\\Users\\Usuario\\Documents\\ufrj\\gestao\\TrabGest/plots/k18/kmedias_k18_SepalWidthCm_PetalLengthCm.png' na mesma pasta do seu notebook.\n",
      "-----------------------------------------------------------------\n",
      "SepalWidthCm PetalWidthCm  dim2  dim4\n",
      "Backend do Matplotlib alterado para 'Agg'. Iniciando a criação do gráfico em memória...\n"
     ]
    },
    {
     "name": "stderr",
     "output_type": "stream",
     "text": [
      "C:\\Users\\Usuario\\AppData\\Local\\Temp\\ipykernel_23524\\706736877.py:35: UserWarning: *c* argument looks like a single numeric RGB or RGBA sequence, which should be avoided as value-mapping will have precedence in case its length matches with *x* & *y*.  Please use the *color* keyword-argument or provide a 2D array with a single row if you intend to specify the same RGB or RGBA value for all points.\n",
      "  plt.scatter(subset[primeira_variavel], subset[segunda_variavel],\n"
     ]
    },
    {
     "name": "stdout",
     "output_type": "stream",
     "text": [
      "-----------------------------------------------------------------\n",
      "SUCESSO! O gráfico foi salvo como 'c:\\Users\\Usuario\\Documents\\ufrj\\gestao\\TrabGest/plots/k18/kmedias_k18_SepalWidthCm_PetalWidthCm.png' na mesma pasta do seu notebook.\n",
      "-----------------------------------------------------------------\n",
      "PetalLengthCm PetalWidthCm  dim3  dim4\n",
      "Backend do Matplotlib alterado para 'Agg'. Iniciando a criação do gráfico em memória...\n",
      "-----------------------------------------------------------------\n",
      "SUCESSO! O gráfico foi salvo como 'c:\\Users\\Usuario\\Documents\\ufrj\\gestao\\TrabGest/plots/k18/kmedias_k18_PetalLengthCm_PetalWidthCm.png' na mesma pasta do seu notebook.\n",
      "-----------------------------------------------------------------\n",
      "SepalLengthCm SepalWidthCm  dim1  dim2\n",
      "Backend do Matplotlib alterado para 'Agg'. Iniciando a criação do gráfico em memória...\n"
     ]
    },
    {
     "name": "stderr",
     "output_type": "stream",
     "text": [
      "C:\\Users\\Usuario\\AppData\\Local\\Temp\\ipykernel_23524\\706736877.py:35: UserWarning: *c* argument looks like a single numeric RGB or RGBA sequence, which should be avoided as value-mapping will have precedence in case its length matches with *x* & *y*.  Please use the *color* keyword-argument or provide a 2D array with a single row if you intend to specify the same RGB or RGBA value for all points.\n",
      "  plt.scatter(subset[primeira_variavel], subset[segunda_variavel],\n",
      "C:\\Users\\Usuario\\AppData\\Local\\Temp\\ipykernel_23524\\706736877.py:35: UserWarning: *c* argument looks like a single numeric RGB or RGBA sequence, which should be avoided as value-mapping will have precedence in case its length matches with *x* & *y*.  Please use the *color* keyword-argument or provide a 2D array with a single row if you intend to specify the same RGB or RGBA value for all points.\n",
      "  plt.scatter(subset[primeira_variavel], subset[segunda_variavel],\n"
     ]
    },
    {
     "name": "stdout",
     "output_type": "stream",
     "text": [
      "-----------------------------------------------------------------\n",
      "SUCESSO! O gráfico foi salvo como 'c:\\Users\\Usuario\\Documents\\ufrj\\gestao\\TrabGest/plots/k19/kmedias_k19_SepalLengthCm_SepalWidthCm.png' na mesma pasta do seu notebook.\n",
      "-----------------------------------------------------------------\n",
      "SepalLengthCm PetalLengthCm  dim1  dim3\n",
      "Backend do Matplotlib alterado para 'Agg'. Iniciando a criação do gráfico em memória...\n"
     ]
    },
    {
     "name": "stderr",
     "output_type": "stream",
     "text": [
      "C:\\Users\\Usuario\\AppData\\Local\\Temp\\ipykernel_23524\\706736877.py:35: UserWarning: *c* argument looks like a single numeric RGB or RGBA sequence, which should be avoided as value-mapping will have precedence in case its length matches with *x* & *y*.  Please use the *color* keyword-argument or provide a 2D array with a single row if you intend to specify the same RGB or RGBA value for all points.\n",
      "  plt.scatter(subset[primeira_variavel], subset[segunda_variavel],\n"
     ]
    },
    {
     "name": "stdout",
     "output_type": "stream",
     "text": [
      "-----------------------------------------------------------------\n",
      "SUCESSO! O gráfico foi salvo como 'c:\\Users\\Usuario\\Documents\\ufrj\\gestao\\TrabGest/plots/k19/kmedias_k19_SepalLengthCm_PetalLengthCm.png' na mesma pasta do seu notebook.\n",
      "-----------------------------------------------------------------\n",
      "SepalLengthCm PetalWidthCm  dim1  dim4\n",
      "Backend do Matplotlib alterado para 'Agg'. Iniciando a criação do gráfico em memória...\n"
     ]
    },
    {
     "name": "stderr",
     "output_type": "stream",
     "text": [
      "C:\\Users\\Usuario\\AppData\\Local\\Temp\\ipykernel_23524\\706736877.py:35: UserWarning: *c* argument looks like a single numeric RGB or RGBA sequence, which should be avoided as value-mapping will have precedence in case its length matches with *x* & *y*.  Please use the *color* keyword-argument or provide a 2D array with a single row if you intend to specify the same RGB or RGBA value for all points.\n",
      "  plt.scatter(subset[primeira_variavel], subset[segunda_variavel],\n"
     ]
    },
    {
     "name": "stdout",
     "output_type": "stream",
     "text": [
      "-----------------------------------------------------------------\n",
      "SUCESSO! O gráfico foi salvo como 'c:\\Users\\Usuario\\Documents\\ufrj\\gestao\\TrabGest/plots/k19/kmedias_k19_SepalLengthCm_PetalWidthCm.png' na mesma pasta do seu notebook.\n",
      "-----------------------------------------------------------------\n",
      "SepalWidthCm PetalLengthCm  dim2  dim3\n",
      "Backend do Matplotlib alterado para 'Agg'. Iniciando a criação do gráfico em memória...\n"
     ]
    },
    {
     "name": "stderr",
     "output_type": "stream",
     "text": [
      "C:\\Users\\Usuario\\AppData\\Local\\Temp\\ipykernel_23524\\706736877.py:35: UserWarning: *c* argument looks like a single numeric RGB or RGBA sequence, which should be avoided as value-mapping will have precedence in case its length matches with *x* & *y*.  Please use the *color* keyword-argument or provide a 2D array with a single row if you intend to specify the same RGB or RGBA value for all points.\n",
      "  plt.scatter(subset[primeira_variavel], subset[segunda_variavel],\n"
     ]
    },
    {
     "name": "stdout",
     "output_type": "stream",
     "text": [
      "-----------------------------------------------------------------\n",
      "SUCESSO! O gráfico foi salvo como 'c:\\Users\\Usuario\\Documents\\ufrj\\gestao\\TrabGest/plots/k19/kmedias_k19_SepalWidthCm_PetalLengthCm.png' na mesma pasta do seu notebook.\n",
      "-----------------------------------------------------------------\n",
      "SepalWidthCm PetalWidthCm  dim2  dim4\n",
      "Backend do Matplotlib alterado para 'Agg'. Iniciando a criação do gráfico em memória...\n"
     ]
    },
    {
     "name": "stderr",
     "output_type": "stream",
     "text": [
      "C:\\Users\\Usuario\\AppData\\Local\\Temp\\ipykernel_23524\\706736877.py:35: UserWarning: *c* argument looks like a single numeric RGB or RGBA sequence, which should be avoided as value-mapping will have precedence in case its length matches with *x* & *y*.  Please use the *color* keyword-argument or provide a 2D array with a single row if you intend to specify the same RGB or RGBA value for all points.\n",
      "  plt.scatter(subset[primeira_variavel], subset[segunda_variavel],\n"
     ]
    },
    {
     "name": "stdout",
     "output_type": "stream",
     "text": [
      "-----------------------------------------------------------------\n",
      "SUCESSO! O gráfico foi salvo como 'c:\\Users\\Usuario\\Documents\\ufrj\\gestao\\TrabGest/plots/k19/kmedias_k19_SepalWidthCm_PetalWidthCm.png' na mesma pasta do seu notebook.\n",
      "-----------------------------------------------------------------\n",
      "PetalLengthCm PetalWidthCm  dim3  dim4\n",
      "Backend do Matplotlib alterado para 'Agg'. Iniciando a criação do gráfico em memória...\n"
     ]
    },
    {
     "name": "stderr",
     "output_type": "stream",
     "text": [
      "C:\\Users\\Usuario\\AppData\\Local\\Temp\\ipykernel_23524\\706736877.py:35: UserWarning: *c* argument looks like a single numeric RGB or RGBA sequence, which should be avoided as value-mapping will have precedence in case its length matches with *x* & *y*.  Please use the *color* keyword-argument or provide a 2D array with a single row if you intend to specify the same RGB or RGBA value for all points.\n",
      "  plt.scatter(subset[primeira_variavel], subset[segunda_variavel],\n"
     ]
    },
    {
     "name": "stdout",
     "output_type": "stream",
     "text": [
      "-----------------------------------------------------------------\n",
      "SUCESSO! O gráfico foi salvo como 'c:\\Users\\Usuario\\Documents\\ufrj\\gestao\\TrabGest/plots/k19/kmedias_k19_PetalLengthCm_PetalWidthCm.png' na mesma pasta do seu notebook.\n",
      "-----------------------------------------------------------------\n",
      "SepalLengthCm SepalWidthCm  dim1  dim2\n",
      "Backend do Matplotlib alterado para 'Agg'. Iniciando a criação do gráfico em memória...\n"
     ]
    },
    {
     "name": "stderr",
     "output_type": "stream",
     "text": [
      "C:\\Users\\Usuario\\AppData\\Local\\Temp\\ipykernel_23524\\706736877.py:35: UserWarning: *c* argument looks like a single numeric RGB or RGBA sequence, which should be avoided as value-mapping will have precedence in case its length matches with *x* & *y*.  Please use the *color* keyword-argument or provide a 2D array with a single row if you intend to specify the same RGB or RGBA value for all points.\n",
      "  plt.scatter(subset[primeira_variavel], subset[segunda_variavel],\n"
     ]
    },
    {
     "name": "stdout",
     "output_type": "stream",
     "text": [
      "-----------------------------------------------------------------\n",
      "SUCESSO! O gráfico foi salvo como 'c:\\Users\\Usuario\\Documents\\ufrj\\gestao\\TrabGest/plots/k20/kmedias_k20_SepalLengthCm_SepalWidthCm.png' na mesma pasta do seu notebook.\n",
      "-----------------------------------------------------------------\n",
      "SepalLengthCm PetalLengthCm  dim1  dim3\n",
      "Backend do Matplotlib alterado para 'Agg'. Iniciando a criação do gráfico em memória...\n"
     ]
    },
    {
     "name": "stderr",
     "output_type": "stream",
     "text": [
      "C:\\Users\\Usuario\\AppData\\Local\\Temp\\ipykernel_23524\\706736877.py:35: UserWarning: *c* argument looks like a single numeric RGB or RGBA sequence, which should be avoided as value-mapping will have precedence in case its length matches with *x* & *y*.  Please use the *color* keyword-argument or provide a 2D array with a single row if you intend to specify the same RGB or RGBA value for all points.\n",
      "  plt.scatter(subset[primeira_variavel], subset[segunda_variavel],\n"
     ]
    },
    {
     "name": "stdout",
     "output_type": "stream",
     "text": [
      "-----------------------------------------------------------------\n",
      "SUCESSO! O gráfico foi salvo como 'c:\\Users\\Usuario\\Documents\\ufrj\\gestao\\TrabGest/plots/k20/kmedias_k20_SepalLengthCm_PetalLengthCm.png' na mesma pasta do seu notebook.\n",
      "-----------------------------------------------------------------\n",
      "SepalLengthCm PetalWidthCm  dim1  dim4\n",
      "Backend do Matplotlib alterado para 'Agg'. Iniciando a criação do gráfico em memória...\n"
     ]
    },
    {
     "name": "stderr",
     "output_type": "stream",
     "text": [
      "C:\\Users\\Usuario\\AppData\\Local\\Temp\\ipykernel_23524\\706736877.py:35: UserWarning: *c* argument looks like a single numeric RGB or RGBA sequence, which should be avoided as value-mapping will have precedence in case its length matches with *x* & *y*.  Please use the *color* keyword-argument or provide a 2D array with a single row if you intend to specify the same RGB or RGBA value for all points.\n",
      "  plt.scatter(subset[primeira_variavel], subset[segunda_variavel],\n"
     ]
    },
    {
     "name": "stdout",
     "output_type": "stream",
     "text": [
      "-----------------------------------------------------------------\n",
      "SUCESSO! O gráfico foi salvo como 'c:\\Users\\Usuario\\Documents\\ufrj\\gestao\\TrabGest/plots/k20/kmedias_k20_SepalLengthCm_PetalWidthCm.png' na mesma pasta do seu notebook.\n",
      "-----------------------------------------------------------------\n",
      "SepalWidthCm PetalLengthCm  dim2  dim3\n",
      "Backend do Matplotlib alterado para 'Agg'. Iniciando a criação do gráfico em memória...\n"
     ]
    },
    {
     "name": "stderr",
     "output_type": "stream",
     "text": [
      "C:\\Users\\Usuario\\AppData\\Local\\Temp\\ipykernel_23524\\706736877.py:35: UserWarning: *c* argument looks like a single numeric RGB or RGBA sequence, which should be avoided as value-mapping will have precedence in case its length matches with *x* & *y*.  Please use the *color* keyword-argument or provide a 2D array with a single row if you intend to specify the same RGB or RGBA value for all points.\n",
      "  plt.scatter(subset[primeira_variavel], subset[segunda_variavel],\n"
     ]
    },
    {
     "name": "stdout",
     "output_type": "stream",
     "text": [
      "-----------------------------------------------------------------\n",
      "SUCESSO! O gráfico foi salvo como 'c:\\Users\\Usuario\\Documents\\ufrj\\gestao\\TrabGest/plots/k20/kmedias_k20_SepalWidthCm_PetalLengthCm.png' na mesma pasta do seu notebook.\n",
      "-----------------------------------------------------------------\n",
      "SepalWidthCm PetalWidthCm  dim2  dim4\n",
      "Backend do Matplotlib alterado para 'Agg'. Iniciando a criação do gráfico em memória...\n"
     ]
    },
    {
     "name": "stderr",
     "output_type": "stream",
     "text": [
      "C:\\Users\\Usuario\\AppData\\Local\\Temp\\ipykernel_23524\\706736877.py:35: UserWarning: *c* argument looks like a single numeric RGB or RGBA sequence, which should be avoided as value-mapping will have precedence in case its length matches with *x* & *y*.  Please use the *color* keyword-argument or provide a 2D array with a single row if you intend to specify the same RGB or RGBA value for all points.\n",
      "  plt.scatter(subset[primeira_variavel], subset[segunda_variavel],\n"
     ]
    },
    {
     "name": "stdout",
     "output_type": "stream",
     "text": [
      "-----------------------------------------------------------------\n",
      "SUCESSO! O gráfico foi salvo como 'c:\\Users\\Usuario\\Documents\\ufrj\\gestao\\TrabGest/plots/k20/kmedias_k20_SepalWidthCm_PetalWidthCm.png' na mesma pasta do seu notebook.\n",
      "-----------------------------------------------------------------\n",
      "PetalLengthCm PetalWidthCm  dim3  dim4\n",
      "Backend do Matplotlib alterado para 'Agg'. Iniciando a criação do gráfico em memória...\n"
     ]
    },
    {
     "name": "stderr",
     "output_type": "stream",
     "text": [
      "C:\\Users\\Usuario\\AppData\\Local\\Temp\\ipykernel_23524\\706736877.py:35: UserWarning: *c* argument looks like a single numeric RGB or RGBA sequence, which should be avoided as value-mapping will have precedence in case its length matches with *x* & *y*.  Please use the *color* keyword-argument or provide a 2D array with a single row if you intend to specify the same RGB or RGBA value for all points.\n",
      "  plt.scatter(subset[primeira_variavel], subset[segunda_variavel],\n"
     ]
    },
    {
     "name": "stdout",
     "output_type": "stream",
     "text": [
      "-----------------------------------------------------------------\n",
      "SUCESSO! O gráfico foi salvo como 'c:\\Users\\Usuario\\Documents\\ufrj\\gestao\\TrabGest/plots/k20/kmedias_k20_PetalLengthCm_PetalWidthCm.png' na mesma pasta do seu notebook.\n",
      "-----------------------------------------------------------------\n",
      "SepalLengthCm SepalWidthCm  dim1  dim2\n",
      "Backend do Matplotlib alterado para 'Agg'. Iniciando a criação do gráfico em memória...\n"
     ]
    },
    {
     "name": "stderr",
     "output_type": "stream",
     "text": [
      "C:\\Users\\Usuario\\AppData\\Local\\Temp\\ipykernel_23524\\706736877.py:35: UserWarning: *c* argument looks like a single numeric RGB or RGBA sequence, which should be avoided as value-mapping will have precedence in case its length matches with *x* & *y*.  Please use the *color* keyword-argument or provide a 2D array with a single row if you intend to specify the same RGB or RGBA value for all points.\n",
      "  plt.scatter(subset[primeira_variavel], subset[segunda_variavel],\n"
     ]
    },
    {
     "name": "stdout",
     "output_type": "stream",
     "text": [
      "-----------------------------------------------------------------\n",
      "SUCESSO! O gráfico foi salvo como 'c:\\Users\\Usuario\\Documents\\ufrj\\gestao\\TrabGest/plots/k21/kmedias_k21_SepalLengthCm_SepalWidthCm.png' na mesma pasta do seu notebook.\n",
      "-----------------------------------------------------------------\n",
      "SepalLengthCm PetalLengthCm  dim1  dim3\n",
      "Backend do Matplotlib alterado para 'Agg'. Iniciando a criação do gráfico em memória...\n"
     ]
    },
    {
     "name": "stderr",
     "output_type": "stream",
     "text": [
      "C:\\Users\\Usuario\\AppData\\Local\\Temp\\ipykernel_23524\\706736877.py:35: UserWarning: *c* argument looks like a single numeric RGB or RGBA sequence, which should be avoided as value-mapping will have precedence in case its length matches with *x* & *y*.  Please use the *color* keyword-argument or provide a 2D array with a single row if you intend to specify the same RGB or RGBA value for all points.\n",
      "  plt.scatter(subset[primeira_variavel], subset[segunda_variavel],\n"
     ]
    },
    {
     "name": "stdout",
     "output_type": "stream",
     "text": [
      "-----------------------------------------------------------------\n",
      "SUCESSO! O gráfico foi salvo como 'c:\\Users\\Usuario\\Documents\\ufrj\\gestao\\TrabGest/plots/k21/kmedias_k21_SepalLengthCm_PetalLengthCm.png' na mesma pasta do seu notebook.\n",
      "-----------------------------------------------------------------\n",
      "SepalLengthCm PetalWidthCm  dim1  dim4\n",
      "Backend do Matplotlib alterado para 'Agg'. Iniciando a criação do gráfico em memória...\n"
     ]
    },
    {
     "name": "stderr",
     "output_type": "stream",
     "text": [
      "C:\\Users\\Usuario\\AppData\\Local\\Temp\\ipykernel_23524\\706736877.py:35: UserWarning: *c* argument looks like a single numeric RGB or RGBA sequence, which should be avoided as value-mapping will have precedence in case its length matches with *x* & *y*.  Please use the *color* keyword-argument or provide a 2D array with a single row if you intend to specify the same RGB or RGBA value for all points.\n",
      "  plt.scatter(subset[primeira_variavel], subset[segunda_variavel],\n"
     ]
    },
    {
     "name": "stdout",
     "output_type": "stream",
     "text": [
      "-----------------------------------------------------------------\n",
      "SUCESSO! O gráfico foi salvo como 'c:\\Users\\Usuario\\Documents\\ufrj\\gestao\\TrabGest/plots/k21/kmedias_k21_SepalLengthCm_PetalWidthCm.png' na mesma pasta do seu notebook.\n",
      "-----------------------------------------------------------------\n",
      "SepalWidthCm PetalLengthCm  dim2  dim3\n",
      "Backend do Matplotlib alterado para 'Agg'. Iniciando a criação do gráfico em memória...\n"
     ]
    },
    {
     "name": "stderr",
     "output_type": "stream",
     "text": [
      "C:\\Users\\Usuario\\AppData\\Local\\Temp\\ipykernel_23524\\706736877.py:35: UserWarning: *c* argument looks like a single numeric RGB or RGBA sequence, which should be avoided as value-mapping will have precedence in case its length matches with *x* & *y*.  Please use the *color* keyword-argument or provide a 2D array with a single row if you intend to specify the same RGB or RGBA value for all points.\n",
      "  plt.scatter(subset[primeira_variavel], subset[segunda_variavel],\n"
     ]
    },
    {
     "name": "stdout",
     "output_type": "stream",
     "text": [
      "-----------------------------------------------------------------\n",
      "SUCESSO! O gráfico foi salvo como 'c:\\Users\\Usuario\\Documents\\ufrj\\gestao\\TrabGest/plots/k21/kmedias_k21_SepalWidthCm_PetalLengthCm.png' na mesma pasta do seu notebook.\n",
      "-----------------------------------------------------------------\n",
      "SepalWidthCm PetalWidthCm  dim2  dim4\n",
      "Backend do Matplotlib alterado para 'Agg'. Iniciando a criação do gráfico em memória...\n"
     ]
    },
    {
     "name": "stderr",
     "output_type": "stream",
     "text": [
      "C:\\Users\\Usuario\\AppData\\Local\\Temp\\ipykernel_23524\\706736877.py:35: UserWarning: *c* argument looks like a single numeric RGB or RGBA sequence, which should be avoided as value-mapping will have precedence in case its length matches with *x* & *y*.  Please use the *color* keyword-argument or provide a 2D array with a single row if you intend to specify the same RGB or RGBA value for all points.\n",
      "  plt.scatter(subset[primeira_variavel], subset[segunda_variavel],\n"
     ]
    },
    {
     "name": "stdout",
     "output_type": "stream",
     "text": [
      "-----------------------------------------------------------------\n",
      "SUCESSO! O gráfico foi salvo como 'c:\\Users\\Usuario\\Documents\\ufrj\\gestao\\TrabGest/plots/k21/kmedias_k21_SepalWidthCm_PetalWidthCm.png' na mesma pasta do seu notebook.\n",
      "-----------------------------------------------------------------\n",
      "PetalLengthCm PetalWidthCm  dim3  dim4\n",
      "Backend do Matplotlib alterado para 'Agg'. Iniciando a criação do gráfico em memória...\n"
     ]
    },
    {
     "name": "stderr",
     "output_type": "stream",
     "text": [
      "C:\\Users\\Usuario\\AppData\\Local\\Temp\\ipykernel_23524\\706736877.py:35: UserWarning: *c* argument looks like a single numeric RGB or RGBA sequence, which should be avoided as value-mapping will have precedence in case its length matches with *x* & *y*.  Please use the *color* keyword-argument or provide a 2D array with a single row if you intend to specify the same RGB or RGBA value for all points.\n",
      "  plt.scatter(subset[primeira_variavel], subset[segunda_variavel],\n"
     ]
    },
    {
     "name": "stdout",
     "output_type": "stream",
     "text": [
      "-----------------------------------------------------------------\n",
      "SUCESSO! O gráfico foi salvo como 'c:\\Users\\Usuario\\Documents\\ufrj\\gestao\\TrabGest/plots/k21/kmedias_k21_PetalLengthCm_PetalWidthCm.png' na mesma pasta do seu notebook.\n",
      "-----------------------------------------------------------------\n",
      "SepalLengthCm SepalWidthCm  dim1  dim2\n",
      "Backend do Matplotlib alterado para 'Agg'. Iniciando a criação do gráfico em memória...\n"
     ]
    },
    {
     "name": "stderr",
     "output_type": "stream",
     "text": [
      "C:\\Users\\Usuario\\AppData\\Local\\Temp\\ipykernel_23524\\706736877.py:35: UserWarning: *c* argument looks like a single numeric RGB or RGBA sequence, which should be avoided as value-mapping will have precedence in case its length matches with *x* & *y*.  Please use the *color* keyword-argument or provide a 2D array with a single row if you intend to specify the same RGB or RGBA value for all points.\n",
      "  plt.scatter(subset[primeira_variavel], subset[segunda_variavel],\n"
     ]
    },
    {
     "name": "stdout",
     "output_type": "stream",
     "text": [
      "-----------------------------------------------------------------\n",
      "SUCESSO! O gráfico foi salvo como 'c:\\Users\\Usuario\\Documents\\ufrj\\gestao\\TrabGest/plots/k22/kmedias_k22_SepalLengthCm_SepalWidthCm.png' na mesma pasta do seu notebook.\n",
      "-----------------------------------------------------------------\n",
      "SepalLengthCm PetalLengthCm  dim1  dim3\n",
      "Backend do Matplotlib alterado para 'Agg'. Iniciando a criação do gráfico em memória...\n"
     ]
    },
    {
     "name": "stderr",
     "output_type": "stream",
     "text": [
      "C:\\Users\\Usuario\\AppData\\Local\\Temp\\ipykernel_23524\\706736877.py:35: UserWarning: *c* argument looks like a single numeric RGB or RGBA sequence, which should be avoided as value-mapping will have precedence in case its length matches with *x* & *y*.  Please use the *color* keyword-argument or provide a 2D array with a single row if you intend to specify the same RGB or RGBA value for all points.\n",
      "  plt.scatter(subset[primeira_variavel], subset[segunda_variavel],\n"
     ]
    },
    {
     "name": "stdout",
     "output_type": "stream",
     "text": [
      "-----------------------------------------------------------------\n",
      "SUCESSO! O gráfico foi salvo como 'c:\\Users\\Usuario\\Documents\\ufrj\\gestao\\TrabGest/plots/k22/kmedias_k22_SepalLengthCm_PetalLengthCm.png' na mesma pasta do seu notebook.\n",
      "-----------------------------------------------------------------\n",
      "SepalLengthCm PetalWidthCm  dim1  dim4\n",
      "Backend do Matplotlib alterado para 'Agg'. Iniciando a criação do gráfico em memória...\n"
     ]
    },
    {
     "name": "stderr",
     "output_type": "stream",
     "text": [
      "C:\\Users\\Usuario\\AppData\\Local\\Temp\\ipykernel_23524\\706736877.py:35: UserWarning: *c* argument looks like a single numeric RGB or RGBA sequence, which should be avoided as value-mapping will have precedence in case its length matches with *x* & *y*.  Please use the *color* keyword-argument or provide a 2D array with a single row if you intend to specify the same RGB or RGBA value for all points.\n",
      "  plt.scatter(subset[primeira_variavel], subset[segunda_variavel],\n"
     ]
    },
    {
     "name": "stdout",
     "output_type": "stream",
     "text": [
      "-----------------------------------------------------------------\n",
      "SUCESSO! O gráfico foi salvo como 'c:\\Users\\Usuario\\Documents\\ufrj\\gestao\\TrabGest/plots/k22/kmedias_k22_SepalLengthCm_PetalWidthCm.png' na mesma pasta do seu notebook.\n",
      "-----------------------------------------------------------------\n",
      "SepalWidthCm PetalLengthCm  dim2  dim3\n",
      "Backend do Matplotlib alterado para 'Agg'. Iniciando a criação do gráfico em memória...\n"
     ]
    },
    {
     "name": "stderr",
     "output_type": "stream",
     "text": [
      "C:\\Users\\Usuario\\AppData\\Local\\Temp\\ipykernel_23524\\706736877.py:35: UserWarning: *c* argument looks like a single numeric RGB or RGBA sequence, which should be avoided as value-mapping will have precedence in case its length matches with *x* & *y*.  Please use the *color* keyword-argument or provide a 2D array with a single row if you intend to specify the same RGB or RGBA value for all points.\n",
      "  plt.scatter(subset[primeira_variavel], subset[segunda_variavel],\n"
     ]
    },
    {
     "name": "stdout",
     "output_type": "stream",
     "text": [
      "-----------------------------------------------------------------\n",
      "SUCESSO! O gráfico foi salvo como 'c:\\Users\\Usuario\\Documents\\ufrj\\gestao\\TrabGest/plots/k22/kmedias_k22_SepalWidthCm_PetalLengthCm.png' na mesma pasta do seu notebook.\n",
      "-----------------------------------------------------------------\n",
      "SepalWidthCm PetalWidthCm  dim2  dim4\n",
      "Backend do Matplotlib alterado para 'Agg'. Iniciando a criação do gráfico em memória...\n"
     ]
    },
    {
     "name": "stderr",
     "output_type": "stream",
     "text": [
      "C:\\Users\\Usuario\\AppData\\Local\\Temp\\ipykernel_23524\\706736877.py:35: UserWarning: *c* argument looks like a single numeric RGB or RGBA sequence, which should be avoided as value-mapping will have precedence in case its length matches with *x* & *y*.  Please use the *color* keyword-argument or provide a 2D array with a single row if you intend to specify the same RGB or RGBA value for all points.\n",
      "  plt.scatter(subset[primeira_variavel], subset[segunda_variavel],\n"
     ]
    },
    {
     "name": "stdout",
     "output_type": "stream",
     "text": [
      "-----------------------------------------------------------------\n",
      "SUCESSO! O gráfico foi salvo como 'c:\\Users\\Usuario\\Documents\\ufrj\\gestao\\TrabGest/plots/k22/kmedias_k22_SepalWidthCm_PetalWidthCm.png' na mesma pasta do seu notebook.\n",
      "-----------------------------------------------------------------\n",
      "PetalLengthCm PetalWidthCm  dim3  dim4\n",
      "Backend do Matplotlib alterado para 'Agg'. Iniciando a criação do gráfico em memória...\n"
     ]
    },
    {
     "name": "stderr",
     "output_type": "stream",
     "text": [
      "C:\\Users\\Usuario\\AppData\\Local\\Temp\\ipykernel_23524\\706736877.py:35: UserWarning: *c* argument looks like a single numeric RGB or RGBA sequence, which should be avoided as value-mapping will have precedence in case its length matches with *x* & *y*.  Please use the *color* keyword-argument or provide a 2D array with a single row if you intend to specify the same RGB or RGBA value for all points.\n",
      "  plt.scatter(subset[primeira_variavel], subset[segunda_variavel],\n"
     ]
    },
    {
     "name": "stdout",
     "output_type": "stream",
     "text": [
      "-----------------------------------------------------------------\n",
      "SUCESSO! O gráfico foi salvo como 'c:\\Users\\Usuario\\Documents\\ufrj\\gestao\\TrabGest/plots/k22/kmedias_k22_PetalLengthCm_PetalWidthCm.png' na mesma pasta do seu notebook.\n",
      "-----------------------------------------------------------------\n",
      "SepalLengthCm SepalWidthCm  dim1  dim2\n",
      "Backend do Matplotlib alterado para 'Agg'. Iniciando a criação do gráfico em memória...\n"
     ]
    },
    {
     "name": "stderr",
     "output_type": "stream",
     "text": [
      "C:\\Users\\Usuario\\AppData\\Local\\Temp\\ipykernel_23524\\706736877.py:35: UserWarning: *c* argument looks like a single numeric RGB or RGBA sequence, which should be avoided as value-mapping will have precedence in case its length matches with *x* & *y*.  Please use the *color* keyword-argument or provide a 2D array with a single row if you intend to specify the same RGB or RGBA value for all points.\n",
      "  plt.scatter(subset[primeira_variavel], subset[segunda_variavel],\n"
     ]
    },
    {
     "name": "stdout",
     "output_type": "stream",
     "text": [
      "-----------------------------------------------------------------\n",
      "SUCESSO! O gráfico foi salvo como 'c:\\Users\\Usuario\\Documents\\ufrj\\gestao\\TrabGest/plots/k23/kmedias_k23_SepalLengthCm_SepalWidthCm.png' na mesma pasta do seu notebook.\n",
      "-----------------------------------------------------------------\n",
      "SepalLengthCm PetalLengthCm  dim1  dim3\n",
      "Backend do Matplotlib alterado para 'Agg'. Iniciando a criação do gráfico em memória...\n"
     ]
    },
    {
     "name": "stderr",
     "output_type": "stream",
     "text": [
      "C:\\Users\\Usuario\\AppData\\Local\\Temp\\ipykernel_23524\\706736877.py:35: UserWarning: *c* argument looks like a single numeric RGB or RGBA sequence, which should be avoided as value-mapping will have precedence in case its length matches with *x* & *y*.  Please use the *color* keyword-argument or provide a 2D array with a single row if you intend to specify the same RGB or RGBA value for all points.\n",
      "  plt.scatter(subset[primeira_variavel], subset[segunda_variavel],\n"
     ]
    },
    {
     "name": "stdout",
     "output_type": "stream",
     "text": [
      "-----------------------------------------------------------------\n",
      "SUCESSO! O gráfico foi salvo como 'c:\\Users\\Usuario\\Documents\\ufrj\\gestao\\TrabGest/plots/k23/kmedias_k23_SepalLengthCm_PetalLengthCm.png' na mesma pasta do seu notebook.\n",
      "-----------------------------------------------------------------\n",
      "SepalLengthCm PetalWidthCm  dim1  dim4\n",
      "Backend do Matplotlib alterado para 'Agg'. Iniciando a criação do gráfico em memória...\n"
     ]
    },
    {
     "name": "stderr",
     "output_type": "stream",
     "text": [
      "C:\\Users\\Usuario\\AppData\\Local\\Temp\\ipykernel_23524\\706736877.py:35: UserWarning: *c* argument looks like a single numeric RGB or RGBA sequence, which should be avoided as value-mapping will have precedence in case its length matches with *x* & *y*.  Please use the *color* keyword-argument or provide a 2D array with a single row if you intend to specify the same RGB or RGBA value for all points.\n",
      "  plt.scatter(subset[primeira_variavel], subset[segunda_variavel],\n"
     ]
    },
    {
     "name": "stdout",
     "output_type": "stream",
     "text": [
      "-----------------------------------------------------------------\n",
      "SUCESSO! O gráfico foi salvo como 'c:\\Users\\Usuario\\Documents\\ufrj\\gestao\\TrabGest/plots/k23/kmedias_k23_SepalLengthCm_PetalWidthCm.png' na mesma pasta do seu notebook.\n",
      "-----------------------------------------------------------------\n",
      "SepalWidthCm PetalLengthCm  dim2  dim3\n",
      "Backend do Matplotlib alterado para 'Agg'. Iniciando a criação do gráfico em memória...\n"
     ]
    },
    {
     "name": "stderr",
     "output_type": "stream",
     "text": [
      "C:\\Users\\Usuario\\AppData\\Local\\Temp\\ipykernel_23524\\706736877.py:35: UserWarning: *c* argument looks like a single numeric RGB or RGBA sequence, which should be avoided as value-mapping will have precedence in case its length matches with *x* & *y*.  Please use the *color* keyword-argument or provide a 2D array with a single row if you intend to specify the same RGB or RGBA value for all points.\n",
      "  plt.scatter(subset[primeira_variavel], subset[segunda_variavel],\n"
     ]
    },
    {
     "name": "stdout",
     "output_type": "stream",
     "text": [
      "-----------------------------------------------------------------\n",
      "SUCESSO! O gráfico foi salvo como 'c:\\Users\\Usuario\\Documents\\ufrj\\gestao\\TrabGest/plots/k23/kmedias_k23_SepalWidthCm_PetalLengthCm.png' na mesma pasta do seu notebook.\n",
      "-----------------------------------------------------------------\n",
      "SepalWidthCm PetalWidthCm  dim2  dim4\n",
      "Backend do Matplotlib alterado para 'Agg'. Iniciando a criação do gráfico em memória...\n"
     ]
    },
    {
     "name": "stderr",
     "output_type": "stream",
     "text": [
      "C:\\Users\\Usuario\\AppData\\Local\\Temp\\ipykernel_23524\\706736877.py:35: UserWarning: *c* argument looks like a single numeric RGB or RGBA sequence, which should be avoided as value-mapping will have precedence in case its length matches with *x* & *y*.  Please use the *color* keyword-argument or provide a 2D array with a single row if you intend to specify the same RGB or RGBA value for all points.\n",
      "  plt.scatter(subset[primeira_variavel], subset[segunda_variavel],\n"
     ]
    },
    {
     "name": "stdout",
     "output_type": "stream",
     "text": [
      "-----------------------------------------------------------------\n",
      "SUCESSO! O gráfico foi salvo como 'c:\\Users\\Usuario\\Documents\\ufrj\\gestao\\TrabGest/plots/k23/kmedias_k23_SepalWidthCm_PetalWidthCm.png' na mesma pasta do seu notebook.\n",
      "-----------------------------------------------------------------\n",
      "PetalLengthCm PetalWidthCm  dim3  dim4\n",
      "Backend do Matplotlib alterado para 'Agg'. Iniciando a criação do gráfico em memória...\n"
     ]
    },
    {
     "name": "stderr",
     "output_type": "stream",
     "text": [
      "C:\\Users\\Usuario\\AppData\\Local\\Temp\\ipykernel_23524\\706736877.py:35: UserWarning: *c* argument looks like a single numeric RGB or RGBA sequence, which should be avoided as value-mapping will have precedence in case its length matches with *x* & *y*.  Please use the *color* keyword-argument or provide a 2D array with a single row if you intend to specify the same RGB or RGBA value for all points.\n",
      "  plt.scatter(subset[primeira_variavel], subset[segunda_variavel],\n"
     ]
    },
    {
     "name": "stdout",
     "output_type": "stream",
     "text": [
      "-----------------------------------------------------------------\n",
      "SUCESSO! O gráfico foi salvo como 'c:\\Users\\Usuario\\Documents\\ufrj\\gestao\\TrabGest/plots/k23/kmedias_k23_PetalLengthCm_PetalWidthCm.png' na mesma pasta do seu notebook.\n",
      "-----------------------------------------------------------------\n",
      "SepalLengthCm SepalWidthCm  dim1  dim2\n",
      "Backend do Matplotlib alterado para 'Agg'. Iniciando a criação do gráfico em memória...\n"
     ]
    },
    {
     "name": "stderr",
     "output_type": "stream",
     "text": [
      "C:\\Users\\Usuario\\AppData\\Local\\Temp\\ipykernel_23524\\706736877.py:35: UserWarning: *c* argument looks like a single numeric RGB or RGBA sequence, which should be avoided as value-mapping will have precedence in case its length matches with *x* & *y*.  Please use the *color* keyword-argument or provide a 2D array with a single row if you intend to specify the same RGB or RGBA value for all points.\n",
      "  plt.scatter(subset[primeira_variavel], subset[segunda_variavel],\n"
     ]
    },
    {
     "name": "stdout",
     "output_type": "stream",
     "text": [
      "-----------------------------------------------------------------\n",
      "SUCESSO! O gráfico foi salvo como 'c:\\Users\\Usuario\\Documents\\ufrj\\gestao\\TrabGest/plots/k24/kmedias_k24_SepalLengthCm_SepalWidthCm.png' na mesma pasta do seu notebook.\n",
      "-----------------------------------------------------------------\n",
      "SepalLengthCm PetalLengthCm  dim1  dim3\n",
      "Backend do Matplotlib alterado para 'Agg'. Iniciando a criação do gráfico em memória...\n"
     ]
    },
    {
     "name": "stderr",
     "output_type": "stream",
     "text": [
      "C:\\Users\\Usuario\\AppData\\Local\\Temp\\ipykernel_23524\\706736877.py:35: UserWarning: *c* argument looks like a single numeric RGB or RGBA sequence, which should be avoided as value-mapping will have precedence in case its length matches with *x* & *y*.  Please use the *color* keyword-argument or provide a 2D array with a single row if you intend to specify the same RGB or RGBA value for all points.\n",
      "  plt.scatter(subset[primeira_variavel], subset[segunda_variavel],\n"
     ]
    },
    {
     "name": "stdout",
     "output_type": "stream",
     "text": [
      "-----------------------------------------------------------------\n",
      "SUCESSO! O gráfico foi salvo como 'c:\\Users\\Usuario\\Documents\\ufrj\\gestao\\TrabGest/plots/k24/kmedias_k24_SepalLengthCm_PetalLengthCm.png' na mesma pasta do seu notebook.\n",
      "-----------------------------------------------------------------\n",
      "SepalLengthCm PetalWidthCm  dim1  dim4\n",
      "Backend do Matplotlib alterado para 'Agg'. Iniciando a criação do gráfico em memória...\n"
     ]
    },
    {
     "name": "stderr",
     "output_type": "stream",
     "text": [
      "C:\\Users\\Usuario\\AppData\\Local\\Temp\\ipykernel_23524\\706736877.py:35: UserWarning: *c* argument looks like a single numeric RGB or RGBA sequence, which should be avoided as value-mapping will have precedence in case its length matches with *x* & *y*.  Please use the *color* keyword-argument or provide a 2D array with a single row if you intend to specify the same RGB or RGBA value for all points.\n",
      "  plt.scatter(subset[primeira_variavel], subset[segunda_variavel],\n"
     ]
    },
    {
     "name": "stdout",
     "output_type": "stream",
     "text": [
      "-----------------------------------------------------------------\n",
      "SUCESSO! O gráfico foi salvo como 'c:\\Users\\Usuario\\Documents\\ufrj\\gestao\\TrabGest/plots/k24/kmedias_k24_SepalLengthCm_PetalWidthCm.png' na mesma pasta do seu notebook.\n",
      "-----------------------------------------------------------------\n",
      "SepalWidthCm PetalLengthCm  dim2  dim3\n",
      "Backend do Matplotlib alterado para 'Agg'. Iniciando a criação do gráfico em memória...\n"
     ]
    },
    {
     "name": "stderr",
     "output_type": "stream",
     "text": [
      "C:\\Users\\Usuario\\AppData\\Local\\Temp\\ipykernel_23524\\706736877.py:35: UserWarning: *c* argument looks like a single numeric RGB or RGBA sequence, which should be avoided as value-mapping will have precedence in case its length matches with *x* & *y*.  Please use the *color* keyword-argument or provide a 2D array with a single row if you intend to specify the same RGB or RGBA value for all points.\n",
      "  plt.scatter(subset[primeira_variavel], subset[segunda_variavel],\n"
     ]
    },
    {
     "name": "stdout",
     "output_type": "stream",
     "text": [
      "-----------------------------------------------------------------\n",
      "SUCESSO! O gráfico foi salvo como 'c:\\Users\\Usuario\\Documents\\ufrj\\gestao\\TrabGest/plots/k24/kmedias_k24_SepalWidthCm_PetalLengthCm.png' na mesma pasta do seu notebook.\n",
      "-----------------------------------------------------------------\n",
      "SepalWidthCm PetalWidthCm  dim2  dim4\n",
      "Backend do Matplotlib alterado para 'Agg'. Iniciando a criação do gráfico em memória...\n"
     ]
    },
    {
     "name": "stderr",
     "output_type": "stream",
     "text": [
      "C:\\Users\\Usuario\\AppData\\Local\\Temp\\ipykernel_23524\\706736877.py:35: UserWarning: *c* argument looks like a single numeric RGB or RGBA sequence, which should be avoided as value-mapping will have precedence in case its length matches with *x* & *y*.  Please use the *color* keyword-argument or provide a 2D array with a single row if you intend to specify the same RGB or RGBA value for all points.\n",
      "  plt.scatter(subset[primeira_variavel], subset[segunda_variavel],\n"
     ]
    },
    {
     "name": "stdout",
     "output_type": "stream",
     "text": [
      "-----------------------------------------------------------------\n",
      "SUCESSO! O gráfico foi salvo como 'c:\\Users\\Usuario\\Documents\\ufrj\\gestao\\TrabGest/plots/k24/kmedias_k24_SepalWidthCm_PetalWidthCm.png' na mesma pasta do seu notebook.\n",
      "-----------------------------------------------------------------\n",
      "PetalLengthCm PetalWidthCm  dim3  dim4\n",
      "Backend do Matplotlib alterado para 'Agg'. Iniciando a criação do gráfico em memória...\n"
     ]
    },
    {
     "name": "stderr",
     "output_type": "stream",
     "text": [
      "C:\\Users\\Usuario\\AppData\\Local\\Temp\\ipykernel_23524\\706736877.py:35: UserWarning: *c* argument looks like a single numeric RGB or RGBA sequence, which should be avoided as value-mapping will have precedence in case its length matches with *x* & *y*.  Please use the *color* keyword-argument or provide a 2D array with a single row if you intend to specify the same RGB or RGBA value for all points.\n",
      "  plt.scatter(subset[primeira_variavel], subset[segunda_variavel],\n"
     ]
    },
    {
     "name": "stdout",
     "output_type": "stream",
     "text": [
      "-----------------------------------------------------------------\n",
      "SUCESSO! O gráfico foi salvo como 'c:\\Users\\Usuario\\Documents\\ufrj\\gestao\\TrabGest/plots/k24/kmedias_k24_PetalLengthCm_PetalWidthCm.png' na mesma pasta do seu notebook.\n",
      "-----------------------------------------------------------------\n",
      "SepalLengthCm SepalWidthCm  dim1  dim2\n",
      "Backend do Matplotlib alterado para 'Agg'. Iniciando a criação do gráfico em memória...\n"
     ]
    },
    {
     "name": "stderr",
     "output_type": "stream",
     "text": [
      "C:\\Users\\Usuario\\AppData\\Local\\Temp\\ipykernel_23524\\706736877.py:35: UserWarning: *c* argument looks like a single numeric RGB or RGBA sequence, which should be avoided as value-mapping will have precedence in case its length matches with *x* & *y*.  Please use the *color* keyword-argument or provide a 2D array with a single row if you intend to specify the same RGB or RGBA value for all points.\n",
      "  plt.scatter(subset[primeira_variavel], subset[segunda_variavel],\n"
     ]
    },
    {
     "name": "stdout",
     "output_type": "stream",
     "text": [
      "-----------------------------------------------------------------\n",
      "SUCESSO! O gráfico foi salvo como 'c:\\Users\\Usuario\\Documents\\ufrj\\gestao\\TrabGest/plots/k25/kmedias_k25_SepalLengthCm_SepalWidthCm.png' na mesma pasta do seu notebook.\n",
      "-----------------------------------------------------------------\n",
      "SepalLengthCm PetalLengthCm  dim1  dim3\n",
      "Backend do Matplotlib alterado para 'Agg'. Iniciando a criação do gráfico em memória...\n"
     ]
    },
    {
     "name": "stderr",
     "output_type": "stream",
     "text": [
      "C:\\Users\\Usuario\\AppData\\Local\\Temp\\ipykernel_23524\\706736877.py:35: UserWarning: *c* argument looks like a single numeric RGB or RGBA sequence, which should be avoided as value-mapping will have precedence in case its length matches with *x* & *y*.  Please use the *color* keyword-argument or provide a 2D array with a single row if you intend to specify the same RGB or RGBA value for all points.\n",
      "  plt.scatter(subset[primeira_variavel], subset[segunda_variavel],\n"
     ]
    },
    {
     "name": "stdout",
     "output_type": "stream",
     "text": [
      "-----------------------------------------------------------------\n",
      "SUCESSO! O gráfico foi salvo como 'c:\\Users\\Usuario\\Documents\\ufrj\\gestao\\TrabGest/plots/k25/kmedias_k25_SepalLengthCm_PetalLengthCm.png' na mesma pasta do seu notebook.\n",
      "-----------------------------------------------------------------\n",
      "SepalLengthCm PetalWidthCm  dim1  dim4\n",
      "Backend do Matplotlib alterado para 'Agg'. Iniciando a criação do gráfico em memória...\n"
     ]
    },
    {
     "name": "stderr",
     "output_type": "stream",
     "text": [
      "C:\\Users\\Usuario\\AppData\\Local\\Temp\\ipykernel_23524\\706736877.py:35: UserWarning: *c* argument looks like a single numeric RGB or RGBA sequence, which should be avoided as value-mapping will have precedence in case its length matches with *x* & *y*.  Please use the *color* keyword-argument or provide a 2D array with a single row if you intend to specify the same RGB or RGBA value for all points.\n",
      "  plt.scatter(subset[primeira_variavel], subset[segunda_variavel],\n"
     ]
    },
    {
     "name": "stdout",
     "output_type": "stream",
     "text": [
      "-----------------------------------------------------------------\n",
      "SUCESSO! O gráfico foi salvo como 'c:\\Users\\Usuario\\Documents\\ufrj\\gestao\\TrabGest/plots/k25/kmedias_k25_SepalLengthCm_PetalWidthCm.png' na mesma pasta do seu notebook.\n",
      "-----------------------------------------------------------------\n",
      "SepalWidthCm PetalLengthCm  dim2  dim3\n",
      "Backend do Matplotlib alterado para 'Agg'. Iniciando a criação do gráfico em memória...\n"
     ]
    },
    {
     "name": "stderr",
     "output_type": "stream",
     "text": [
      "C:\\Users\\Usuario\\AppData\\Local\\Temp\\ipykernel_23524\\706736877.py:35: UserWarning: *c* argument looks like a single numeric RGB or RGBA sequence, which should be avoided as value-mapping will have precedence in case its length matches with *x* & *y*.  Please use the *color* keyword-argument or provide a 2D array with a single row if you intend to specify the same RGB or RGBA value for all points.\n",
      "  plt.scatter(subset[primeira_variavel], subset[segunda_variavel],\n"
     ]
    },
    {
     "name": "stdout",
     "output_type": "stream",
     "text": [
      "-----------------------------------------------------------------\n",
      "SUCESSO! O gráfico foi salvo como 'c:\\Users\\Usuario\\Documents\\ufrj\\gestao\\TrabGest/plots/k25/kmedias_k25_SepalWidthCm_PetalLengthCm.png' na mesma pasta do seu notebook.\n",
      "-----------------------------------------------------------------\n",
      "SepalWidthCm PetalWidthCm  dim2  dim4\n",
      "Backend do Matplotlib alterado para 'Agg'. Iniciando a criação do gráfico em memória...\n"
     ]
    },
    {
     "name": "stderr",
     "output_type": "stream",
     "text": [
      "C:\\Users\\Usuario\\AppData\\Local\\Temp\\ipykernel_23524\\706736877.py:35: UserWarning: *c* argument looks like a single numeric RGB or RGBA sequence, which should be avoided as value-mapping will have precedence in case its length matches with *x* & *y*.  Please use the *color* keyword-argument or provide a 2D array with a single row if you intend to specify the same RGB or RGBA value for all points.\n",
      "  plt.scatter(subset[primeira_variavel], subset[segunda_variavel],\n"
     ]
    },
    {
     "name": "stdout",
     "output_type": "stream",
     "text": [
      "-----------------------------------------------------------------\n",
      "SUCESSO! O gráfico foi salvo como 'c:\\Users\\Usuario\\Documents\\ufrj\\gestao\\TrabGest/plots/k25/kmedias_k25_SepalWidthCm_PetalWidthCm.png' na mesma pasta do seu notebook.\n",
      "-----------------------------------------------------------------\n",
      "PetalLengthCm PetalWidthCm  dim3  dim4\n",
      "Backend do Matplotlib alterado para 'Agg'. Iniciando a criação do gráfico em memória...\n"
     ]
    },
    {
     "name": "stderr",
     "output_type": "stream",
     "text": [
      "C:\\Users\\Usuario\\AppData\\Local\\Temp\\ipykernel_23524\\706736877.py:35: UserWarning: *c* argument looks like a single numeric RGB or RGBA sequence, which should be avoided as value-mapping will have precedence in case its length matches with *x* & *y*.  Please use the *color* keyword-argument or provide a 2D array with a single row if you intend to specify the same RGB or RGBA value for all points.\n",
      "  plt.scatter(subset[primeira_variavel], subset[segunda_variavel],\n"
     ]
    },
    {
     "name": "stdout",
     "output_type": "stream",
     "text": [
      "-----------------------------------------------------------------\n",
      "SUCESSO! O gráfico foi salvo como 'c:\\Users\\Usuario\\Documents\\ufrj\\gestao\\TrabGest/plots/k25/kmedias_k25_PetalLengthCm_PetalWidthCm.png' na mesma pasta do seu notebook.\n",
      "-----------------------------------------------------------------\n",
      "SepalLengthCm SepalWidthCm  dim1  dim2\n",
      "Backend do Matplotlib alterado para 'Agg'. Iniciando a criação do gráfico em memória...\n"
     ]
    },
    {
     "name": "stderr",
     "output_type": "stream",
     "text": [
      "C:\\Users\\Usuario\\AppData\\Local\\Temp\\ipykernel_23524\\706736877.py:35: UserWarning: *c* argument looks like a single numeric RGB or RGBA sequence, which should be avoided as value-mapping will have precedence in case its length matches with *x* & *y*.  Please use the *color* keyword-argument or provide a 2D array with a single row if you intend to specify the same RGB or RGBA value for all points.\n",
      "  plt.scatter(subset[primeira_variavel], subset[segunda_variavel],\n"
     ]
    },
    {
     "name": "stdout",
     "output_type": "stream",
     "text": [
      "-----------------------------------------------------------------\n",
      "SUCESSO! O gráfico foi salvo como 'c:\\Users\\Usuario\\Documents\\ufrj\\gestao\\TrabGest/plots/k26/kmedias_k26_SepalLengthCm_SepalWidthCm.png' na mesma pasta do seu notebook.\n",
      "-----------------------------------------------------------------\n",
      "SepalLengthCm PetalLengthCm  dim1  dim3\n",
      "Backend do Matplotlib alterado para 'Agg'. Iniciando a criação do gráfico em memória...\n"
     ]
    },
    {
     "name": "stderr",
     "output_type": "stream",
     "text": [
      "C:\\Users\\Usuario\\AppData\\Local\\Temp\\ipykernel_23524\\706736877.py:35: UserWarning: *c* argument looks like a single numeric RGB or RGBA sequence, which should be avoided as value-mapping will have precedence in case its length matches with *x* & *y*.  Please use the *color* keyword-argument or provide a 2D array with a single row if you intend to specify the same RGB or RGBA value for all points.\n",
      "  plt.scatter(subset[primeira_variavel], subset[segunda_variavel],\n"
     ]
    },
    {
     "name": "stdout",
     "output_type": "stream",
     "text": [
      "-----------------------------------------------------------------\n",
      "SUCESSO! O gráfico foi salvo como 'c:\\Users\\Usuario\\Documents\\ufrj\\gestao\\TrabGest/plots/k26/kmedias_k26_SepalLengthCm_PetalLengthCm.png' na mesma pasta do seu notebook.\n",
      "-----------------------------------------------------------------\n",
      "SepalLengthCm PetalWidthCm  dim1  dim4\n",
      "Backend do Matplotlib alterado para 'Agg'. Iniciando a criação do gráfico em memória...\n"
     ]
    },
    {
     "name": "stderr",
     "output_type": "stream",
     "text": [
      "C:\\Users\\Usuario\\AppData\\Local\\Temp\\ipykernel_23524\\706736877.py:35: UserWarning: *c* argument looks like a single numeric RGB or RGBA sequence, which should be avoided as value-mapping will have precedence in case its length matches with *x* & *y*.  Please use the *color* keyword-argument or provide a 2D array with a single row if you intend to specify the same RGB or RGBA value for all points.\n",
      "  plt.scatter(subset[primeira_variavel], subset[segunda_variavel],\n"
     ]
    },
    {
     "name": "stdout",
     "output_type": "stream",
     "text": [
      "-----------------------------------------------------------------\n",
      "SUCESSO! O gráfico foi salvo como 'c:\\Users\\Usuario\\Documents\\ufrj\\gestao\\TrabGest/plots/k26/kmedias_k26_SepalLengthCm_PetalWidthCm.png' na mesma pasta do seu notebook.\n",
      "-----------------------------------------------------------------\n",
      "SepalWidthCm PetalLengthCm  dim2  dim3\n",
      "Backend do Matplotlib alterado para 'Agg'. Iniciando a criação do gráfico em memória...\n"
     ]
    },
    {
     "name": "stderr",
     "output_type": "stream",
     "text": [
      "C:\\Users\\Usuario\\AppData\\Local\\Temp\\ipykernel_23524\\706736877.py:35: UserWarning: *c* argument looks like a single numeric RGB or RGBA sequence, which should be avoided as value-mapping will have precedence in case its length matches with *x* & *y*.  Please use the *color* keyword-argument or provide a 2D array with a single row if you intend to specify the same RGB or RGBA value for all points.\n",
      "  plt.scatter(subset[primeira_variavel], subset[segunda_variavel],\n"
     ]
    },
    {
     "name": "stdout",
     "output_type": "stream",
     "text": [
      "-----------------------------------------------------------------\n",
      "SUCESSO! O gráfico foi salvo como 'c:\\Users\\Usuario\\Documents\\ufrj\\gestao\\TrabGest/plots/k26/kmedias_k26_SepalWidthCm_PetalLengthCm.png' na mesma pasta do seu notebook.\n",
      "-----------------------------------------------------------------\n",
      "SepalWidthCm PetalWidthCm  dim2  dim4\n",
      "Backend do Matplotlib alterado para 'Agg'. Iniciando a criação do gráfico em memória...\n"
     ]
    },
    {
     "name": "stderr",
     "output_type": "stream",
     "text": [
      "C:\\Users\\Usuario\\AppData\\Local\\Temp\\ipykernel_23524\\706736877.py:35: UserWarning: *c* argument looks like a single numeric RGB or RGBA sequence, which should be avoided as value-mapping will have precedence in case its length matches with *x* & *y*.  Please use the *color* keyword-argument or provide a 2D array with a single row if you intend to specify the same RGB or RGBA value for all points.\n",
      "  plt.scatter(subset[primeira_variavel], subset[segunda_variavel],\n"
     ]
    },
    {
     "name": "stdout",
     "output_type": "stream",
     "text": [
      "-----------------------------------------------------------------\n",
      "SUCESSO! O gráfico foi salvo como 'c:\\Users\\Usuario\\Documents\\ufrj\\gestao\\TrabGest/plots/k26/kmedias_k26_SepalWidthCm_PetalWidthCm.png' na mesma pasta do seu notebook.\n",
      "-----------------------------------------------------------------\n",
      "PetalLengthCm PetalWidthCm  dim3  dim4\n",
      "Backend do Matplotlib alterado para 'Agg'. Iniciando a criação do gráfico em memória...\n"
     ]
    },
    {
     "name": "stderr",
     "output_type": "stream",
     "text": [
      "C:\\Users\\Usuario\\AppData\\Local\\Temp\\ipykernel_23524\\706736877.py:35: UserWarning: *c* argument looks like a single numeric RGB or RGBA sequence, which should be avoided as value-mapping will have precedence in case its length matches with *x* & *y*.  Please use the *color* keyword-argument or provide a 2D array with a single row if you intend to specify the same RGB or RGBA value for all points.\n",
      "  plt.scatter(subset[primeira_variavel], subset[segunda_variavel],\n"
     ]
    },
    {
     "name": "stdout",
     "output_type": "stream",
     "text": [
      "-----------------------------------------------------------------\n",
      "SUCESSO! O gráfico foi salvo como 'c:\\Users\\Usuario\\Documents\\ufrj\\gestao\\TrabGest/plots/k26/kmedias_k26_PetalLengthCm_PetalWidthCm.png' na mesma pasta do seu notebook.\n",
      "-----------------------------------------------------------------\n",
      "SepalLengthCm SepalWidthCm  dim1  dim2\n",
      "Backend do Matplotlib alterado para 'Agg'. Iniciando a criação do gráfico em memória...\n"
     ]
    },
    {
     "name": "stderr",
     "output_type": "stream",
     "text": [
      "C:\\Users\\Usuario\\AppData\\Local\\Temp\\ipykernel_23524\\706736877.py:35: UserWarning: *c* argument looks like a single numeric RGB or RGBA sequence, which should be avoided as value-mapping will have precedence in case its length matches with *x* & *y*.  Please use the *color* keyword-argument or provide a 2D array with a single row if you intend to specify the same RGB or RGBA value for all points.\n",
      "  plt.scatter(subset[primeira_variavel], subset[segunda_variavel],\n"
     ]
    },
    {
     "name": "stdout",
     "output_type": "stream",
     "text": [
      "-----------------------------------------------------------------\n",
      "SUCESSO! O gráfico foi salvo como 'c:\\Users\\Usuario\\Documents\\ufrj\\gestao\\TrabGest/plots/k27/kmedias_k27_SepalLengthCm_SepalWidthCm.png' na mesma pasta do seu notebook.\n",
      "-----------------------------------------------------------------\n",
      "SepalLengthCm PetalLengthCm  dim1  dim3\n",
      "Backend do Matplotlib alterado para 'Agg'. Iniciando a criação do gráfico em memória...\n"
     ]
    },
    {
     "name": "stderr",
     "output_type": "stream",
     "text": [
      "C:\\Users\\Usuario\\AppData\\Local\\Temp\\ipykernel_23524\\706736877.py:35: UserWarning: *c* argument looks like a single numeric RGB or RGBA sequence, which should be avoided as value-mapping will have precedence in case its length matches with *x* & *y*.  Please use the *color* keyword-argument or provide a 2D array with a single row if you intend to specify the same RGB or RGBA value for all points.\n",
      "  plt.scatter(subset[primeira_variavel], subset[segunda_variavel],\n"
     ]
    },
    {
     "name": "stdout",
     "output_type": "stream",
     "text": [
      "-----------------------------------------------------------------\n",
      "SUCESSO! O gráfico foi salvo como 'c:\\Users\\Usuario\\Documents\\ufrj\\gestao\\TrabGest/plots/k27/kmedias_k27_SepalLengthCm_PetalLengthCm.png' na mesma pasta do seu notebook.\n",
      "-----------------------------------------------------------------\n",
      "SepalLengthCm PetalWidthCm  dim1  dim4\n",
      "Backend do Matplotlib alterado para 'Agg'. Iniciando a criação do gráfico em memória...\n"
     ]
    },
    {
     "name": "stderr",
     "output_type": "stream",
     "text": [
      "C:\\Users\\Usuario\\AppData\\Local\\Temp\\ipykernel_23524\\706736877.py:35: UserWarning: *c* argument looks like a single numeric RGB or RGBA sequence, which should be avoided as value-mapping will have precedence in case its length matches with *x* & *y*.  Please use the *color* keyword-argument or provide a 2D array with a single row if you intend to specify the same RGB or RGBA value for all points.\n",
      "  plt.scatter(subset[primeira_variavel], subset[segunda_variavel],\n"
     ]
    },
    {
     "name": "stdout",
     "output_type": "stream",
     "text": [
      "-----------------------------------------------------------------\n",
      "SUCESSO! O gráfico foi salvo como 'c:\\Users\\Usuario\\Documents\\ufrj\\gestao\\TrabGest/plots/k27/kmedias_k27_SepalLengthCm_PetalWidthCm.png' na mesma pasta do seu notebook.\n",
      "-----------------------------------------------------------------\n",
      "SepalWidthCm PetalLengthCm  dim2  dim3\n",
      "Backend do Matplotlib alterado para 'Agg'. Iniciando a criação do gráfico em memória...\n"
     ]
    },
    {
     "name": "stderr",
     "output_type": "stream",
     "text": [
      "C:\\Users\\Usuario\\AppData\\Local\\Temp\\ipykernel_23524\\706736877.py:35: UserWarning: *c* argument looks like a single numeric RGB or RGBA sequence, which should be avoided as value-mapping will have precedence in case its length matches with *x* & *y*.  Please use the *color* keyword-argument or provide a 2D array with a single row if you intend to specify the same RGB or RGBA value for all points.\n",
      "  plt.scatter(subset[primeira_variavel], subset[segunda_variavel],\n"
     ]
    },
    {
     "name": "stdout",
     "output_type": "stream",
     "text": [
      "-----------------------------------------------------------------\n",
      "SUCESSO! O gráfico foi salvo como 'c:\\Users\\Usuario\\Documents\\ufrj\\gestao\\TrabGest/plots/k27/kmedias_k27_SepalWidthCm_PetalLengthCm.png' na mesma pasta do seu notebook.\n",
      "-----------------------------------------------------------------\n",
      "SepalWidthCm PetalWidthCm  dim2  dim4\n",
      "Backend do Matplotlib alterado para 'Agg'. Iniciando a criação do gráfico em memória...\n"
     ]
    },
    {
     "name": "stderr",
     "output_type": "stream",
     "text": [
      "C:\\Users\\Usuario\\AppData\\Local\\Temp\\ipykernel_23524\\706736877.py:35: UserWarning: *c* argument looks like a single numeric RGB or RGBA sequence, which should be avoided as value-mapping will have precedence in case its length matches with *x* & *y*.  Please use the *color* keyword-argument or provide a 2D array with a single row if you intend to specify the same RGB or RGBA value for all points.\n",
      "  plt.scatter(subset[primeira_variavel], subset[segunda_variavel],\n"
     ]
    },
    {
     "name": "stdout",
     "output_type": "stream",
     "text": [
      "-----------------------------------------------------------------\n",
      "SUCESSO! O gráfico foi salvo como 'c:\\Users\\Usuario\\Documents\\ufrj\\gestao\\TrabGest/plots/k27/kmedias_k27_SepalWidthCm_PetalWidthCm.png' na mesma pasta do seu notebook.\n",
      "-----------------------------------------------------------------\n",
      "PetalLengthCm PetalWidthCm  dim3  dim4\n",
      "Backend do Matplotlib alterado para 'Agg'. Iniciando a criação do gráfico em memória...\n"
     ]
    },
    {
     "name": "stderr",
     "output_type": "stream",
     "text": [
      "C:\\Users\\Usuario\\AppData\\Local\\Temp\\ipykernel_23524\\706736877.py:35: UserWarning: *c* argument looks like a single numeric RGB or RGBA sequence, which should be avoided as value-mapping will have precedence in case its length matches with *x* & *y*.  Please use the *color* keyword-argument or provide a 2D array with a single row if you intend to specify the same RGB or RGBA value for all points.\n",
      "  plt.scatter(subset[primeira_variavel], subset[segunda_variavel],\n"
     ]
    },
    {
     "name": "stdout",
     "output_type": "stream",
     "text": [
      "-----------------------------------------------------------------\n",
      "SUCESSO! O gráfico foi salvo como 'c:\\Users\\Usuario\\Documents\\ufrj\\gestao\\TrabGest/plots/k27/kmedias_k27_PetalLengthCm_PetalWidthCm.png' na mesma pasta do seu notebook.\n",
      "-----------------------------------------------------------------\n",
      "SepalLengthCm SepalWidthCm  dim1  dim2\n",
      "Backend do Matplotlib alterado para 'Agg'. Iniciando a criação do gráfico em memória...\n"
     ]
    },
    {
     "name": "stderr",
     "output_type": "stream",
     "text": [
      "C:\\Users\\Usuario\\AppData\\Local\\Temp\\ipykernel_23524\\706736877.py:35: UserWarning: *c* argument looks like a single numeric RGB or RGBA sequence, which should be avoided as value-mapping will have precedence in case its length matches with *x* & *y*.  Please use the *color* keyword-argument or provide a 2D array with a single row if you intend to specify the same RGB or RGBA value for all points.\n",
      "  plt.scatter(subset[primeira_variavel], subset[segunda_variavel],\n"
     ]
    },
    {
     "name": "stdout",
     "output_type": "stream",
     "text": [
      "-----------------------------------------------------------------\n",
      "SUCESSO! O gráfico foi salvo como 'c:\\Users\\Usuario\\Documents\\ufrj\\gestao\\TrabGest/plots/k28/kmedias_k28_SepalLengthCm_SepalWidthCm.png' na mesma pasta do seu notebook.\n",
      "-----------------------------------------------------------------\n",
      "SepalLengthCm PetalLengthCm  dim1  dim3\n",
      "Backend do Matplotlib alterado para 'Agg'. Iniciando a criação do gráfico em memória...\n"
     ]
    },
    {
     "name": "stderr",
     "output_type": "stream",
     "text": [
      "C:\\Users\\Usuario\\AppData\\Local\\Temp\\ipykernel_23524\\706736877.py:35: UserWarning: *c* argument looks like a single numeric RGB or RGBA sequence, which should be avoided as value-mapping will have precedence in case its length matches with *x* & *y*.  Please use the *color* keyword-argument or provide a 2D array with a single row if you intend to specify the same RGB or RGBA value for all points.\n",
      "  plt.scatter(subset[primeira_variavel], subset[segunda_variavel],\n"
     ]
    },
    {
     "name": "stdout",
     "output_type": "stream",
     "text": [
      "-----------------------------------------------------------------\n",
      "SUCESSO! O gráfico foi salvo como 'c:\\Users\\Usuario\\Documents\\ufrj\\gestao\\TrabGest/plots/k28/kmedias_k28_SepalLengthCm_PetalLengthCm.png' na mesma pasta do seu notebook.\n",
      "-----------------------------------------------------------------\n",
      "SepalLengthCm PetalWidthCm  dim1  dim4\n",
      "Backend do Matplotlib alterado para 'Agg'. Iniciando a criação do gráfico em memória...\n"
     ]
    },
    {
     "name": "stderr",
     "output_type": "stream",
     "text": [
      "C:\\Users\\Usuario\\AppData\\Local\\Temp\\ipykernel_23524\\706736877.py:35: UserWarning: *c* argument looks like a single numeric RGB or RGBA sequence, which should be avoided as value-mapping will have precedence in case its length matches with *x* & *y*.  Please use the *color* keyword-argument or provide a 2D array with a single row if you intend to specify the same RGB or RGBA value for all points.\n",
      "  plt.scatter(subset[primeira_variavel], subset[segunda_variavel],\n"
     ]
    },
    {
     "name": "stdout",
     "output_type": "stream",
     "text": [
      "-----------------------------------------------------------------\n",
      "SUCESSO! O gráfico foi salvo como 'c:\\Users\\Usuario\\Documents\\ufrj\\gestao\\TrabGest/plots/k28/kmedias_k28_SepalLengthCm_PetalWidthCm.png' na mesma pasta do seu notebook.\n",
      "-----------------------------------------------------------------\n",
      "SepalWidthCm PetalLengthCm  dim2  dim3\n",
      "Backend do Matplotlib alterado para 'Agg'. Iniciando a criação do gráfico em memória...\n"
     ]
    },
    {
     "name": "stderr",
     "output_type": "stream",
     "text": [
      "C:\\Users\\Usuario\\AppData\\Local\\Temp\\ipykernel_23524\\706736877.py:35: UserWarning: *c* argument looks like a single numeric RGB or RGBA sequence, which should be avoided as value-mapping will have precedence in case its length matches with *x* & *y*.  Please use the *color* keyword-argument or provide a 2D array with a single row if you intend to specify the same RGB or RGBA value for all points.\n",
      "  plt.scatter(subset[primeira_variavel], subset[segunda_variavel],\n"
     ]
    },
    {
     "name": "stdout",
     "output_type": "stream",
     "text": [
      "-----------------------------------------------------------------\n",
      "SUCESSO! O gráfico foi salvo como 'c:\\Users\\Usuario\\Documents\\ufrj\\gestao\\TrabGest/plots/k28/kmedias_k28_SepalWidthCm_PetalLengthCm.png' na mesma pasta do seu notebook.\n",
      "-----------------------------------------------------------------\n",
      "SepalWidthCm PetalWidthCm  dim2  dim4\n",
      "Backend do Matplotlib alterado para 'Agg'. Iniciando a criação do gráfico em memória...\n"
     ]
    },
    {
     "name": "stderr",
     "output_type": "stream",
     "text": [
      "C:\\Users\\Usuario\\AppData\\Local\\Temp\\ipykernel_23524\\706736877.py:35: UserWarning: *c* argument looks like a single numeric RGB or RGBA sequence, which should be avoided as value-mapping will have precedence in case its length matches with *x* & *y*.  Please use the *color* keyword-argument or provide a 2D array with a single row if you intend to specify the same RGB or RGBA value for all points.\n",
      "  plt.scatter(subset[primeira_variavel], subset[segunda_variavel],\n"
     ]
    },
    {
     "name": "stdout",
     "output_type": "stream",
     "text": [
      "-----------------------------------------------------------------\n",
      "SUCESSO! O gráfico foi salvo como 'c:\\Users\\Usuario\\Documents\\ufrj\\gestao\\TrabGest/plots/k28/kmedias_k28_SepalWidthCm_PetalWidthCm.png' na mesma pasta do seu notebook.\n",
      "-----------------------------------------------------------------\n",
      "PetalLengthCm PetalWidthCm  dim3  dim4\n",
      "Backend do Matplotlib alterado para 'Agg'. Iniciando a criação do gráfico em memória...\n"
     ]
    },
    {
     "name": "stderr",
     "output_type": "stream",
     "text": [
      "C:\\Users\\Usuario\\AppData\\Local\\Temp\\ipykernel_23524\\706736877.py:35: UserWarning: *c* argument looks like a single numeric RGB or RGBA sequence, which should be avoided as value-mapping will have precedence in case its length matches with *x* & *y*.  Please use the *color* keyword-argument or provide a 2D array with a single row if you intend to specify the same RGB or RGBA value for all points.\n",
      "  plt.scatter(subset[primeira_variavel], subset[segunda_variavel],\n"
     ]
    },
    {
     "name": "stdout",
     "output_type": "stream",
     "text": [
      "-----------------------------------------------------------------\n",
      "SUCESSO! O gráfico foi salvo como 'c:\\Users\\Usuario\\Documents\\ufrj\\gestao\\TrabGest/plots/k28/kmedias_k28_PetalLengthCm_PetalWidthCm.png' na mesma pasta do seu notebook.\n",
      "-----------------------------------------------------------------\n",
      "SepalLengthCm SepalWidthCm  dim1  dim2\n",
      "Backend do Matplotlib alterado para 'Agg'. Iniciando a criação do gráfico em memória...\n"
     ]
    },
    {
     "name": "stderr",
     "output_type": "stream",
     "text": [
      "C:\\Users\\Usuario\\AppData\\Local\\Temp\\ipykernel_23524\\706736877.py:35: UserWarning: *c* argument looks like a single numeric RGB or RGBA sequence, which should be avoided as value-mapping will have precedence in case its length matches with *x* & *y*.  Please use the *color* keyword-argument or provide a 2D array with a single row if you intend to specify the same RGB or RGBA value for all points.\n",
      "  plt.scatter(subset[primeira_variavel], subset[segunda_variavel],\n"
     ]
    },
    {
     "name": "stdout",
     "output_type": "stream",
     "text": [
      "-----------------------------------------------------------------\n",
      "SUCESSO! O gráfico foi salvo como 'c:\\Users\\Usuario\\Documents\\ufrj\\gestao\\TrabGest/plots/k29/kmedias_k29_SepalLengthCm_SepalWidthCm.png' na mesma pasta do seu notebook.\n",
      "-----------------------------------------------------------------\n",
      "SepalLengthCm PetalLengthCm  dim1  dim3\n",
      "Backend do Matplotlib alterado para 'Agg'. Iniciando a criação do gráfico em memória...\n"
     ]
    },
    {
     "name": "stderr",
     "output_type": "stream",
     "text": [
      "C:\\Users\\Usuario\\AppData\\Local\\Temp\\ipykernel_23524\\706736877.py:35: UserWarning: *c* argument looks like a single numeric RGB or RGBA sequence, which should be avoided as value-mapping will have precedence in case its length matches with *x* & *y*.  Please use the *color* keyword-argument or provide a 2D array with a single row if you intend to specify the same RGB or RGBA value for all points.\n",
      "  plt.scatter(subset[primeira_variavel], subset[segunda_variavel],\n"
     ]
    },
    {
     "name": "stdout",
     "output_type": "stream",
     "text": [
      "-----------------------------------------------------------------\n",
      "SUCESSO! O gráfico foi salvo como 'c:\\Users\\Usuario\\Documents\\ufrj\\gestao\\TrabGest/plots/k29/kmedias_k29_SepalLengthCm_PetalLengthCm.png' na mesma pasta do seu notebook.\n",
      "-----------------------------------------------------------------\n",
      "SepalLengthCm PetalWidthCm  dim1  dim4\n",
      "Backend do Matplotlib alterado para 'Agg'. Iniciando a criação do gráfico em memória...\n"
     ]
    },
    {
     "name": "stderr",
     "output_type": "stream",
     "text": [
      "C:\\Users\\Usuario\\AppData\\Local\\Temp\\ipykernel_23524\\706736877.py:35: UserWarning: *c* argument looks like a single numeric RGB or RGBA sequence, which should be avoided as value-mapping will have precedence in case its length matches with *x* & *y*.  Please use the *color* keyword-argument or provide a 2D array with a single row if you intend to specify the same RGB or RGBA value for all points.\n",
      "  plt.scatter(subset[primeira_variavel], subset[segunda_variavel],\n"
     ]
    },
    {
     "name": "stdout",
     "output_type": "stream",
     "text": [
      "-----------------------------------------------------------------\n",
      "SUCESSO! O gráfico foi salvo como 'c:\\Users\\Usuario\\Documents\\ufrj\\gestao\\TrabGest/plots/k29/kmedias_k29_SepalLengthCm_PetalWidthCm.png' na mesma pasta do seu notebook.\n",
      "-----------------------------------------------------------------\n",
      "SepalWidthCm PetalLengthCm  dim2  dim3\n",
      "Backend do Matplotlib alterado para 'Agg'. Iniciando a criação do gráfico em memória...\n"
     ]
    },
    {
     "name": "stderr",
     "output_type": "stream",
     "text": [
      "C:\\Users\\Usuario\\AppData\\Local\\Temp\\ipykernel_23524\\706736877.py:35: UserWarning: *c* argument looks like a single numeric RGB or RGBA sequence, which should be avoided as value-mapping will have precedence in case its length matches with *x* & *y*.  Please use the *color* keyword-argument or provide a 2D array with a single row if you intend to specify the same RGB or RGBA value for all points.\n",
      "  plt.scatter(subset[primeira_variavel], subset[segunda_variavel],\n"
     ]
    },
    {
     "name": "stdout",
     "output_type": "stream",
     "text": [
      "-----------------------------------------------------------------\n",
      "SUCESSO! O gráfico foi salvo como 'c:\\Users\\Usuario\\Documents\\ufrj\\gestao\\TrabGest/plots/k29/kmedias_k29_SepalWidthCm_PetalLengthCm.png' na mesma pasta do seu notebook.\n",
      "-----------------------------------------------------------------\n",
      "SepalWidthCm PetalWidthCm  dim2  dim4\n",
      "Backend do Matplotlib alterado para 'Agg'. Iniciando a criação do gráfico em memória...\n"
     ]
    },
    {
     "name": "stderr",
     "output_type": "stream",
     "text": [
      "C:\\Users\\Usuario\\AppData\\Local\\Temp\\ipykernel_23524\\706736877.py:35: UserWarning: *c* argument looks like a single numeric RGB or RGBA sequence, which should be avoided as value-mapping will have precedence in case its length matches with *x* & *y*.  Please use the *color* keyword-argument or provide a 2D array with a single row if you intend to specify the same RGB or RGBA value for all points.\n",
      "  plt.scatter(subset[primeira_variavel], subset[segunda_variavel],\n"
     ]
    },
    {
     "name": "stdout",
     "output_type": "stream",
     "text": [
      "-----------------------------------------------------------------\n",
      "SUCESSO! O gráfico foi salvo como 'c:\\Users\\Usuario\\Documents\\ufrj\\gestao\\TrabGest/plots/k29/kmedias_k29_SepalWidthCm_PetalWidthCm.png' na mesma pasta do seu notebook.\n",
      "-----------------------------------------------------------------\n",
      "PetalLengthCm PetalWidthCm  dim3  dim4\n",
      "Backend do Matplotlib alterado para 'Agg'. Iniciando a criação do gráfico em memória...\n"
     ]
    },
    {
     "name": "stderr",
     "output_type": "stream",
     "text": [
      "C:\\Users\\Usuario\\AppData\\Local\\Temp\\ipykernel_23524\\706736877.py:35: UserWarning: *c* argument looks like a single numeric RGB or RGBA sequence, which should be avoided as value-mapping will have precedence in case its length matches with *x* & *y*.  Please use the *color* keyword-argument or provide a 2D array with a single row if you intend to specify the same RGB or RGBA value for all points.\n",
      "  plt.scatter(subset[primeira_variavel], subset[segunda_variavel],\n"
     ]
    },
    {
     "name": "stdout",
     "output_type": "stream",
     "text": [
      "-----------------------------------------------------------------\n",
      "SUCESSO! O gráfico foi salvo como 'c:\\Users\\Usuario\\Documents\\ufrj\\gestao\\TrabGest/plots/k29/kmedias_k29_PetalLengthCm_PetalWidthCm.png' na mesma pasta do seu notebook.\n",
      "-----------------------------------------------------------------\n",
      "SepalLengthCm SepalWidthCm  dim1  dim2\n",
      "Backend do Matplotlib alterado para 'Agg'. Iniciando a criação do gráfico em memória...\n"
     ]
    },
    {
     "name": "stderr",
     "output_type": "stream",
     "text": [
      "C:\\Users\\Usuario\\AppData\\Local\\Temp\\ipykernel_23524\\706736877.py:35: UserWarning: *c* argument looks like a single numeric RGB or RGBA sequence, which should be avoided as value-mapping will have precedence in case its length matches with *x* & *y*.  Please use the *color* keyword-argument or provide a 2D array with a single row if you intend to specify the same RGB or RGBA value for all points.\n",
      "  plt.scatter(subset[primeira_variavel], subset[segunda_variavel],\n"
     ]
    },
    {
     "name": "stdout",
     "output_type": "stream",
     "text": [
      "-----------------------------------------------------------------\n",
      "SUCESSO! O gráfico foi salvo como 'c:\\Users\\Usuario\\Documents\\ufrj\\gestao\\TrabGest/plots/k30/kmedias_k30_SepalLengthCm_SepalWidthCm.png' na mesma pasta do seu notebook.\n",
      "-----------------------------------------------------------------\n",
      "SepalLengthCm PetalLengthCm  dim1  dim3\n",
      "Backend do Matplotlib alterado para 'Agg'. Iniciando a criação do gráfico em memória...\n"
     ]
    },
    {
     "name": "stderr",
     "output_type": "stream",
     "text": [
      "C:\\Users\\Usuario\\AppData\\Local\\Temp\\ipykernel_23524\\706736877.py:35: UserWarning: *c* argument looks like a single numeric RGB or RGBA sequence, which should be avoided as value-mapping will have precedence in case its length matches with *x* & *y*.  Please use the *color* keyword-argument or provide a 2D array with a single row if you intend to specify the same RGB or RGBA value for all points.\n",
      "  plt.scatter(subset[primeira_variavel], subset[segunda_variavel],\n"
     ]
    },
    {
     "name": "stdout",
     "output_type": "stream",
     "text": [
      "-----------------------------------------------------------------\n",
      "SUCESSO! O gráfico foi salvo como 'c:\\Users\\Usuario\\Documents\\ufrj\\gestao\\TrabGest/plots/k30/kmedias_k30_SepalLengthCm_PetalLengthCm.png' na mesma pasta do seu notebook.\n",
      "-----------------------------------------------------------------\n",
      "SepalLengthCm PetalWidthCm  dim1  dim4\n",
      "Backend do Matplotlib alterado para 'Agg'. Iniciando a criação do gráfico em memória...\n"
     ]
    },
    {
     "name": "stderr",
     "output_type": "stream",
     "text": [
      "C:\\Users\\Usuario\\AppData\\Local\\Temp\\ipykernel_23524\\706736877.py:35: UserWarning: *c* argument looks like a single numeric RGB or RGBA sequence, which should be avoided as value-mapping will have precedence in case its length matches with *x* & *y*.  Please use the *color* keyword-argument or provide a 2D array with a single row if you intend to specify the same RGB or RGBA value for all points.\n",
      "  plt.scatter(subset[primeira_variavel], subset[segunda_variavel],\n"
     ]
    },
    {
     "name": "stdout",
     "output_type": "stream",
     "text": [
      "-----------------------------------------------------------------\n",
      "SUCESSO! O gráfico foi salvo como 'c:\\Users\\Usuario\\Documents\\ufrj\\gestao\\TrabGest/plots/k30/kmedias_k30_SepalLengthCm_PetalWidthCm.png' na mesma pasta do seu notebook.\n",
      "-----------------------------------------------------------------\n",
      "SepalWidthCm PetalLengthCm  dim2  dim3\n",
      "Backend do Matplotlib alterado para 'Agg'. Iniciando a criação do gráfico em memória...\n"
     ]
    },
    {
     "name": "stderr",
     "output_type": "stream",
     "text": [
      "C:\\Users\\Usuario\\AppData\\Local\\Temp\\ipykernel_23524\\706736877.py:35: UserWarning: *c* argument looks like a single numeric RGB or RGBA sequence, which should be avoided as value-mapping will have precedence in case its length matches with *x* & *y*.  Please use the *color* keyword-argument or provide a 2D array with a single row if you intend to specify the same RGB or RGBA value for all points.\n",
      "  plt.scatter(subset[primeira_variavel], subset[segunda_variavel],\n"
     ]
    },
    {
     "name": "stdout",
     "output_type": "stream",
     "text": [
      "-----------------------------------------------------------------\n",
      "SUCESSO! O gráfico foi salvo como 'c:\\Users\\Usuario\\Documents\\ufrj\\gestao\\TrabGest/plots/k30/kmedias_k30_SepalWidthCm_PetalLengthCm.png' na mesma pasta do seu notebook.\n",
      "-----------------------------------------------------------------\n",
      "SepalWidthCm PetalWidthCm  dim2  dim4\n",
      "Backend do Matplotlib alterado para 'Agg'. Iniciando a criação do gráfico em memória...\n"
     ]
    },
    {
     "name": "stderr",
     "output_type": "stream",
     "text": [
      "C:\\Users\\Usuario\\AppData\\Local\\Temp\\ipykernel_23524\\706736877.py:35: UserWarning: *c* argument looks like a single numeric RGB or RGBA sequence, which should be avoided as value-mapping will have precedence in case its length matches with *x* & *y*.  Please use the *color* keyword-argument or provide a 2D array with a single row if you intend to specify the same RGB or RGBA value for all points.\n",
      "  plt.scatter(subset[primeira_variavel], subset[segunda_variavel],\n"
     ]
    },
    {
     "name": "stdout",
     "output_type": "stream",
     "text": [
      "-----------------------------------------------------------------\n",
      "SUCESSO! O gráfico foi salvo como 'c:\\Users\\Usuario\\Documents\\ufrj\\gestao\\TrabGest/plots/k30/kmedias_k30_SepalWidthCm_PetalWidthCm.png' na mesma pasta do seu notebook.\n",
      "-----------------------------------------------------------------\n",
      "PetalLengthCm PetalWidthCm  dim3  dim4\n",
      "Backend do Matplotlib alterado para 'Agg'. Iniciando a criação do gráfico em memória...\n"
     ]
    },
    {
     "name": "stderr",
     "output_type": "stream",
     "text": [
      "C:\\Users\\Usuario\\AppData\\Local\\Temp\\ipykernel_23524\\706736877.py:35: UserWarning: *c* argument looks like a single numeric RGB or RGBA sequence, which should be avoided as value-mapping will have precedence in case its length matches with *x* & *y*.  Please use the *color* keyword-argument or provide a 2D array with a single row if you intend to specify the same RGB or RGBA value for all points.\n",
      "  plt.scatter(subset[primeira_variavel], subset[segunda_variavel],\n"
     ]
    },
    {
     "name": "stdout",
     "output_type": "stream",
     "text": [
      "-----------------------------------------------------------------\n",
      "SUCESSO! O gráfico foi salvo como 'c:\\Users\\Usuario\\Documents\\ufrj\\gestao\\TrabGest/plots/k30/kmedias_k30_PetalLengthCm_PetalWidthCm.png' na mesma pasta do seu notebook.\n",
      "-----------------------------------------------------------------\n",
      "SepalLengthCm SepalWidthCm  dim1  dim2\n",
      "Backend do Matplotlib alterado para 'Agg'. Iniciando a criação do gráfico em memória...\n"
     ]
    },
    {
     "name": "stderr",
     "output_type": "stream",
     "text": [
      "C:\\Users\\Usuario\\AppData\\Local\\Temp\\ipykernel_23524\\706736877.py:35: UserWarning: *c* argument looks like a single numeric RGB or RGBA sequence, which should be avoided as value-mapping will have precedence in case its length matches with *x* & *y*.  Please use the *color* keyword-argument or provide a 2D array with a single row if you intend to specify the same RGB or RGBA value for all points.\n",
      "  plt.scatter(subset[primeira_variavel], subset[segunda_variavel],\n"
     ]
    },
    {
     "name": "stdout",
     "output_type": "stream",
     "text": [
      "-----------------------------------------------------------------\n",
      "SUCESSO! O gráfico foi salvo como 'c:\\Users\\Usuario\\Documents\\ufrj\\gestao\\TrabGest/plots/k31/kmedias_k31_SepalLengthCm_SepalWidthCm.png' na mesma pasta do seu notebook.\n",
      "-----------------------------------------------------------------\n",
      "SepalLengthCm PetalLengthCm  dim1  dim3\n",
      "Backend do Matplotlib alterado para 'Agg'. Iniciando a criação do gráfico em memória...\n"
     ]
    },
    {
     "name": "stderr",
     "output_type": "stream",
     "text": [
      "C:\\Users\\Usuario\\AppData\\Local\\Temp\\ipykernel_23524\\706736877.py:35: UserWarning: *c* argument looks like a single numeric RGB or RGBA sequence, which should be avoided as value-mapping will have precedence in case its length matches with *x* & *y*.  Please use the *color* keyword-argument or provide a 2D array with a single row if you intend to specify the same RGB or RGBA value for all points.\n",
      "  plt.scatter(subset[primeira_variavel], subset[segunda_variavel],\n"
     ]
    },
    {
     "name": "stdout",
     "output_type": "stream",
     "text": [
      "-----------------------------------------------------------------\n",
      "SUCESSO! O gráfico foi salvo como 'c:\\Users\\Usuario\\Documents\\ufrj\\gestao\\TrabGest/plots/k31/kmedias_k31_SepalLengthCm_PetalLengthCm.png' na mesma pasta do seu notebook.\n",
      "-----------------------------------------------------------------\n",
      "SepalLengthCm PetalWidthCm  dim1  dim4\n",
      "Backend do Matplotlib alterado para 'Agg'. Iniciando a criação do gráfico em memória...\n"
     ]
    },
    {
     "name": "stderr",
     "output_type": "stream",
     "text": [
      "C:\\Users\\Usuario\\AppData\\Local\\Temp\\ipykernel_23524\\706736877.py:35: UserWarning: *c* argument looks like a single numeric RGB or RGBA sequence, which should be avoided as value-mapping will have precedence in case its length matches with *x* & *y*.  Please use the *color* keyword-argument or provide a 2D array with a single row if you intend to specify the same RGB or RGBA value for all points.\n",
      "  plt.scatter(subset[primeira_variavel], subset[segunda_variavel],\n"
     ]
    },
    {
     "name": "stdout",
     "output_type": "stream",
     "text": [
      "-----------------------------------------------------------------\n",
      "SUCESSO! O gráfico foi salvo como 'c:\\Users\\Usuario\\Documents\\ufrj\\gestao\\TrabGest/plots/k31/kmedias_k31_SepalLengthCm_PetalWidthCm.png' na mesma pasta do seu notebook.\n",
      "-----------------------------------------------------------------\n",
      "SepalWidthCm PetalLengthCm  dim2  dim3\n",
      "Backend do Matplotlib alterado para 'Agg'. Iniciando a criação do gráfico em memória...\n"
     ]
    },
    {
     "name": "stderr",
     "output_type": "stream",
     "text": [
      "C:\\Users\\Usuario\\AppData\\Local\\Temp\\ipykernel_23524\\706736877.py:35: UserWarning: *c* argument looks like a single numeric RGB or RGBA sequence, which should be avoided as value-mapping will have precedence in case its length matches with *x* & *y*.  Please use the *color* keyword-argument or provide a 2D array with a single row if you intend to specify the same RGB or RGBA value for all points.\n",
      "  plt.scatter(subset[primeira_variavel], subset[segunda_variavel],\n"
     ]
    },
    {
     "name": "stdout",
     "output_type": "stream",
     "text": [
      "-----------------------------------------------------------------\n",
      "SUCESSO! O gráfico foi salvo como 'c:\\Users\\Usuario\\Documents\\ufrj\\gestao\\TrabGest/plots/k31/kmedias_k31_SepalWidthCm_PetalLengthCm.png' na mesma pasta do seu notebook.\n",
      "-----------------------------------------------------------------\n",
      "SepalWidthCm PetalWidthCm  dim2  dim4\n",
      "Backend do Matplotlib alterado para 'Agg'. Iniciando a criação do gráfico em memória...\n"
     ]
    },
    {
     "name": "stderr",
     "output_type": "stream",
     "text": [
      "C:\\Users\\Usuario\\AppData\\Local\\Temp\\ipykernel_23524\\706736877.py:35: UserWarning: *c* argument looks like a single numeric RGB or RGBA sequence, which should be avoided as value-mapping will have precedence in case its length matches with *x* & *y*.  Please use the *color* keyword-argument or provide a 2D array with a single row if you intend to specify the same RGB or RGBA value for all points.\n",
      "  plt.scatter(subset[primeira_variavel], subset[segunda_variavel],\n"
     ]
    },
    {
     "name": "stdout",
     "output_type": "stream",
     "text": [
      "-----------------------------------------------------------------\n",
      "SUCESSO! O gráfico foi salvo como 'c:\\Users\\Usuario\\Documents\\ufrj\\gestao\\TrabGest/plots/k31/kmedias_k31_SepalWidthCm_PetalWidthCm.png' na mesma pasta do seu notebook.\n",
      "-----------------------------------------------------------------\n",
      "PetalLengthCm PetalWidthCm  dim3  dim4\n",
      "Backend do Matplotlib alterado para 'Agg'. Iniciando a criação do gráfico em memória...\n"
     ]
    },
    {
     "name": "stderr",
     "output_type": "stream",
     "text": [
      "C:\\Users\\Usuario\\AppData\\Local\\Temp\\ipykernel_23524\\706736877.py:35: UserWarning: *c* argument looks like a single numeric RGB or RGBA sequence, which should be avoided as value-mapping will have precedence in case its length matches with *x* & *y*.  Please use the *color* keyword-argument or provide a 2D array with a single row if you intend to specify the same RGB or RGBA value for all points.\n",
      "  plt.scatter(subset[primeira_variavel], subset[segunda_variavel],\n"
     ]
    },
    {
     "name": "stdout",
     "output_type": "stream",
     "text": [
      "-----------------------------------------------------------------\n",
      "SUCESSO! O gráfico foi salvo como 'c:\\Users\\Usuario\\Documents\\ufrj\\gestao\\TrabGest/plots/k31/kmedias_k31_PetalLengthCm_PetalWidthCm.png' na mesma pasta do seu notebook.\n",
      "-----------------------------------------------------------------\n",
      "SepalLengthCm SepalWidthCm  dim1  dim2\n",
      "Backend do Matplotlib alterado para 'Agg'. Iniciando a criação do gráfico em memória...\n"
     ]
    },
    {
     "name": "stderr",
     "output_type": "stream",
     "text": [
      "C:\\Users\\Usuario\\AppData\\Local\\Temp\\ipykernel_23524\\706736877.py:35: UserWarning: *c* argument looks like a single numeric RGB or RGBA sequence, which should be avoided as value-mapping will have precedence in case its length matches with *x* & *y*.  Please use the *color* keyword-argument or provide a 2D array with a single row if you intend to specify the same RGB or RGBA value for all points.\n",
      "  plt.scatter(subset[primeira_variavel], subset[segunda_variavel],\n"
     ]
    },
    {
     "name": "stdout",
     "output_type": "stream",
     "text": [
      "-----------------------------------------------------------------\n",
      "SUCESSO! O gráfico foi salvo como 'c:\\Users\\Usuario\\Documents\\ufrj\\gestao\\TrabGest/plots/k32/kmedias_k32_SepalLengthCm_SepalWidthCm.png' na mesma pasta do seu notebook.\n",
      "-----------------------------------------------------------------\n",
      "SepalLengthCm PetalLengthCm  dim1  dim3\n",
      "Backend do Matplotlib alterado para 'Agg'. Iniciando a criação do gráfico em memória...\n"
     ]
    },
    {
     "name": "stderr",
     "output_type": "stream",
     "text": [
      "C:\\Users\\Usuario\\AppData\\Local\\Temp\\ipykernel_23524\\706736877.py:35: UserWarning: *c* argument looks like a single numeric RGB or RGBA sequence, which should be avoided as value-mapping will have precedence in case its length matches with *x* & *y*.  Please use the *color* keyword-argument or provide a 2D array with a single row if you intend to specify the same RGB or RGBA value for all points.\n",
      "  plt.scatter(subset[primeira_variavel], subset[segunda_variavel],\n"
     ]
    },
    {
     "name": "stdout",
     "output_type": "stream",
     "text": [
      "-----------------------------------------------------------------\n",
      "SUCESSO! O gráfico foi salvo como 'c:\\Users\\Usuario\\Documents\\ufrj\\gestao\\TrabGest/plots/k32/kmedias_k32_SepalLengthCm_PetalLengthCm.png' na mesma pasta do seu notebook.\n",
      "-----------------------------------------------------------------\n",
      "SepalLengthCm PetalWidthCm  dim1  dim4\n",
      "Backend do Matplotlib alterado para 'Agg'. Iniciando a criação do gráfico em memória...\n"
     ]
    },
    {
     "name": "stderr",
     "output_type": "stream",
     "text": [
      "C:\\Users\\Usuario\\AppData\\Local\\Temp\\ipykernel_23524\\706736877.py:35: UserWarning: *c* argument looks like a single numeric RGB or RGBA sequence, which should be avoided as value-mapping will have precedence in case its length matches with *x* & *y*.  Please use the *color* keyword-argument or provide a 2D array with a single row if you intend to specify the same RGB or RGBA value for all points.\n",
      "  plt.scatter(subset[primeira_variavel], subset[segunda_variavel],\n"
     ]
    },
    {
     "name": "stdout",
     "output_type": "stream",
     "text": [
      "-----------------------------------------------------------------\n",
      "SUCESSO! O gráfico foi salvo como 'c:\\Users\\Usuario\\Documents\\ufrj\\gestao\\TrabGest/plots/k32/kmedias_k32_SepalLengthCm_PetalWidthCm.png' na mesma pasta do seu notebook.\n",
      "-----------------------------------------------------------------\n",
      "SepalWidthCm PetalLengthCm  dim2  dim3\n",
      "Backend do Matplotlib alterado para 'Agg'. Iniciando a criação do gráfico em memória...\n"
     ]
    },
    {
     "name": "stderr",
     "output_type": "stream",
     "text": [
      "C:\\Users\\Usuario\\AppData\\Local\\Temp\\ipykernel_23524\\706736877.py:35: UserWarning: *c* argument looks like a single numeric RGB or RGBA sequence, which should be avoided as value-mapping will have precedence in case its length matches with *x* & *y*.  Please use the *color* keyword-argument or provide a 2D array with a single row if you intend to specify the same RGB or RGBA value for all points.\n",
      "  plt.scatter(subset[primeira_variavel], subset[segunda_variavel],\n"
     ]
    },
    {
     "name": "stdout",
     "output_type": "stream",
     "text": [
      "-----------------------------------------------------------------\n",
      "SUCESSO! O gráfico foi salvo como 'c:\\Users\\Usuario\\Documents\\ufrj\\gestao\\TrabGest/plots/k32/kmedias_k32_SepalWidthCm_PetalLengthCm.png' na mesma pasta do seu notebook.\n",
      "-----------------------------------------------------------------\n",
      "SepalWidthCm PetalWidthCm  dim2  dim4\n",
      "Backend do Matplotlib alterado para 'Agg'. Iniciando a criação do gráfico em memória...\n"
     ]
    },
    {
     "name": "stderr",
     "output_type": "stream",
     "text": [
      "C:\\Users\\Usuario\\AppData\\Local\\Temp\\ipykernel_23524\\706736877.py:35: UserWarning: *c* argument looks like a single numeric RGB or RGBA sequence, which should be avoided as value-mapping will have precedence in case its length matches with *x* & *y*.  Please use the *color* keyword-argument or provide a 2D array with a single row if you intend to specify the same RGB or RGBA value for all points.\n",
      "  plt.scatter(subset[primeira_variavel], subset[segunda_variavel],\n"
     ]
    },
    {
     "name": "stdout",
     "output_type": "stream",
     "text": [
      "-----------------------------------------------------------------\n",
      "SUCESSO! O gráfico foi salvo como 'c:\\Users\\Usuario\\Documents\\ufrj\\gestao\\TrabGest/plots/k32/kmedias_k32_SepalWidthCm_PetalWidthCm.png' na mesma pasta do seu notebook.\n",
      "-----------------------------------------------------------------\n",
      "PetalLengthCm PetalWidthCm  dim3  dim4\n",
      "Backend do Matplotlib alterado para 'Agg'. Iniciando a criação do gráfico em memória...\n"
     ]
    },
    {
     "name": "stderr",
     "output_type": "stream",
     "text": [
      "C:\\Users\\Usuario\\AppData\\Local\\Temp\\ipykernel_23524\\706736877.py:35: UserWarning: *c* argument looks like a single numeric RGB or RGBA sequence, which should be avoided as value-mapping will have precedence in case its length matches with *x* & *y*.  Please use the *color* keyword-argument or provide a 2D array with a single row if you intend to specify the same RGB or RGBA value for all points.\n",
      "  plt.scatter(subset[primeira_variavel], subset[segunda_variavel],\n"
     ]
    },
    {
     "name": "stdout",
     "output_type": "stream",
     "text": [
      "-----------------------------------------------------------------\n",
      "SUCESSO! O gráfico foi salvo como 'c:\\Users\\Usuario\\Documents\\ufrj\\gestao\\TrabGest/plots/k32/kmedias_k32_PetalLengthCm_PetalWidthCm.png' na mesma pasta do seu notebook.\n",
      "-----------------------------------------------------------------\n",
      "SepalLengthCm SepalWidthCm  dim1  dim2\n",
      "Backend do Matplotlib alterado para 'Agg'. Iniciando a criação do gráfico em memória...\n"
     ]
    },
    {
     "name": "stderr",
     "output_type": "stream",
     "text": [
      "C:\\Users\\Usuario\\AppData\\Local\\Temp\\ipykernel_23524\\706736877.py:35: UserWarning: *c* argument looks like a single numeric RGB or RGBA sequence, which should be avoided as value-mapping will have precedence in case its length matches with *x* & *y*.  Please use the *color* keyword-argument or provide a 2D array with a single row if you intend to specify the same RGB or RGBA value for all points.\n",
      "  plt.scatter(subset[primeira_variavel], subset[segunda_variavel],\n"
     ]
    },
    {
     "name": "stdout",
     "output_type": "stream",
     "text": [
      "-----------------------------------------------------------------\n",
      "SUCESSO! O gráfico foi salvo como 'c:\\Users\\Usuario\\Documents\\ufrj\\gestao\\TrabGest/plots/k33/kmedias_k33_SepalLengthCm_SepalWidthCm.png' na mesma pasta do seu notebook.\n",
      "-----------------------------------------------------------------\n",
      "SepalLengthCm PetalLengthCm  dim1  dim3\n",
      "Backend do Matplotlib alterado para 'Agg'. Iniciando a criação do gráfico em memória...\n"
     ]
    },
    {
     "name": "stderr",
     "output_type": "stream",
     "text": [
      "C:\\Users\\Usuario\\AppData\\Local\\Temp\\ipykernel_23524\\706736877.py:35: UserWarning: *c* argument looks like a single numeric RGB or RGBA sequence, which should be avoided as value-mapping will have precedence in case its length matches with *x* & *y*.  Please use the *color* keyword-argument or provide a 2D array with a single row if you intend to specify the same RGB or RGBA value for all points.\n",
      "  plt.scatter(subset[primeira_variavel], subset[segunda_variavel],\n"
     ]
    },
    {
     "name": "stdout",
     "output_type": "stream",
     "text": [
      "-----------------------------------------------------------------\n",
      "SUCESSO! O gráfico foi salvo como 'c:\\Users\\Usuario\\Documents\\ufrj\\gestao\\TrabGest/plots/k33/kmedias_k33_SepalLengthCm_PetalLengthCm.png' na mesma pasta do seu notebook.\n",
      "-----------------------------------------------------------------\n",
      "SepalLengthCm PetalWidthCm  dim1  dim4\n",
      "Backend do Matplotlib alterado para 'Agg'. Iniciando a criação do gráfico em memória...\n"
     ]
    },
    {
     "name": "stderr",
     "output_type": "stream",
     "text": [
      "C:\\Users\\Usuario\\AppData\\Local\\Temp\\ipykernel_23524\\706736877.py:35: UserWarning: *c* argument looks like a single numeric RGB or RGBA sequence, which should be avoided as value-mapping will have precedence in case its length matches with *x* & *y*.  Please use the *color* keyword-argument or provide a 2D array with a single row if you intend to specify the same RGB or RGBA value for all points.\n",
      "  plt.scatter(subset[primeira_variavel], subset[segunda_variavel],\n"
     ]
    },
    {
     "name": "stdout",
     "output_type": "stream",
     "text": [
      "-----------------------------------------------------------------\n",
      "SUCESSO! O gráfico foi salvo como 'c:\\Users\\Usuario\\Documents\\ufrj\\gestao\\TrabGest/plots/k33/kmedias_k33_SepalLengthCm_PetalWidthCm.png' na mesma pasta do seu notebook.\n",
      "-----------------------------------------------------------------\n",
      "SepalWidthCm PetalLengthCm  dim2  dim3\n",
      "Backend do Matplotlib alterado para 'Agg'. Iniciando a criação do gráfico em memória...\n"
     ]
    },
    {
     "name": "stderr",
     "output_type": "stream",
     "text": [
      "C:\\Users\\Usuario\\AppData\\Local\\Temp\\ipykernel_23524\\706736877.py:35: UserWarning: *c* argument looks like a single numeric RGB or RGBA sequence, which should be avoided as value-mapping will have precedence in case its length matches with *x* & *y*.  Please use the *color* keyword-argument or provide a 2D array with a single row if you intend to specify the same RGB or RGBA value for all points.\n",
      "  plt.scatter(subset[primeira_variavel], subset[segunda_variavel],\n"
     ]
    },
    {
     "name": "stdout",
     "output_type": "stream",
     "text": [
      "-----------------------------------------------------------------\n",
      "SUCESSO! O gráfico foi salvo como 'c:\\Users\\Usuario\\Documents\\ufrj\\gestao\\TrabGest/plots/k33/kmedias_k33_SepalWidthCm_PetalLengthCm.png' na mesma pasta do seu notebook.\n",
      "-----------------------------------------------------------------\n",
      "SepalWidthCm PetalWidthCm  dim2  dim4\n",
      "Backend do Matplotlib alterado para 'Agg'. Iniciando a criação do gráfico em memória...\n"
     ]
    },
    {
     "name": "stderr",
     "output_type": "stream",
     "text": [
      "C:\\Users\\Usuario\\AppData\\Local\\Temp\\ipykernel_23524\\706736877.py:35: UserWarning: *c* argument looks like a single numeric RGB or RGBA sequence, which should be avoided as value-mapping will have precedence in case its length matches with *x* & *y*.  Please use the *color* keyword-argument or provide a 2D array with a single row if you intend to specify the same RGB or RGBA value for all points.\n",
      "  plt.scatter(subset[primeira_variavel], subset[segunda_variavel],\n"
     ]
    },
    {
     "name": "stdout",
     "output_type": "stream",
     "text": [
      "-----------------------------------------------------------------\n",
      "SUCESSO! O gráfico foi salvo como 'c:\\Users\\Usuario\\Documents\\ufrj\\gestao\\TrabGest/plots/k33/kmedias_k33_SepalWidthCm_PetalWidthCm.png' na mesma pasta do seu notebook.\n",
      "-----------------------------------------------------------------\n",
      "PetalLengthCm PetalWidthCm  dim3  dim4\n",
      "Backend do Matplotlib alterado para 'Agg'. Iniciando a criação do gráfico em memória...\n"
     ]
    },
    {
     "name": "stderr",
     "output_type": "stream",
     "text": [
      "C:\\Users\\Usuario\\AppData\\Local\\Temp\\ipykernel_23524\\706736877.py:35: UserWarning: *c* argument looks like a single numeric RGB or RGBA sequence, which should be avoided as value-mapping will have precedence in case its length matches with *x* & *y*.  Please use the *color* keyword-argument or provide a 2D array with a single row if you intend to specify the same RGB or RGBA value for all points.\n",
      "  plt.scatter(subset[primeira_variavel], subset[segunda_variavel],\n"
     ]
    },
    {
     "name": "stdout",
     "output_type": "stream",
     "text": [
      "-----------------------------------------------------------------\n",
      "SUCESSO! O gráfico foi salvo como 'c:\\Users\\Usuario\\Documents\\ufrj\\gestao\\TrabGest/plots/k33/kmedias_k33_PetalLengthCm_PetalWidthCm.png' na mesma pasta do seu notebook.\n",
      "-----------------------------------------------------------------\n",
      "SepalLengthCm SepalWidthCm  dim1  dim2\n",
      "Backend do Matplotlib alterado para 'Agg'. Iniciando a criação do gráfico em memória...\n"
     ]
    },
    {
     "name": "stderr",
     "output_type": "stream",
     "text": [
      "C:\\Users\\Usuario\\AppData\\Local\\Temp\\ipykernel_23524\\706736877.py:35: UserWarning: *c* argument looks like a single numeric RGB or RGBA sequence, which should be avoided as value-mapping will have precedence in case its length matches with *x* & *y*.  Please use the *color* keyword-argument or provide a 2D array with a single row if you intend to specify the same RGB or RGBA value for all points.\n",
      "  plt.scatter(subset[primeira_variavel], subset[segunda_variavel],\n"
     ]
    },
    {
     "name": "stdout",
     "output_type": "stream",
     "text": [
      "-----------------------------------------------------------------\n",
      "SUCESSO! O gráfico foi salvo como 'c:\\Users\\Usuario\\Documents\\ufrj\\gestao\\TrabGest/plots/k34/kmedias_k34_SepalLengthCm_SepalWidthCm.png' na mesma pasta do seu notebook.\n",
      "-----------------------------------------------------------------\n",
      "SepalLengthCm PetalLengthCm  dim1  dim3\n",
      "Backend do Matplotlib alterado para 'Agg'. Iniciando a criação do gráfico em memória...\n"
     ]
    },
    {
     "name": "stderr",
     "output_type": "stream",
     "text": [
      "C:\\Users\\Usuario\\AppData\\Local\\Temp\\ipykernel_23524\\706736877.py:35: UserWarning: *c* argument looks like a single numeric RGB or RGBA sequence, which should be avoided as value-mapping will have precedence in case its length matches with *x* & *y*.  Please use the *color* keyword-argument or provide a 2D array with a single row if you intend to specify the same RGB or RGBA value for all points.\n",
      "  plt.scatter(subset[primeira_variavel], subset[segunda_variavel],\n"
     ]
    },
    {
     "name": "stdout",
     "output_type": "stream",
     "text": [
      "-----------------------------------------------------------------\n",
      "SUCESSO! O gráfico foi salvo como 'c:\\Users\\Usuario\\Documents\\ufrj\\gestao\\TrabGest/plots/k34/kmedias_k34_SepalLengthCm_PetalLengthCm.png' na mesma pasta do seu notebook.\n",
      "-----------------------------------------------------------------\n",
      "SepalLengthCm PetalWidthCm  dim1  dim4\n",
      "Backend do Matplotlib alterado para 'Agg'. Iniciando a criação do gráfico em memória...\n"
     ]
    },
    {
     "name": "stderr",
     "output_type": "stream",
     "text": [
      "C:\\Users\\Usuario\\AppData\\Local\\Temp\\ipykernel_23524\\706736877.py:35: UserWarning: *c* argument looks like a single numeric RGB or RGBA sequence, which should be avoided as value-mapping will have precedence in case its length matches with *x* & *y*.  Please use the *color* keyword-argument or provide a 2D array with a single row if you intend to specify the same RGB or RGBA value for all points.\n",
      "  plt.scatter(subset[primeira_variavel], subset[segunda_variavel],\n"
     ]
    },
    {
     "name": "stdout",
     "output_type": "stream",
     "text": [
      "-----------------------------------------------------------------\n",
      "SUCESSO! O gráfico foi salvo como 'c:\\Users\\Usuario\\Documents\\ufrj\\gestao\\TrabGest/plots/k34/kmedias_k34_SepalLengthCm_PetalWidthCm.png' na mesma pasta do seu notebook.\n",
      "-----------------------------------------------------------------\n",
      "SepalWidthCm PetalLengthCm  dim2  dim3\n",
      "Backend do Matplotlib alterado para 'Agg'. Iniciando a criação do gráfico em memória...\n"
     ]
    },
    {
     "name": "stderr",
     "output_type": "stream",
     "text": [
      "C:\\Users\\Usuario\\AppData\\Local\\Temp\\ipykernel_23524\\706736877.py:35: UserWarning: *c* argument looks like a single numeric RGB or RGBA sequence, which should be avoided as value-mapping will have precedence in case its length matches with *x* & *y*.  Please use the *color* keyword-argument or provide a 2D array with a single row if you intend to specify the same RGB or RGBA value for all points.\n",
      "  plt.scatter(subset[primeira_variavel], subset[segunda_variavel],\n"
     ]
    },
    {
     "name": "stdout",
     "output_type": "stream",
     "text": [
      "-----------------------------------------------------------------\n",
      "SUCESSO! O gráfico foi salvo como 'c:\\Users\\Usuario\\Documents\\ufrj\\gestao\\TrabGest/plots/k34/kmedias_k34_SepalWidthCm_PetalLengthCm.png' na mesma pasta do seu notebook.\n",
      "-----------------------------------------------------------------\n",
      "SepalWidthCm PetalWidthCm  dim2  dim4\n",
      "Backend do Matplotlib alterado para 'Agg'. Iniciando a criação do gráfico em memória...\n"
     ]
    },
    {
     "name": "stderr",
     "output_type": "stream",
     "text": [
      "C:\\Users\\Usuario\\AppData\\Local\\Temp\\ipykernel_23524\\706736877.py:35: UserWarning: *c* argument looks like a single numeric RGB or RGBA sequence, which should be avoided as value-mapping will have precedence in case its length matches with *x* & *y*.  Please use the *color* keyword-argument or provide a 2D array with a single row if you intend to specify the same RGB or RGBA value for all points.\n",
      "  plt.scatter(subset[primeira_variavel], subset[segunda_variavel],\n"
     ]
    },
    {
     "name": "stdout",
     "output_type": "stream",
     "text": [
      "-----------------------------------------------------------------\n",
      "SUCESSO! O gráfico foi salvo como 'c:\\Users\\Usuario\\Documents\\ufrj\\gestao\\TrabGest/plots/k34/kmedias_k34_SepalWidthCm_PetalWidthCm.png' na mesma pasta do seu notebook.\n",
      "-----------------------------------------------------------------\n",
      "PetalLengthCm PetalWidthCm  dim3  dim4\n",
      "Backend do Matplotlib alterado para 'Agg'. Iniciando a criação do gráfico em memória...\n"
     ]
    },
    {
     "name": "stderr",
     "output_type": "stream",
     "text": [
      "C:\\Users\\Usuario\\AppData\\Local\\Temp\\ipykernel_23524\\706736877.py:35: UserWarning: *c* argument looks like a single numeric RGB or RGBA sequence, which should be avoided as value-mapping will have precedence in case its length matches with *x* & *y*.  Please use the *color* keyword-argument or provide a 2D array with a single row if you intend to specify the same RGB or RGBA value for all points.\n",
      "  plt.scatter(subset[primeira_variavel], subset[segunda_variavel],\n"
     ]
    },
    {
     "name": "stdout",
     "output_type": "stream",
     "text": [
      "-----------------------------------------------------------------\n",
      "SUCESSO! O gráfico foi salvo como 'c:\\Users\\Usuario\\Documents\\ufrj\\gestao\\TrabGest/plots/k34/kmedias_k34_PetalLengthCm_PetalWidthCm.png' na mesma pasta do seu notebook.\n",
      "-----------------------------------------------------------------\n",
      "SepalLengthCm SepalWidthCm  dim1  dim2\n",
      "Backend do Matplotlib alterado para 'Agg'. Iniciando a criação do gráfico em memória...\n"
     ]
    },
    {
     "name": "stderr",
     "output_type": "stream",
     "text": [
      "C:\\Users\\Usuario\\AppData\\Local\\Temp\\ipykernel_23524\\706736877.py:35: UserWarning: *c* argument looks like a single numeric RGB or RGBA sequence, which should be avoided as value-mapping will have precedence in case its length matches with *x* & *y*.  Please use the *color* keyword-argument or provide a 2D array with a single row if you intend to specify the same RGB or RGBA value for all points.\n",
      "  plt.scatter(subset[primeira_variavel], subset[segunda_variavel],\n"
     ]
    },
    {
     "name": "stdout",
     "output_type": "stream",
     "text": [
      "-----------------------------------------------------------------\n",
      "SUCESSO! O gráfico foi salvo como 'c:\\Users\\Usuario\\Documents\\ufrj\\gestao\\TrabGest/plots/k35/kmedias_k35_SepalLengthCm_SepalWidthCm.png' na mesma pasta do seu notebook.\n",
      "-----------------------------------------------------------------\n",
      "SepalLengthCm PetalLengthCm  dim1  dim3\n",
      "Backend do Matplotlib alterado para 'Agg'. Iniciando a criação do gráfico em memória...\n"
     ]
    },
    {
     "name": "stderr",
     "output_type": "stream",
     "text": [
      "C:\\Users\\Usuario\\AppData\\Local\\Temp\\ipykernel_23524\\706736877.py:35: UserWarning: *c* argument looks like a single numeric RGB or RGBA sequence, which should be avoided as value-mapping will have precedence in case its length matches with *x* & *y*.  Please use the *color* keyword-argument or provide a 2D array with a single row if you intend to specify the same RGB or RGBA value for all points.\n",
      "  plt.scatter(subset[primeira_variavel], subset[segunda_variavel],\n"
     ]
    },
    {
     "name": "stdout",
     "output_type": "stream",
     "text": [
      "-----------------------------------------------------------------\n",
      "SUCESSO! O gráfico foi salvo como 'c:\\Users\\Usuario\\Documents\\ufrj\\gestao\\TrabGest/plots/k35/kmedias_k35_SepalLengthCm_PetalLengthCm.png' na mesma pasta do seu notebook.\n",
      "-----------------------------------------------------------------\n",
      "SepalLengthCm PetalWidthCm  dim1  dim4\n",
      "Backend do Matplotlib alterado para 'Agg'. Iniciando a criação do gráfico em memória...\n"
     ]
    },
    {
     "name": "stderr",
     "output_type": "stream",
     "text": [
      "C:\\Users\\Usuario\\AppData\\Local\\Temp\\ipykernel_23524\\706736877.py:35: UserWarning: *c* argument looks like a single numeric RGB or RGBA sequence, which should be avoided as value-mapping will have precedence in case its length matches with *x* & *y*.  Please use the *color* keyword-argument or provide a 2D array with a single row if you intend to specify the same RGB or RGBA value for all points.\n",
      "  plt.scatter(subset[primeira_variavel], subset[segunda_variavel],\n"
     ]
    },
    {
     "name": "stdout",
     "output_type": "stream",
     "text": [
      "-----------------------------------------------------------------\n",
      "SUCESSO! O gráfico foi salvo como 'c:\\Users\\Usuario\\Documents\\ufrj\\gestao\\TrabGest/plots/k35/kmedias_k35_SepalLengthCm_PetalWidthCm.png' na mesma pasta do seu notebook.\n",
      "-----------------------------------------------------------------\n",
      "SepalWidthCm PetalLengthCm  dim2  dim3\n",
      "Backend do Matplotlib alterado para 'Agg'. Iniciando a criação do gráfico em memória...\n"
     ]
    },
    {
     "name": "stderr",
     "output_type": "stream",
     "text": [
      "C:\\Users\\Usuario\\AppData\\Local\\Temp\\ipykernel_23524\\706736877.py:35: UserWarning: *c* argument looks like a single numeric RGB or RGBA sequence, which should be avoided as value-mapping will have precedence in case its length matches with *x* & *y*.  Please use the *color* keyword-argument or provide a 2D array with a single row if you intend to specify the same RGB or RGBA value for all points.\n",
      "  plt.scatter(subset[primeira_variavel], subset[segunda_variavel],\n"
     ]
    },
    {
     "name": "stdout",
     "output_type": "stream",
     "text": [
      "-----------------------------------------------------------------\n",
      "SUCESSO! O gráfico foi salvo como 'c:\\Users\\Usuario\\Documents\\ufrj\\gestao\\TrabGest/plots/k35/kmedias_k35_SepalWidthCm_PetalLengthCm.png' na mesma pasta do seu notebook.\n",
      "-----------------------------------------------------------------\n",
      "SepalWidthCm PetalWidthCm  dim2  dim4\n",
      "Backend do Matplotlib alterado para 'Agg'. Iniciando a criação do gráfico em memória...\n"
     ]
    },
    {
     "name": "stderr",
     "output_type": "stream",
     "text": [
      "C:\\Users\\Usuario\\AppData\\Local\\Temp\\ipykernel_23524\\706736877.py:35: UserWarning: *c* argument looks like a single numeric RGB or RGBA sequence, which should be avoided as value-mapping will have precedence in case its length matches with *x* & *y*.  Please use the *color* keyword-argument or provide a 2D array with a single row if you intend to specify the same RGB or RGBA value for all points.\n",
      "  plt.scatter(subset[primeira_variavel], subset[segunda_variavel],\n"
     ]
    },
    {
     "name": "stdout",
     "output_type": "stream",
     "text": [
      "-----------------------------------------------------------------\n",
      "SUCESSO! O gráfico foi salvo como 'c:\\Users\\Usuario\\Documents\\ufrj\\gestao\\TrabGest/plots/k35/kmedias_k35_SepalWidthCm_PetalWidthCm.png' na mesma pasta do seu notebook.\n",
      "-----------------------------------------------------------------\n",
      "PetalLengthCm PetalWidthCm  dim3  dim4\n",
      "Backend do Matplotlib alterado para 'Agg'. Iniciando a criação do gráfico em memória...\n"
     ]
    },
    {
     "name": "stderr",
     "output_type": "stream",
     "text": [
      "C:\\Users\\Usuario\\AppData\\Local\\Temp\\ipykernel_23524\\706736877.py:35: UserWarning: *c* argument looks like a single numeric RGB or RGBA sequence, which should be avoided as value-mapping will have precedence in case its length matches with *x* & *y*.  Please use the *color* keyword-argument or provide a 2D array with a single row if you intend to specify the same RGB or RGBA value for all points.\n",
      "  plt.scatter(subset[primeira_variavel], subset[segunda_variavel],\n"
     ]
    },
    {
     "name": "stdout",
     "output_type": "stream",
     "text": [
      "-----------------------------------------------------------------\n",
      "SUCESSO! O gráfico foi salvo como 'c:\\Users\\Usuario\\Documents\\ufrj\\gestao\\TrabGest/plots/k35/kmedias_k35_PetalLengthCm_PetalWidthCm.png' na mesma pasta do seu notebook.\n",
      "-----------------------------------------------------------------\n",
      "SepalLengthCm SepalWidthCm  dim1  dim2\n",
      "Backend do Matplotlib alterado para 'Agg'. Iniciando a criação do gráfico em memória...\n"
     ]
    },
    {
     "name": "stderr",
     "output_type": "stream",
     "text": [
      "C:\\Users\\Usuario\\AppData\\Local\\Temp\\ipykernel_23524\\706736877.py:35: UserWarning: *c* argument looks like a single numeric RGB or RGBA sequence, which should be avoided as value-mapping will have precedence in case its length matches with *x* & *y*.  Please use the *color* keyword-argument or provide a 2D array with a single row if you intend to specify the same RGB or RGBA value for all points.\n",
      "  plt.scatter(subset[primeira_variavel], subset[segunda_variavel],\n"
     ]
    },
    {
     "name": "stdout",
     "output_type": "stream",
     "text": [
      "-----------------------------------------------------------------\n",
      "SUCESSO! O gráfico foi salvo como 'c:\\Users\\Usuario\\Documents\\ufrj\\gestao\\TrabGest/plots/k36/kmedias_k36_SepalLengthCm_SepalWidthCm.png' na mesma pasta do seu notebook.\n",
      "-----------------------------------------------------------------\n",
      "SepalLengthCm PetalLengthCm  dim1  dim3\n",
      "Backend do Matplotlib alterado para 'Agg'. Iniciando a criação do gráfico em memória...\n"
     ]
    },
    {
     "name": "stderr",
     "output_type": "stream",
     "text": [
      "C:\\Users\\Usuario\\AppData\\Local\\Temp\\ipykernel_23524\\706736877.py:35: UserWarning: *c* argument looks like a single numeric RGB or RGBA sequence, which should be avoided as value-mapping will have precedence in case its length matches with *x* & *y*.  Please use the *color* keyword-argument or provide a 2D array with a single row if you intend to specify the same RGB or RGBA value for all points.\n",
      "  plt.scatter(subset[primeira_variavel], subset[segunda_variavel],\n"
     ]
    },
    {
     "name": "stdout",
     "output_type": "stream",
     "text": [
      "-----------------------------------------------------------------\n",
      "SUCESSO! O gráfico foi salvo como 'c:\\Users\\Usuario\\Documents\\ufrj\\gestao\\TrabGest/plots/k36/kmedias_k36_SepalLengthCm_PetalLengthCm.png' na mesma pasta do seu notebook.\n",
      "-----------------------------------------------------------------\n",
      "SepalLengthCm PetalWidthCm  dim1  dim4\n",
      "Backend do Matplotlib alterado para 'Agg'. Iniciando a criação do gráfico em memória...\n"
     ]
    },
    {
     "name": "stderr",
     "output_type": "stream",
     "text": [
      "C:\\Users\\Usuario\\AppData\\Local\\Temp\\ipykernel_23524\\706736877.py:35: UserWarning: *c* argument looks like a single numeric RGB or RGBA sequence, which should be avoided as value-mapping will have precedence in case its length matches with *x* & *y*.  Please use the *color* keyword-argument or provide a 2D array with a single row if you intend to specify the same RGB or RGBA value for all points.\n",
      "  plt.scatter(subset[primeira_variavel], subset[segunda_variavel],\n"
     ]
    },
    {
     "name": "stdout",
     "output_type": "stream",
     "text": [
      "-----------------------------------------------------------------\n",
      "SUCESSO! O gráfico foi salvo como 'c:\\Users\\Usuario\\Documents\\ufrj\\gestao\\TrabGest/plots/k36/kmedias_k36_SepalLengthCm_PetalWidthCm.png' na mesma pasta do seu notebook.\n",
      "-----------------------------------------------------------------\n",
      "SepalWidthCm PetalLengthCm  dim2  dim3\n",
      "Backend do Matplotlib alterado para 'Agg'. Iniciando a criação do gráfico em memória...\n"
     ]
    },
    {
     "name": "stderr",
     "output_type": "stream",
     "text": [
      "C:\\Users\\Usuario\\AppData\\Local\\Temp\\ipykernel_23524\\706736877.py:35: UserWarning: *c* argument looks like a single numeric RGB or RGBA sequence, which should be avoided as value-mapping will have precedence in case its length matches with *x* & *y*.  Please use the *color* keyword-argument or provide a 2D array with a single row if you intend to specify the same RGB or RGBA value for all points.\n",
      "  plt.scatter(subset[primeira_variavel], subset[segunda_variavel],\n"
     ]
    },
    {
     "name": "stdout",
     "output_type": "stream",
     "text": [
      "-----------------------------------------------------------------\n",
      "SUCESSO! O gráfico foi salvo como 'c:\\Users\\Usuario\\Documents\\ufrj\\gestao\\TrabGest/plots/k36/kmedias_k36_SepalWidthCm_PetalLengthCm.png' na mesma pasta do seu notebook.\n",
      "-----------------------------------------------------------------\n",
      "SepalWidthCm PetalWidthCm  dim2  dim4\n",
      "Backend do Matplotlib alterado para 'Agg'. Iniciando a criação do gráfico em memória...\n"
     ]
    },
    {
     "name": "stderr",
     "output_type": "stream",
     "text": [
      "C:\\Users\\Usuario\\AppData\\Local\\Temp\\ipykernel_23524\\706736877.py:35: UserWarning: *c* argument looks like a single numeric RGB or RGBA sequence, which should be avoided as value-mapping will have precedence in case its length matches with *x* & *y*.  Please use the *color* keyword-argument or provide a 2D array with a single row if you intend to specify the same RGB or RGBA value for all points.\n",
      "  plt.scatter(subset[primeira_variavel], subset[segunda_variavel],\n"
     ]
    },
    {
     "name": "stdout",
     "output_type": "stream",
     "text": [
      "-----------------------------------------------------------------\n",
      "SUCESSO! O gráfico foi salvo como 'c:\\Users\\Usuario\\Documents\\ufrj\\gestao\\TrabGest/plots/k36/kmedias_k36_SepalWidthCm_PetalWidthCm.png' na mesma pasta do seu notebook.\n",
      "-----------------------------------------------------------------\n",
      "PetalLengthCm PetalWidthCm  dim3  dim4\n",
      "Backend do Matplotlib alterado para 'Agg'. Iniciando a criação do gráfico em memória...\n"
     ]
    },
    {
     "name": "stderr",
     "output_type": "stream",
     "text": [
      "C:\\Users\\Usuario\\AppData\\Local\\Temp\\ipykernel_23524\\706736877.py:35: UserWarning: *c* argument looks like a single numeric RGB or RGBA sequence, which should be avoided as value-mapping will have precedence in case its length matches with *x* & *y*.  Please use the *color* keyword-argument or provide a 2D array with a single row if you intend to specify the same RGB or RGBA value for all points.\n",
      "  plt.scatter(subset[primeira_variavel], subset[segunda_variavel],\n"
     ]
    },
    {
     "name": "stdout",
     "output_type": "stream",
     "text": [
      "-----------------------------------------------------------------\n",
      "SUCESSO! O gráfico foi salvo como 'c:\\Users\\Usuario\\Documents\\ufrj\\gestao\\TrabGest/plots/k36/kmedias_k36_PetalLengthCm_PetalWidthCm.png' na mesma pasta do seu notebook.\n",
      "-----------------------------------------------------------------\n",
      "SepalLengthCm SepalWidthCm  dim1  dim2\n",
      "Backend do Matplotlib alterado para 'Agg'. Iniciando a criação do gráfico em memória...\n"
     ]
    },
    {
     "name": "stderr",
     "output_type": "stream",
     "text": [
      "C:\\Users\\Usuario\\AppData\\Local\\Temp\\ipykernel_23524\\706736877.py:35: UserWarning: *c* argument looks like a single numeric RGB or RGBA sequence, which should be avoided as value-mapping will have precedence in case its length matches with *x* & *y*.  Please use the *color* keyword-argument or provide a 2D array with a single row if you intend to specify the same RGB or RGBA value for all points.\n",
      "  plt.scatter(subset[primeira_variavel], subset[segunda_variavel],\n"
     ]
    },
    {
     "name": "stdout",
     "output_type": "stream",
     "text": [
      "-----------------------------------------------------------------\n",
      "SUCESSO! O gráfico foi salvo como 'c:\\Users\\Usuario\\Documents\\ufrj\\gestao\\TrabGest/plots/k37/kmedias_k37_SepalLengthCm_SepalWidthCm.png' na mesma pasta do seu notebook.\n",
      "-----------------------------------------------------------------\n",
      "SepalLengthCm PetalLengthCm  dim1  dim3\n",
      "Backend do Matplotlib alterado para 'Agg'. Iniciando a criação do gráfico em memória...\n"
     ]
    },
    {
     "name": "stderr",
     "output_type": "stream",
     "text": [
      "C:\\Users\\Usuario\\AppData\\Local\\Temp\\ipykernel_23524\\706736877.py:35: UserWarning: *c* argument looks like a single numeric RGB or RGBA sequence, which should be avoided as value-mapping will have precedence in case its length matches with *x* & *y*.  Please use the *color* keyword-argument or provide a 2D array with a single row if you intend to specify the same RGB or RGBA value for all points.\n",
      "  plt.scatter(subset[primeira_variavel], subset[segunda_variavel],\n"
     ]
    },
    {
     "name": "stdout",
     "output_type": "stream",
     "text": [
      "-----------------------------------------------------------------\n",
      "SUCESSO! O gráfico foi salvo como 'c:\\Users\\Usuario\\Documents\\ufrj\\gestao\\TrabGest/plots/k37/kmedias_k37_SepalLengthCm_PetalLengthCm.png' na mesma pasta do seu notebook.\n",
      "-----------------------------------------------------------------\n",
      "SepalLengthCm PetalWidthCm  dim1  dim4\n",
      "Backend do Matplotlib alterado para 'Agg'. Iniciando a criação do gráfico em memória...\n"
     ]
    },
    {
     "name": "stderr",
     "output_type": "stream",
     "text": [
      "C:\\Users\\Usuario\\AppData\\Local\\Temp\\ipykernel_23524\\706736877.py:35: UserWarning: *c* argument looks like a single numeric RGB or RGBA sequence, which should be avoided as value-mapping will have precedence in case its length matches with *x* & *y*.  Please use the *color* keyword-argument or provide a 2D array with a single row if you intend to specify the same RGB or RGBA value for all points.\n",
      "  plt.scatter(subset[primeira_variavel], subset[segunda_variavel],\n"
     ]
    },
    {
     "name": "stdout",
     "output_type": "stream",
     "text": [
      "-----------------------------------------------------------------\n",
      "SUCESSO! O gráfico foi salvo como 'c:\\Users\\Usuario\\Documents\\ufrj\\gestao\\TrabGest/plots/k37/kmedias_k37_SepalLengthCm_PetalWidthCm.png' na mesma pasta do seu notebook.\n",
      "-----------------------------------------------------------------\n",
      "SepalWidthCm PetalLengthCm  dim2  dim3\n",
      "Backend do Matplotlib alterado para 'Agg'. Iniciando a criação do gráfico em memória...\n"
     ]
    },
    {
     "name": "stderr",
     "output_type": "stream",
     "text": [
      "C:\\Users\\Usuario\\AppData\\Local\\Temp\\ipykernel_23524\\706736877.py:35: UserWarning: *c* argument looks like a single numeric RGB or RGBA sequence, which should be avoided as value-mapping will have precedence in case its length matches with *x* & *y*.  Please use the *color* keyword-argument or provide a 2D array with a single row if you intend to specify the same RGB or RGBA value for all points.\n",
      "  plt.scatter(subset[primeira_variavel], subset[segunda_variavel],\n"
     ]
    },
    {
     "name": "stdout",
     "output_type": "stream",
     "text": [
      "-----------------------------------------------------------------\n",
      "SUCESSO! O gráfico foi salvo como 'c:\\Users\\Usuario\\Documents\\ufrj\\gestao\\TrabGest/plots/k37/kmedias_k37_SepalWidthCm_PetalLengthCm.png' na mesma pasta do seu notebook.\n",
      "-----------------------------------------------------------------\n",
      "SepalWidthCm PetalWidthCm  dim2  dim4\n",
      "Backend do Matplotlib alterado para 'Agg'. Iniciando a criação do gráfico em memória...\n"
     ]
    },
    {
     "name": "stderr",
     "output_type": "stream",
     "text": [
      "C:\\Users\\Usuario\\AppData\\Local\\Temp\\ipykernel_23524\\706736877.py:35: UserWarning: *c* argument looks like a single numeric RGB or RGBA sequence, which should be avoided as value-mapping will have precedence in case its length matches with *x* & *y*.  Please use the *color* keyword-argument or provide a 2D array with a single row if you intend to specify the same RGB or RGBA value for all points.\n",
      "  plt.scatter(subset[primeira_variavel], subset[segunda_variavel],\n"
     ]
    },
    {
     "name": "stdout",
     "output_type": "stream",
     "text": [
      "-----------------------------------------------------------------\n",
      "SUCESSO! O gráfico foi salvo como 'c:\\Users\\Usuario\\Documents\\ufrj\\gestao\\TrabGest/plots/k37/kmedias_k37_SepalWidthCm_PetalWidthCm.png' na mesma pasta do seu notebook.\n",
      "-----------------------------------------------------------------\n",
      "PetalLengthCm PetalWidthCm  dim3  dim4\n",
      "Backend do Matplotlib alterado para 'Agg'. Iniciando a criação do gráfico em memória...\n"
     ]
    },
    {
     "name": "stderr",
     "output_type": "stream",
     "text": [
      "C:\\Users\\Usuario\\AppData\\Local\\Temp\\ipykernel_23524\\706736877.py:35: UserWarning: *c* argument looks like a single numeric RGB or RGBA sequence, which should be avoided as value-mapping will have precedence in case its length matches with *x* & *y*.  Please use the *color* keyword-argument or provide a 2D array with a single row if you intend to specify the same RGB or RGBA value for all points.\n",
      "  plt.scatter(subset[primeira_variavel], subset[segunda_variavel],\n"
     ]
    },
    {
     "name": "stdout",
     "output_type": "stream",
     "text": [
      "-----------------------------------------------------------------\n",
      "SUCESSO! O gráfico foi salvo como 'c:\\Users\\Usuario\\Documents\\ufrj\\gestao\\TrabGest/plots/k37/kmedias_k37_PetalLengthCm_PetalWidthCm.png' na mesma pasta do seu notebook.\n",
      "-----------------------------------------------------------------\n",
      "SepalLengthCm SepalWidthCm  dim1  dim2\n",
      "Backend do Matplotlib alterado para 'Agg'. Iniciando a criação do gráfico em memória...\n"
     ]
    },
    {
     "name": "stderr",
     "output_type": "stream",
     "text": [
      "C:\\Users\\Usuario\\AppData\\Local\\Temp\\ipykernel_23524\\706736877.py:35: UserWarning: *c* argument looks like a single numeric RGB or RGBA sequence, which should be avoided as value-mapping will have precedence in case its length matches with *x* & *y*.  Please use the *color* keyword-argument or provide a 2D array with a single row if you intend to specify the same RGB or RGBA value for all points.\n",
      "  plt.scatter(subset[primeira_variavel], subset[segunda_variavel],\n"
     ]
    },
    {
     "name": "stdout",
     "output_type": "stream",
     "text": [
      "-----------------------------------------------------------------\n",
      "SUCESSO! O gráfico foi salvo como 'c:\\Users\\Usuario\\Documents\\ufrj\\gestao\\TrabGest/plots/k38/kmedias_k38_SepalLengthCm_SepalWidthCm.png' na mesma pasta do seu notebook.\n",
      "-----------------------------------------------------------------\n",
      "SepalLengthCm PetalLengthCm  dim1  dim3\n",
      "Backend do Matplotlib alterado para 'Agg'. Iniciando a criação do gráfico em memória...\n"
     ]
    },
    {
     "name": "stderr",
     "output_type": "stream",
     "text": [
      "C:\\Users\\Usuario\\AppData\\Local\\Temp\\ipykernel_23524\\706736877.py:35: UserWarning: *c* argument looks like a single numeric RGB or RGBA sequence, which should be avoided as value-mapping will have precedence in case its length matches with *x* & *y*.  Please use the *color* keyword-argument or provide a 2D array with a single row if you intend to specify the same RGB or RGBA value for all points.\n",
      "  plt.scatter(subset[primeira_variavel], subset[segunda_variavel],\n"
     ]
    },
    {
     "name": "stdout",
     "output_type": "stream",
     "text": [
      "-----------------------------------------------------------------\n",
      "SUCESSO! O gráfico foi salvo como 'c:\\Users\\Usuario\\Documents\\ufrj\\gestao\\TrabGest/plots/k38/kmedias_k38_SepalLengthCm_PetalLengthCm.png' na mesma pasta do seu notebook.\n",
      "-----------------------------------------------------------------\n",
      "SepalLengthCm PetalWidthCm  dim1  dim4\n",
      "Backend do Matplotlib alterado para 'Agg'. Iniciando a criação do gráfico em memória...\n"
     ]
    },
    {
     "name": "stderr",
     "output_type": "stream",
     "text": [
      "C:\\Users\\Usuario\\AppData\\Local\\Temp\\ipykernel_23524\\706736877.py:35: UserWarning: *c* argument looks like a single numeric RGB or RGBA sequence, which should be avoided as value-mapping will have precedence in case its length matches with *x* & *y*.  Please use the *color* keyword-argument or provide a 2D array with a single row if you intend to specify the same RGB or RGBA value for all points.\n",
      "  plt.scatter(subset[primeira_variavel], subset[segunda_variavel],\n"
     ]
    },
    {
     "name": "stdout",
     "output_type": "stream",
     "text": [
      "-----------------------------------------------------------------\n",
      "SUCESSO! O gráfico foi salvo como 'c:\\Users\\Usuario\\Documents\\ufrj\\gestao\\TrabGest/plots/k38/kmedias_k38_SepalLengthCm_PetalWidthCm.png' na mesma pasta do seu notebook.\n",
      "-----------------------------------------------------------------\n",
      "SepalWidthCm PetalLengthCm  dim2  dim3\n",
      "Backend do Matplotlib alterado para 'Agg'. Iniciando a criação do gráfico em memória...\n"
     ]
    },
    {
     "name": "stderr",
     "output_type": "stream",
     "text": [
      "C:\\Users\\Usuario\\AppData\\Local\\Temp\\ipykernel_23524\\706736877.py:35: UserWarning: *c* argument looks like a single numeric RGB or RGBA sequence, which should be avoided as value-mapping will have precedence in case its length matches with *x* & *y*.  Please use the *color* keyword-argument or provide a 2D array with a single row if you intend to specify the same RGB or RGBA value for all points.\n",
      "  plt.scatter(subset[primeira_variavel], subset[segunda_variavel],\n"
     ]
    },
    {
     "name": "stdout",
     "output_type": "stream",
     "text": [
      "-----------------------------------------------------------------\n",
      "SUCESSO! O gráfico foi salvo como 'c:\\Users\\Usuario\\Documents\\ufrj\\gestao\\TrabGest/plots/k38/kmedias_k38_SepalWidthCm_PetalLengthCm.png' na mesma pasta do seu notebook.\n",
      "-----------------------------------------------------------------\n",
      "SepalWidthCm PetalWidthCm  dim2  dim4\n",
      "Backend do Matplotlib alterado para 'Agg'. Iniciando a criação do gráfico em memória...\n"
     ]
    },
    {
     "name": "stderr",
     "output_type": "stream",
     "text": [
      "C:\\Users\\Usuario\\AppData\\Local\\Temp\\ipykernel_23524\\706736877.py:35: UserWarning: *c* argument looks like a single numeric RGB or RGBA sequence, which should be avoided as value-mapping will have precedence in case its length matches with *x* & *y*.  Please use the *color* keyword-argument or provide a 2D array with a single row if you intend to specify the same RGB or RGBA value for all points.\n",
      "  plt.scatter(subset[primeira_variavel], subset[segunda_variavel],\n"
     ]
    },
    {
     "name": "stdout",
     "output_type": "stream",
     "text": [
      "-----------------------------------------------------------------\n",
      "SUCESSO! O gráfico foi salvo como 'c:\\Users\\Usuario\\Documents\\ufrj\\gestao\\TrabGest/plots/k38/kmedias_k38_SepalWidthCm_PetalWidthCm.png' na mesma pasta do seu notebook.\n",
      "-----------------------------------------------------------------\n",
      "PetalLengthCm PetalWidthCm  dim3  dim4\n",
      "Backend do Matplotlib alterado para 'Agg'. Iniciando a criação do gráfico em memória...\n"
     ]
    },
    {
     "name": "stderr",
     "output_type": "stream",
     "text": [
      "C:\\Users\\Usuario\\AppData\\Local\\Temp\\ipykernel_23524\\706736877.py:35: UserWarning: *c* argument looks like a single numeric RGB or RGBA sequence, which should be avoided as value-mapping will have precedence in case its length matches with *x* & *y*.  Please use the *color* keyword-argument or provide a 2D array with a single row if you intend to specify the same RGB or RGBA value for all points.\n",
      "  plt.scatter(subset[primeira_variavel], subset[segunda_variavel],\n"
     ]
    },
    {
     "name": "stdout",
     "output_type": "stream",
     "text": [
      "-----------------------------------------------------------------\n",
      "SUCESSO! O gráfico foi salvo como 'c:\\Users\\Usuario\\Documents\\ufrj\\gestao\\TrabGest/plots/k38/kmedias_k38_PetalLengthCm_PetalWidthCm.png' na mesma pasta do seu notebook.\n",
      "-----------------------------------------------------------------\n",
      "SepalLengthCm SepalWidthCm  dim1  dim2\n",
      "Backend do Matplotlib alterado para 'Agg'. Iniciando a criação do gráfico em memória...\n"
     ]
    },
    {
     "name": "stderr",
     "output_type": "stream",
     "text": [
      "C:\\Users\\Usuario\\AppData\\Local\\Temp\\ipykernel_23524\\706736877.py:35: UserWarning: *c* argument looks like a single numeric RGB or RGBA sequence, which should be avoided as value-mapping will have precedence in case its length matches with *x* & *y*.  Please use the *color* keyword-argument or provide a 2D array with a single row if you intend to specify the same RGB or RGBA value for all points.\n",
      "  plt.scatter(subset[primeira_variavel], subset[segunda_variavel],\n"
     ]
    },
    {
     "name": "stdout",
     "output_type": "stream",
     "text": [
      "-----------------------------------------------------------------\n",
      "SUCESSO! O gráfico foi salvo como 'c:\\Users\\Usuario\\Documents\\ufrj\\gestao\\TrabGest/plots/k39/kmedias_k39_SepalLengthCm_SepalWidthCm.png' na mesma pasta do seu notebook.\n",
      "-----------------------------------------------------------------\n",
      "SepalLengthCm PetalLengthCm  dim1  dim3\n",
      "Backend do Matplotlib alterado para 'Agg'. Iniciando a criação do gráfico em memória...\n"
     ]
    },
    {
     "name": "stderr",
     "output_type": "stream",
     "text": [
      "C:\\Users\\Usuario\\AppData\\Local\\Temp\\ipykernel_23524\\706736877.py:35: UserWarning: *c* argument looks like a single numeric RGB or RGBA sequence, which should be avoided as value-mapping will have precedence in case its length matches with *x* & *y*.  Please use the *color* keyword-argument or provide a 2D array with a single row if you intend to specify the same RGB or RGBA value for all points.\n",
      "  plt.scatter(subset[primeira_variavel], subset[segunda_variavel],\n"
     ]
    },
    {
     "name": "stdout",
     "output_type": "stream",
     "text": [
      "-----------------------------------------------------------------\n",
      "SUCESSO! O gráfico foi salvo como 'c:\\Users\\Usuario\\Documents\\ufrj\\gestao\\TrabGest/plots/k39/kmedias_k39_SepalLengthCm_PetalLengthCm.png' na mesma pasta do seu notebook.\n",
      "-----------------------------------------------------------------\n",
      "SepalLengthCm PetalWidthCm  dim1  dim4\n",
      "Backend do Matplotlib alterado para 'Agg'. Iniciando a criação do gráfico em memória...\n"
     ]
    },
    {
     "name": "stderr",
     "output_type": "stream",
     "text": [
      "C:\\Users\\Usuario\\AppData\\Local\\Temp\\ipykernel_23524\\706736877.py:35: UserWarning: *c* argument looks like a single numeric RGB or RGBA sequence, which should be avoided as value-mapping will have precedence in case its length matches with *x* & *y*.  Please use the *color* keyword-argument or provide a 2D array with a single row if you intend to specify the same RGB or RGBA value for all points.\n",
      "  plt.scatter(subset[primeira_variavel], subset[segunda_variavel],\n"
     ]
    },
    {
     "name": "stdout",
     "output_type": "stream",
     "text": [
      "-----------------------------------------------------------------\n",
      "SUCESSO! O gráfico foi salvo como 'c:\\Users\\Usuario\\Documents\\ufrj\\gestao\\TrabGest/plots/k39/kmedias_k39_SepalLengthCm_PetalWidthCm.png' na mesma pasta do seu notebook.\n",
      "-----------------------------------------------------------------\n",
      "SepalWidthCm PetalLengthCm  dim2  dim3\n",
      "Backend do Matplotlib alterado para 'Agg'. Iniciando a criação do gráfico em memória...\n"
     ]
    },
    {
     "name": "stderr",
     "output_type": "stream",
     "text": [
      "C:\\Users\\Usuario\\AppData\\Local\\Temp\\ipykernel_23524\\706736877.py:35: UserWarning: *c* argument looks like a single numeric RGB or RGBA sequence, which should be avoided as value-mapping will have precedence in case its length matches with *x* & *y*.  Please use the *color* keyword-argument or provide a 2D array with a single row if you intend to specify the same RGB or RGBA value for all points.\n",
      "  plt.scatter(subset[primeira_variavel], subset[segunda_variavel],\n"
     ]
    },
    {
     "name": "stdout",
     "output_type": "stream",
     "text": [
      "-----------------------------------------------------------------\n",
      "SUCESSO! O gráfico foi salvo como 'c:\\Users\\Usuario\\Documents\\ufrj\\gestao\\TrabGest/plots/k39/kmedias_k39_SepalWidthCm_PetalLengthCm.png' na mesma pasta do seu notebook.\n",
      "-----------------------------------------------------------------\n",
      "SepalWidthCm PetalWidthCm  dim2  dim4\n",
      "Backend do Matplotlib alterado para 'Agg'. Iniciando a criação do gráfico em memória...\n"
     ]
    },
    {
     "name": "stderr",
     "output_type": "stream",
     "text": [
      "C:\\Users\\Usuario\\AppData\\Local\\Temp\\ipykernel_23524\\706736877.py:35: UserWarning: *c* argument looks like a single numeric RGB or RGBA sequence, which should be avoided as value-mapping will have precedence in case its length matches with *x* & *y*.  Please use the *color* keyword-argument or provide a 2D array with a single row if you intend to specify the same RGB or RGBA value for all points.\n",
      "  plt.scatter(subset[primeira_variavel], subset[segunda_variavel],\n"
     ]
    },
    {
     "name": "stdout",
     "output_type": "stream",
     "text": [
      "-----------------------------------------------------------------\n",
      "SUCESSO! O gráfico foi salvo como 'c:\\Users\\Usuario\\Documents\\ufrj\\gestao\\TrabGest/plots/k39/kmedias_k39_SepalWidthCm_PetalWidthCm.png' na mesma pasta do seu notebook.\n",
      "-----------------------------------------------------------------\n",
      "PetalLengthCm PetalWidthCm  dim3  dim4\n",
      "Backend do Matplotlib alterado para 'Agg'. Iniciando a criação do gráfico em memória...\n"
     ]
    },
    {
     "name": "stderr",
     "output_type": "stream",
     "text": [
      "C:\\Users\\Usuario\\AppData\\Local\\Temp\\ipykernel_23524\\706736877.py:35: UserWarning: *c* argument looks like a single numeric RGB or RGBA sequence, which should be avoided as value-mapping will have precedence in case its length matches with *x* & *y*.  Please use the *color* keyword-argument or provide a 2D array with a single row if you intend to specify the same RGB or RGBA value for all points.\n",
      "  plt.scatter(subset[primeira_variavel], subset[segunda_variavel],\n"
     ]
    },
    {
     "name": "stdout",
     "output_type": "stream",
     "text": [
      "-----------------------------------------------------------------\n",
      "SUCESSO! O gráfico foi salvo como 'c:\\Users\\Usuario\\Documents\\ufrj\\gestao\\TrabGest/plots/k39/kmedias_k39_PetalLengthCm_PetalWidthCm.png' na mesma pasta do seu notebook.\n",
      "-----------------------------------------------------------------\n",
      "SepalLengthCm SepalWidthCm  dim1  dim2\n",
      "Backend do Matplotlib alterado para 'Agg'. Iniciando a criação do gráfico em memória...\n"
     ]
    },
    {
     "name": "stderr",
     "output_type": "stream",
     "text": [
      "C:\\Users\\Usuario\\AppData\\Local\\Temp\\ipykernel_23524\\706736877.py:35: UserWarning: *c* argument looks like a single numeric RGB or RGBA sequence, which should be avoided as value-mapping will have precedence in case its length matches with *x* & *y*.  Please use the *color* keyword-argument or provide a 2D array with a single row if you intend to specify the same RGB or RGBA value for all points.\n",
      "  plt.scatter(subset[primeira_variavel], subset[segunda_variavel],\n"
     ]
    },
    {
     "name": "stdout",
     "output_type": "stream",
     "text": [
      "-----------------------------------------------------------------\n",
      "SUCESSO! O gráfico foi salvo como 'c:\\Users\\Usuario\\Documents\\ufrj\\gestao\\TrabGest/plots/k40/kmedias_k40_SepalLengthCm_SepalWidthCm.png' na mesma pasta do seu notebook.\n",
      "-----------------------------------------------------------------\n",
      "SepalLengthCm PetalLengthCm  dim1  dim3\n",
      "Backend do Matplotlib alterado para 'Agg'. Iniciando a criação do gráfico em memória...\n"
     ]
    },
    {
     "name": "stderr",
     "output_type": "stream",
     "text": [
      "C:\\Users\\Usuario\\AppData\\Local\\Temp\\ipykernel_23524\\706736877.py:35: UserWarning: *c* argument looks like a single numeric RGB or RGBA sequence, which should be avoided as value-mapping will have precedence in case its length matches with *x* & *y*.  Please use the *color* keyword-argument or provide a 2D array with a single row if you intend to specify the same RGB or RGBA value for all points.\n",
      "  plt.scatter(subset[primeira_variavel], subset[segunda_variavel],\n"
     ]
    },
    {
     "name": "stdout",
     "output_type": "stream",
     "text": [
      "-----------------------------------------------------------------\n",
      "SUCESSO! O gráfico foi salvo como 'c:\\Users\\Usuario\\Documents\\ufrj\\gestao\\TrabGest/plots/k40/kmedias_k40_SepalLengthCm_PetalLengthCm.png' na mesma pasta do seu notebook.\n",
      "-----------------------------------------------------------------\n",
      "SepalLengthCm PetalWidthCm  dim1  dim4\n",
      "Backend do Matplotlib alterado para 'Agg'. Iniciando a criação do gráfico em memória...\n"
     ]
    },
    {
     "name": "stderr",
     "output_type": "stream",
     "text": [
      "C:\\Users\\Usuario\\AppData\\Local\\Temp\\ipykernel_23524\\706736877.py:35: UserWarning: *c* argument looks like a single numeric RGB or RGBA sequence, which should be avoided as value-mapping will have precedence in case its length matches with *x* & *y*.  Please use the *color* keyword-argument or provide a 2D array with a single row if you intend to specify the same RGB or RGBA value for all points.\n",
      "  plt.scatter(subset[primeira_variavel], subset[segunda_variavel],\n"
     ]
    },
    {
     "name": "stdout",
     "output_type": "stream",
     "text": [
      "-----------------------------------------------------------------\n",
      "SUCESSO! O gráfico foi salvo como 'c:\\Users\\Usuario\\Documents\\ufrj\\gestao\\TrabGest/plots/k40/kmedias_k40_SepalLengthCm_PetalWidthCm.png' na mesma pasta do seu notebook.\n",
      "-----------------------------------------------------------------\n",
      "SepalWidthCm PetalLengthCm  dim2  dim3\n",
      "Backend do Matplotlib alterado para 'Agg'. Iniciando a criação do gráfico em memória...\n"
     ]
    },
    {
     "name": "stderr",
     "output_type": "stream",
     "text": [
      "C:\\Users\\Usuario\\AppData\\Local\\Temp\\ipykernel_23524\\706736877.py:35: UserWarning: *c* argument looks like a single numeric RGB or RGBA sequence, which should be avoided as value-mapping will have precedence in case its length matches with *x* & *y*.  Please use the *color* keyword-argument or provide a 2D array with a single row if you intend to specify the same RGB or RGBA value for all points.\n",
      "  plt.scatter(subset[primeira_variavel], subset[segunda_variavel],\n"
     ]
    },
    {
     "name": "stdout",
     "output_type": "stream",
     "text": [
      "-----------------------------------------------------------------\n",
      "SUCESSO! O gráfico foi salvo como 'c:\\Users\\Usuario\\Documents\\ufrj\\gestao\\TrabGest/plots/k40/kmedias_k40_SepalWidthCm_PetalLengthCm.png' na mesma pasta do seu notebook.\n",
      "-----------------------------------------------------------------\n",
      "SepalWidthCm PetalWidthCm  dim2  dim4\n",
      "Backend do Matplotlib alterado para 'Agg'. Iniciando a criação do gráfico em memória...\n"
     ]
    },
    {
     "name": "stderr",
     "output_type": "stream",
     "text": [
      "C:\\Users\\Usuario\\AppData\\Local\\Temp\\ipykernel_23524\\706736877.py:35: UserWarning: *c* argument looks like a single numeric RGB or RGBA sequence, which should be avoided as value-mapping will have precedence in case its length matches with *x* & *y*.  Please use the *color* keyword-argument or provide a 2D array with a single row if you intend to specify the same RGB or RGBA value for all points.\n",
      "  plt.scatter(subset[primeira_variavel], subset[segunda_variavel],\n"
     ]
    },
    {
     "name": "stdout",
     "output_type": "stream",
     "text": [
      "-----------------------------------------------------------------\n",
      "SUCESSO! O gráfico foi salvo como 'c:\\Users\\Usuario\\Documents\\ufrj\\gestao\\TrabGest/plots/k40/kmedias_k40_SepalWidthCm_PetalWidthCm.png' na mesma pasta do seu notebook.\n",
      "-----------------------------------------------------------------\n",
      "PetalLengthCm PetalWidthCm  dim3  dim4\n",
      "Backend do Matplotlib alterado para 'Agg'. Iniciando a criação do gráfico em memória...\n"
     ]
    },
    {
     "name": "stderr",
     "output_type": "stream",
     "text": [
      "C:\\Users\\Usuario\\AppData\\Local\\Temp\\ipykernel_23524\\706736877.py:35: UserWarning: *c* argument looks like a single numeric RGB or RGBA sequence, which should be avoided as value-mapping will have precedence in case its length matches with *x* & *y*.  Please use the *color* keyword-argument or provide a 2D array with a single row if you intend to specify the same RGB or RGBA value for all points.\n",
      "  plt.scatter(subset[primeira_variavel], subset[segunda_variavel],\n"
     ]
    },
    {
     "name": "stdout",
     "output_type": "stream",
     "text": [
      "-----------------------------------------------------------------\n",
      "SUCESSO! O gráfico foi salvo como 'c:\\Users\\Usuario\\Documents\\ufrj\\gestao\\TrabGest/plots/k40/kmedias_k40_PetalLengthCm_PetalWidthCm.png' na mesma pasta do seu notebook.\n",
      "-----------------------------------------------------------------\n",
      "SepalLengthCm SepalWidthCm  dim1  dim2\n",
      "Backend do Matplotlib alterado para 'Agg'. Iniciando a criação do gráfico em memória...\n"
     ]
    },
    {
     "name": "stderr",
     "output_type": "stream",
     "text": [
      "C:\\Users\\Usuario\\AppData\\Local\\Temp\\ipykernel_23524\\706736877.py:35: UserWarning: *c* argument looks like a single numeric RGB or RGBA sequence, which should be avoided as value-mapping will have precedence in case its length matches with *x* & *y*.  Please use the *color* keyword-argument or provide a 2D array with a single row if you intend to specify the same RGB or RGBA value for all points.\n",
      "  plt.scatter(subset[primeira_variavel], subset[segunda_variavel],\n"
     ]
    },
    {
     "name": "stdout",
     "output_type": "stream",
     "text": [
      "-----------------------------------------------------------------\n",
      "SUCESSO! O gráfico foi salvo como 'c:\\Users\\Usuario\\Documents\\ufrj\\gestao\\TrabGest/plots/k41/kmedias_k41_SepalLengthCm_SepalWidthCm.png' na mesma pasta do seu notebook.\n",
      "-----------------------------------------------------------------\n",
      "SepalLengthCm PetalLengthCm  dim1  dim3\n",
      "Backend do Matplotlib alterado para 'Agg'. Iniciando a criação do gráfico em memória...\n"
     ]
    },
    {
     "name": "stderr",
     "output_type": "stream",
     "text": [
      "C:\\Users\\Usuario\\AppData\\Local\\Temp\\ipykernel_23524\\706736877.py:35: UserWarning: *c* argument looks like a single numeric RGB or RGBA sequence, which should be avoided as value-mapping will have precedence in case its length matches with *x* & *y*.  Please use the *color* keyword-argument or provide a 2D array with a single row if you intend to specify the same RGB or RGBA value for all points.\n",
      "  plt.scatter(subset[primeira_variavel], subset[segunda_variavel],\n"
     ]
    },
    {
     "name": "stdout",
     "output_type": "stream",
     "text": [
      "-----------------------------------------------------------------\n",
      "SUCESSO! O gráfico foi salvo como 'c:\\Users\\Usuario\\Documents\\ufrj\\gestao\\TrabGest/plots/k41/kmedias_k41_SepalLengthCm_PetalLengthCm.png' na mesma pasta do seu notebook.\n",
      "-----------------------------------------------------------------\n",
      "SepalLengthCm PetalWidthCm  dim1  dim4\n",
      "Backend do Matplotlib alterado para 'Agg'. Iniciando a criação do gráfico em memória...\n"
     ]
    },
    {
     "name": "stderr",
     "output_type": "stream",
     "text": [
      "C:\\Users\\Usuario\\AppData\\Local\\Temp\\ipykernel_23524\\706736877.py:35: UserWarning: *c* argument looks like a single numeric RGB or RGBA sequence, which should be avoided as value-mapping will have precedence in case its length matches with *x* & *y*.  Please use the *color* keyword-argument or provide a 2D array with a single row if you intend to specify the same RGB or RGBA value for all points.\n",
      "  plt.scatter(subset[primeira_variavel], subset[segunda_variavel],\n"
     ]
    },
    {
     "name": "stdout",
     "output_type": "stream",
     "text": [
      "-----------------------------------------------------------------\n",
      "SUCESSO! O gráfico foi salvo como 'c:\\Users\\Usuario\\Documents\\ufrj\\gestao\\TrabGest/plots/k41/kmedias_k41_SepalLengthCm_PetalWidthCm.png' na mesma pasta do seu notebook.\n",
      "-----------------------------------------------------------------\n",
      "SepalWidthCm PetalLengthCm  dim2  dim3\n",
      "Backend do Matplotlib alterado para 'Agg'. Iniciando a criação do gráfico em memória...\n"
     ]
    },
    {
     "name": "stderr",
     "output_type": "stream",
     "text": [
      "C:\\Users\\Usuario\\AppData\\Local\\Temp\\ipykernel_23524\\706736877.py:35: UserWarning: *c* argument looks like a single numeric RGB or RGBA sequence, which should be avoided as value-mapping will have precedence in case its length matches with *x* & *y*.  Please use the *color* keyword-argument or provide a 2D array with a single row if you intend to specify the same RGB or RGBA value for all points.\n",
      "  plt.scatter(subset[primeira_variavel], subset[segunda_variavel],\n"
     ]
    },
    {
     "name": "stdout",
     "output_type": "stream",
     "text": [
      "-----------------------------------------------------------------\n",
      "SUCESSO! O gráfico foi salvo como 'c:\\Users\\Usuario\\Documents\\ufrj\\gestao\\TrabGest/plots/k41/kmedias_k41_SepalWidthCm_PetalLengthCm.png' na mesma pasta do seu notebook.\n",
      "-----------------------------------------------------------------\n",
      "SepalWidthCm PetalWidthCm  dim2  dim4\n",
      "Backend do Matplotlib alterado para 'Agg'. Iniciando a criação do gráfico em memória...\n"
     ]
    },
    {
     "name": "stderr",
     "output_type": "stream",
     "text": [
      "C:\\Users\\Usuario\\AppData\\Local\\Temp\\ipykernel_23524\\706736877.py:35: UserWarning: *c* argument looks like a single numeric RGB or RGBA sequence, which should be avoided as value-mapping will have precedence in case its length matches with *x* & *y*.  Please use the *color* keyword-argument or provide a 2D array with a single row if you intend to specify the same RGB or RGBA value for all points.\n",
      "  plt.scatter(subset[primeira_variavel], subset[segunda_variavel],\n"
     ]
    },
    {
     "name": "stdout",
     "output_type": "stream",
     "text": [
      "-----------------------------------------------------------------\n",
      "SUCESSO! O gráfico foi salvo como 'c:\\Users\\Usuario\\Documents\\ufrj\\gestao\\TrabGest/plots/k41/kmedias_k41_SepalWidthCm_PetalWidthCm.png' na mesma pasta do seu notebook.\n",
      "-----------------------------------------------------------------\n",
      "PetalLengthCm PetalWidthCm  dim3  dim4\n",
      "Backend do Matplotlib alterado para 'Agg'. Iniciando a criação do gráfico em memória...\n"
     ]
    },
    {
     "name": "stderr",
     "output_type": "stream",
     "text": [
      "C:\\Users\\Usuario\\AppData\\Local\\Temp\\ipykernel_23524\\706736877.py:35: UserWarning: *c* argument looks like a single numeric RGB or RGBA sequence, which should be avoided as value-mapping will have precedence in case its length matches with *x* & *y*.  Please use the *color* keyword-argument or provide a 2D array with a single row if you intend to specify the same RGB or RGBA value for all points.\n",
      "  plt.scatter(subset[primeira_variavel], subset[segunda_variavel],\n"
     ]
    },
    {
     "name": "stdout",
     "output_type": "stream",
     "text": [
      "-----------------------------------------------------------------\n",
      "SUCESSO! O gráfico foi salvo como 'c:\\Users\\Usuario\\Documents\\ufrj\\gestao\\TrabGest/plots/k41/kmedias_k41_PetalLengthCm_PetalWidthCm.png' na mesma pasta do seu notebook.\n",
      "-----------------------------------------------------------------\n",
      "SepalLengthCm SepalWidthCm  dim1  dim2\n",
      "Backend do Matplotlib alterado para 'Agg'. Iniciando a criação do gráfico em memória...\n"
     ]
    },
    {
     "name": "stderr",
     "output_type": "stream",
     "text": [
      "C:\\Users\\Usuario\\AppData\\Local\\Temp\\ipykernel_23524\\706736877.py:35: UserWarning: *c* argument looks like a single numeric RGB or RGBA sequence, which should be avoided as value-mapping will have precedence in case its length matches with *x* & *y*.  Please use the *color* keyword-argument or provide a 2D array with a single row if you intend to specify the same RGB or RGBA value for all points.\n",
      "  plt.scatter(subset[primeira_variavel], subset[segunda_variavel],\n"
     ]
    },
    {
     "name": "stdout",
     "output_type": "stream",
     "text": [
      "-----------------------------------------------------------------\n",
      "SUCESSO! O gráfico foi salvo como 'c:\\Users\\Usuario\\Documents\\ufrj\\gestao\\TrabGest/plots/k42/kmedias_k42_SepalLengthCm_SepalWidthCm.png' na mesma pasta do seu notebook.\n",
      "-----------------------------------------------------------------\n",
      "SepalLengthCm PetalLengthCm  dim1  dim3\n",
      "Backend do Matplotlib alterado para 'Agg'. Iniciando a criação do gráfico em memória...\n"
     ]
    },
    {
     "name": "stderr",
     "output_type": "stream",
     "text": [
      "C:\\Users\\Usuario\\AppData\\Local\\Temp\\ipykernel_23524\\706736877.py:35: UserWarning: *c* argument looks like a single numeric RGB or RGBA sequence, which should be avoided as value-mapping will have precedence in case its length matches with *x* & *y*.  Please use the *color* keyword-argument or provide a 2D array with a single row if you intend to specify the same RGB or RGBA value for all points.\n",
      "  plt.scatter(subset[primeira_variavel], subset[segunda_variavel],\n"
     ]
    },
    {
     "name": "stdout",
     "output_type": "stream",
     "text": [
      "-----------------------------------------------------------------\n",
      "SUCESSO! O gráfico foi salvo como 'c:\\Users\\Usuario\\Documents\\ufrj\\gestao\\TrabGest/plots/k42/kmedias_k42_SepalLengthCm_PetalLengthCm.png' na mesma pasta do seu notebook.\n",
      "-----------------------------------------------------------------\n",
      "SepalLengthCm PetalWidthCm  dim1  dim4\n",
      "Backend do Matplotlib alterado para 'Agg'. Iniciando a criação do gráfico em memória...\n"
     ]
    },
    {
     "name": "stderr",
     "output_type": "stream",
     "text": [
      "C:\\Users\\Usuario\\AppData\\Local\\Temp\\ipykernel_23524\\706736877.py:35: UserWarning: *c* argument looks like a single numeric RGB or RGBA sequence, which should be avoided as value-mapping will have precedence in case its length matches with *x* & *y*.  Please use the *color* keyword-argument or provide a 2D array with a single row if you intend to specify the same RGB or RGBA value for all points.\n",
      "  plt.scatter(subset[primeira_variavel], subset[segunda_variavel],\n"
     ]
    },
    {
     "name": "stdout",
     "output_type": "stream",
     "text": [
      "-----------------------------------------------------------------\n",
      "SUCESSO! O gráfico foi salvo como 'c:\\Users\\Usuario\\Documents\\ufrj\\gestao\\TrabGest/plots/k42/kmedias_k42_SepalLengthCm_PetalWidthCm.png' na mesma pasta do seu notebook.\n",
      "-----------------------------------------------------------------\n",
      "SepalWidthCm PetalLengthCm  dim2  dim3\n",
      "Backend do Matplotlib alterado para 'Agg'. Iniciando a criação do gráfico em memória...\n"
     ]
    },
    {
     "name": "stderr",
     "output_type": "stream",
     "text": [
      "C:\\Users\\Usuario\\AppData\\Local\\Temp\\ipykernel_23524\\706736877.py:35: UserWarning: *c* argument looks like a single numeric RGB or RGBA sequence, which should be avoided as value-mapping will have precedence in case its length matches with *x* & *y*.  Please use the *color* keyword-argument or provide a 2D array with a single row if you intend to specify the same RGB or RGBA value for all points.\n",
      "  plt.scatter(subset[primeira_variavel], subset[segunda_variavel],\n"
     ]
    },
    {
     "name": "stdout",
     "output_type": "stream",
     "text": [
      "-----------------------------------------------------------------\n",
      "SUCESSO! O gráfico foi salvo como 'c:\\Users\\Usuario\\Documents\\ufrj\\gestao\\TrabGest/plots/k42/kmedias_k42_SepalWidthCm_PetalLengthCm.png' na mesma pasta do seu notebook.\n",
      "-----------------------------------------------------------------\n",
      "SepalWidthCm PetalWidthCm  dim2  dim4\n",
      "Backend do Matplotlib alterado para 'Agg'. Iniciando a criação do gráfico em memória...\n"
     ]
    },
    {
     "name": "stderr",
     "output_type": "stream",
     "text": [
      "C:\\Users\\Usuario\\AppData\\Local\\Temp\\ipykernel_23524\\706736877.py:35: UserWarning: *c* argument looks like a single numeric RGB or RGBA sequence, which should be avoided as value-mapping will have precedence in case its length matches with *x* & *y*.  Please use the *color* keyword-argument or provide a 2D array with a single row if you intend to specify the same RGB or RGBA value for all points.\n",
      "  plt.scatter(subset[primeira_variavel], subset[segunda_variavel],\n"
     ]
    },
    {
     "name": "stdout",
     "output_type": "stream",
     "text": [
      "-----------------------------------------------------------------\n",
      "SUCESSO! O gráfico foi salvo como 'c:\\Users\\Usuario\\Documents\\ufrj\\gestao\\TrabGest/plots/k42/kmedias_k42_SepalWidthCm_PetalWidthCm.png' na mesma pasta do seu notebook.\n",
      "-----------------------------------------------------------------\n",
      "PetalLengthCm PetalWidthCm  dim3  dim4\n",
      "Backend do Matplotlib alterado para 'Agg'. Iniciando a criação do gráfico em memória...\n"
     ]
    },
    {
     "name": "stderr",
     "output_type": "stream",
     "text": [
      "C:\\Users\\Usuario\\AppData\\Local\\Temp\\ipykernel_23524\\706736877.py:35: UserWarning: *c* argument looks like a single numeric RGB or RGBA sequence, which should be avoided as value-mapping will have precedence in case its length matches with *x* & *y*.  Please use the *color* keyword-argument or provide a 2D array with a single row if you intend to specify the same RGB or RGBA value for all points.\n",
      "  plt.scatter(subset[primeira_variavel], subset[segunda_variavel],\n"
     ]
    },
    {
     "name": "stdout",
     "output_type": "stream",
     "text": [
      "-----------------------------------------------------------------\n",
      "SUCESSO! O gráfico foi salvo como 'c:\\Users\\Usuario\\Documents\\ufrj\\gestao\\TrabGest/plots/k42/kmedias_k42_PetalLengthCm_PetalWidthCm.png' na mesma pasta do seu notebook.\n",
      "-----------------------------------------------------------------\n",
      "SepalLengthCm SepalWidthCm  dim1  dim2\n",
      "Backend do Matplotlib alterado para 'Agg'. Iniciando a criação do gráfico em memória...\n"
     ]
    },
    {
     "name": "stderr",
     "output_type": "stream",
     "text": [
      "C:\\Users\\Usuario\\AppData\\Local\\Temp\\ipykernel_23524\\706736877.py:35: UserWarning: *c* argument looks like a single numeric RGB or RGBA sequence, which should be avoided as value-mapping will have precedence in case its length matches with *x* & *y*.  Please use the *color* keyword-argument or provide a 2D array with a single row if you intend to specify the same RGB or RGBA value for all points.\n",
      "  plt.scatter(subset[primeira_variavel], subset[segunda_variavel],\n"
     ]
    },
    {
     "name": "stdout",
     "output_type": "stream",
     "text": [
      "-----------------------------------------------------------------\n",
      "SUCESSO! O gráfico foi salvo como 'c:\\Users\\Usuario\\Documents\\ufrj\\gestao\\TrabGest/plots/k43/kmedias_k43_SepalLengthCm_SepalWidthCm.png' na mesma pasta do seu notebook.\n",
      "-----------------------------------------------------------------\n",
      "SepalLengthCm PetalLengthCm  dim1  dim3\n",
      "Backend do Matplotlib alterado para 'Agg'. Iniciando a criação do gráfico em memória...\n"
     ]
    },
    {
     "name": "stderr",
     "output_type": "stream",
     "text": [
      "C:\\Users\\Usuario\\AppData\\Local\\Temp\\ipykernel_23524\\706736877.py:35: UserWarning: *c* argument looks like a single numeric RGB or RGBA sequence, which should be avoided as value-mapping will have precedence in case its length matches with *x* & *y*.  Please use the *color* keyword-argument or provide a 2D array with a single row if you intend to specify the same RGB or RGBA value for all points.\n",
      "  plt.scatter(subset[primeira_variavel], subset[segunda_variavel],\n"
     ]
    },
    {
     "name": "stdout",
     "output_type": "stream",
     "text": [
      "-----------------------------------------------------------------\n",
      "SUCESSO! O gráfico foi salvo como 'c:\\Users\\Usuario\\Documents\\ufrj\\gestao\\TrabGest/plots/k43/kmedias_k43_SepalLengthCm_PetalLengthCm.png' na mesma pasta do seu notebook.\n",
      "-----------------------------------------------------------------\n",
      "SepalLengthCm PetalWidthCm  dim1  dim4\n",
      "Backend do Matplotlib alterado para 'Agg'. Iniciando a criação do gráfico em memória...\n"
     ]
    },
    {
     "name": "stderr",
     "output_type": "stream",
     "text": [
      "C:\\Users\\Usuario\\AppData\\Local\\Temp\\ipykernel_23524\\706736877.py:35: UserWarning: *c* argument looks like a single numeric RGB or RGBA sequence, which should be avoided as value-mapping will have precedence in case its length matches with *x* & *y*.  Please use the *color* keyword-argument or provide a 2D array with a single row if you intend to specify the same RGB or RGBA value for all points.\n",
      "  plt.scatter(subset[primeira_variavel], subset[segunda_variavel],\n"
     ]
    },
    {
     "name": "stdout",
     "output_type": "stream",
     "text": [
      "-----------------------------------------------------------------\n",
      "SUCESSO! O gráfico foi salvo como 'c:\\Users\\Usuario\\Documents\\ufrj\\gestao\\TrabGest/plots/k43/kmedias_k43_SepalLengthCm_PetalWidthCm.png' na mesma pasta do seu notebook.\n",
      "-----------------------------------------------------------------\n",
      "SepalWidthCm PetalLengthCm  dim2  dim3\n",
      "Backend do Matplotlib alterado para 'Agg'. Iniciando a criação do gráfico em memória...\n"
     ]
    },
    {
     "name": "stderr",
     "output_type": "stream",
     "text": [
      "C:\\Users\\Usuario\\AppData\\Local\\Temp\\ipykernel_23524\\706736877.py:35: UserWarning: *c* argument looks like a single numeric RGB or RGBA sequence, which should be avoided as value-mapping will have precedence in case its length matches with *x* & *y*.  Please use the *color* keyword-argument or provide a 2D array with a single row if you intend to specify the same RGB or RGBA value for all points.\n",
      "  plt.scatter(subset[primeira_variavel], subset[segunda_variavel],\n"
     ]
    },
    {
     "name": "stdout",
     "output_type": "stream",
     "text": [
      "-----------------------------------------------------------------\n",
      "SUCESSO! O gráfico foi salvo como 'c:\\Users\\Usuario\\Documents\\ufrj\\gestao\\TrabGest/plots/k43/kmedias_k43_SepalWidthCm_PetalLengthCm.png' na mesma pasta do seu notebook.\n",
      "-----------------------------------------------------------------\n",
      "SepalWidthCm PetalWidthCm  dim2  dim4\n",
      "Backend do Matplotlib alterado para 'Agg'. Iniciando a criação do gráfico em memória...\n"
     ]
    },
    {
     "name": "stderr",
     "output_type": "stream",
     "text": [
      "C:\\Users\\Usuario\\AppData\\Local\\Temp\\ipykernel_23524\\706736877.py:35: UserWarning: *c* argument looks like a single numeric RGB or RGBA sequence, which should be avoided as value-mapping will have precedence in case its length matches with *x* & *y*.  Please use the *color* keyword-argument or provide a 2D array with a single row if you intend to specify the same RGB or RGBA value for all points.\n",
      "  plt.scatter(subset[primeira_variavel], subset[segunda_variavel],\n"
     ]
    },
    {
     "name": "stdout",
     "output_type": "stream",
     "text": [
      "-----------------------------------------------------------------\n",
      "SUCESSO! O gráfico foi salvo como 'c:\\Users\\Usuario\\Documents\\ufrj\\gestao\\TrabGest/plots/k43/kmedias_k43_SepalWidthCm_PetalWidthCm.png' na mesma pasta do seu notebook.\n",
      "-----------------------------------------------------------------\n",
      "PetalLengthCm PetalWidthCm  dim3  dim4\n",
      "Backend do Matplotlib alterado para 'Agg'. Iniciando a criação do gráfico em memória...\n"
     ]
    },
    {
     "name": "stderr",
     "output_type": "stream",
     "text": [
      "C:\\Users\\Usuario\\AppData\\Local\\Temp\\ipykernel_23524\\706736877.py:35: UserWarning: *c* argument looks like a single numeric RGB or RGBA sequence, which should be avoided as value-mapping will have precedence in case its length matches with *x* & *y*.  Please use the *color* keyword-argument or provide a 2D array with a single row if you intend to specify the same RGB or RGBA value for all points.\n",
      "  plt.scatter(subset[primeira_variavel], subset[segunda_variavel],\n"
     ]
    },
    {
     "name": "stdout",
     "output_type": "stream",
     "text": [
      "-----------------------------------------------------------------\n",
      "SUCESSO! O gráfico foi salvo como 'c:\\Users\\Usuario\\Documents\\ufrj\\gestao\\TrabGest/plots/k43/kmedias_k43_PetalLengthCm_PetalWidthCm.png' na mesma pasta do seu notebook.\n",
      "-----------------------------------------------------------------\n",
      "SepalLengthCm SepalWidthCm  dim1  dim2\n",
      "Backend do Matplotlib alterado para 'Agg'. Iniciando a criação do gráfico em memória...\n"
     ]
    },
    {
     "name": "stderr",
     "output_type": "stream",
     "text": [
      "C:\\Users\\Usuario\\AppData\\Local\\Temp\\ipykernel_23524\\706736877.py:35: UserWarning: *c* argument looks like a single numeric RGB or RGBA sequence, which should be avoided as value-mapping will have precedence in case its length matches with *x* & *y*.  Please use the *color* keyword-argument or provide a 2D array with a single row if you intend to specify the same RGB or RGBA value for all points.\n",
      "  plt.scatter(subset[primeira_variavel], subset[segunda_variavel],\n"
     ]
    },
    {
     "name": "stdout",
     "output_type": "stream",
     "text": [
      "-----------------------------------------------------------------\n",
      "SUCESSO! O gráfico foi salvo como 'c:\\Users\\Usuario\\Documents\\ufrj\\gestao\\TrabGest/plots/k44/kmedias_k44_SepalLengthCm_SepalWidthCm.png' na mesma pasta do seu notebook.\n",
      "-----------------------------------------------------------------\n",
      "SepalLengthCm PetalLengthCm  dim1  dim3\n",
      "Backend do Matplotlib alterado para 'Agg'. Iniciando a criação do gráfico em memória...\n"
     ]
    },
    {
     "name": "stderr",
     "output_type": "stream",
     "text": [
      "C:\\Users\\Usuario\\AppData\\Local\\Temp\\ipykernel_23524\\706736877.py:35: UserWarning: *c* argument looks like a single numeric RGB or RGBA sequence, which should be avoided as value-mapping will have precedence in case its length matches with *x* & *y*.  Please use the *color* keyword-argument or provide a 2D array with a single row if you intend to specify the same RGB or RGBA value for all points.\n",
      "  plt.scatter(subset[primeira_variavel], subset[segunda_variavel],\n"
     ]
    },
    {
     "name": "stdout",
     "output_type": "stream",
     "text": [
      "-----------------------------------------------------------------\n",
      "SUCESSO! O gráfico foi salvo como 'c:\\Users\\Usuario\\Documents\\ufrj\\gestao\\TrabGest/plots/k44/kmedias_k44_SepalLengthCm_PetalLengthCm.png' na mesma pasta do seu notebook.\n",
      "-----------------------------------------------------------------\n",
      "SepalLengthCm PetalWidthCm  dim1  dim4\n",
      "Backend do Matplotlib alterado para 'Agg'. Iniciando a criação do gráfico em memória...\n"
     ]
    },
    {
     "name": "stderr",
     "output_type": "stream",
     "text": [
      "C:\\Users\\Usuario\\AppData\\Local\\Temp\\ipykernel_23524\\706736877.py:35: UserWarning: *c* argument looks like a single numeric RGB or RGBA sequence, which should be avoided as value-mapping will have precedence in case its length matches with *x* & *y*.  Please use the *color* keyword-argument or provide a 2D array with a single row if you intend to specify the same RGB or RGBA value for all points.\n",
      "  plt.scatter(subset[primeira_variavel], subset[segunda_variavel],\n"
     ]
    },
    {
     "name": "stdout",
     "output_type": "stream",
     "text": [
      "-----------------------------------------------------------------\n",
      "SUCESSO! O gráfico foi salvo como 'c:\\Users\\Usuario\\Documents\\ufrj\\gestao\\TrabGest/plots/k44/kmedias_k44_SepalLengthCm_PetalWidthCm.png' na mesma pasta do seu notebook.\n",
      "-----------------------------------------------------------------\n",
      "SepalWidthCm PetalLengthCm  dim2  dim3\n",
      "Backend do Matplotlib alterado para 'Agg'. Iniciando a criação do gráfico em memória...\n"
     ]
    },
    {
     "name": "stderr",
     "output_type": "stream",
     "text": [
      "C:\\Users\\Usuario\\AppData\\Local\\Temp\\ipykernel_23524\\706736877.py:35: UserWarning: *c* argument looks like a single numeric RGB or RGBA sequence, which should be avoided as value-mapping will have precedence in case its length matches with *x* & *y*.  Please use the *color* keyword-argument or provide a 2D array with a single row if you intend to specify the same RGB or RGBA value for all points.\n",
      "  plt.scatter(subset[primeira_variavel], subset[segunda_variavel],\n"
     ]
    },
    {
     "name": "stdout",
     "output_type": "stream",
     "text": [
      "-----------------------------------------------------------------\n",
      "SUCESSO! O gráfico foi salvo como 'c:\\Users\\Usuario\\Documents\\ufrj\\gestao\\TrabGest/plots/k44/kmedias_k44_SepalWidthCm_PetalLengthCm.png' na mesma pasta do seu notebook.\n",
      "-----------------------------------------------------------------\n",
      "SepalWidthCm PetalWidthCm  dim2  dim4\n",
      "Backend do Matplotlib alterado para 'Agg'. Iniciando a criação do gráfico em memória...\n"
     ]
    },
    {
     "name": "stderr",
     "output_type": "stream",
     "text": [
      "C:\\Users\\Usuario\\AppData\\Local\\Temp\\ipykernel_23524\\706736877.py:35: UserWarning: *c* argument looks like a single numeric RGB or RGBA sequence, which should be avoided as value-mapping will have precedence in case its length matches with *x* & *y*.  Please use the *color* keyword-argument or provide a 2D array with a single row if you intend to specify the same RGB or RGBA value for all points.\n",
      "  plt.scatter(subset[primeira_variavel], subset[segunda_variavel],\n"
     ]
    },
    {
     "name": "stdout",
     "output_type": "stream",
     "text": [
      "-----------------------------------------------------------------\n",
      "SUCESSO! O gráfico foi salvo como 'c:\\Users\\Usuario\\Documents\\ufrj\\gestao\\TrabGest/plots/k44/kmedias_k44_SepalWidthCm_PetalWidthCm.png' na mesma pasta do seu notebook.\n",
      "-----------------------------------------------------------------\n",
      "PetalLengthCm PetalWidthCm  dim3  dim4\n",
      "Backend do Matplotlib alterado para 'Agg'. Iniciando a criação do gráfico em memória...\n"
     ]
    },
    {
     "name": "stderr",
     "output_type": "stream",
     "text": [
      "C:\\Users\\Usuario\\AppData\\Local\\Temp\\ipykernel_23524\\706736877.py:35: UserWarning: *c* argument looks like a single numeric RGB or RGBA sequence, which should be avoided as value-mapping will have precedence in case its length matches with *x* & *y*.  Please use the *color* keyword-argument or provide a 2D array with a single row if you intend to specify the same RGB or RGBA value for all points.\n",
      "  plt.scatter(subset[primeira_variavel], subset[segunda_variavel],\n"
     ]
    },
    {
     "name": "stdout",
     "output_type": "stream",
     "text": [
      "-----------------------------------------------------------------\n",
      "SUCESSO! O gráfico foi salvo como 'c:\\Users\\Usuario\\Documents\\ufrj\\gestao\\TrabGest/plots/k44/kmedias_k44_PetalLengthCm_PetalWidthCm.png' na mesma pasta do seu notebook.\n",
      "-----------------------------------------------------------------\n",
      "SepalLengthCm SepalWidthCm  dim1  dim2\n",
      "Backend do Matplotlib alterado para 'Agg'. Iniciando a criação do gráfico em memória...\n"
     ]
    },
    {
     "name": "stderr",
     "output_type": "stream",
     "text": [
      "C:\\Users\\Usuario\\AppData\\Local\\Temp\\ipykernel_23524\\706736877.py:35: UserWarning: *c* argument looks like a single numeric RGB or RGBA sequence, which should be avoided as value-mapping will have precedence in case its length matches with *x* & *y*.  Please use the *color* keyword-argument or provide a 2D array with a single row if you intend to specify the same RGB or RGBA value for all points.\n",
      "  plt.scatter(subset[primeira_variavel], subset[segunda_variavel],\n"
     ]
    },
    {
     "name": "stdout",
     "output_type": "stream",
     "text": [
      "-----------------------------------------------------------------\n",
      "SUCESSO! O gráfico foi salvo como 'c:\\Users\\Usuario\\Documents\\ufrj\\gestao\\TrabGest/plots/k45/kmedias_k45_SepalLengthCm_SepalWidthCm.png' na mesma pasta do seu notebook.\n",
      "-----------------------------------------------------------------\n",
      "SepalLengthCm PetalLengthCm  dim1  dim3\n",
      "Backend do Matplotlib alterado para 'Agg'. Iniciando a criação do gráfico em memória...\n"
     ]
    },
    {
     "name": "stderr",
     "output_type": "stream",
     "text": [
      "C:\\Users\\Usuario\\AppData\\Local\\Temp\\ipykernel_23524\\706736877.py:35: UserWarning: *c* argument looks like a single numeric RGB or RGBA sequence, which should be avoided as value-mapping will have precedence in case its length matches with *x* & *y*.  Please use the *color* keyword-argument or provide a 2D array with a single row if you intend to specify the same RGB or RGBA value for all points.\n",
      "  plt.scatter(subset[primeira_variavel], subset[segunda_variavel],\n"
     ]
    },
    {
     "name": "stdout",
     "output_type": "stream",
     "text": [
      "-----------------------------------------------------------------\n",
      "SUCESSO! O gráfico foi salvo como 'c:\\Users\\Usuario\\Documents\\ufrj\\gestao\\TrabGest/plots/k45/kmedias_k45_SepalLengthCm_PetalLengthCm.png' na mesma pasta do seu notebook.\n",
      "-----------------------------------------------------------------\n",
      "SepalLengthCm PetalWidthCm  dim1  dim4\n",
      "Backend do Matplotlib alterado para 'Agg'. Iniciando a criação do gráfico em memória...\n"
     ]
    },
    {
     "name": "stderr",
     "output_type": "stream",
     "text": [
      "C:\\Users\\Usuario\\AppData\\Local\\Temp\\ipykernel_23524\\706736877.py:35: UserWarning: *c* argument looks like a single numeric RGB or RGBA sequence, which should be avoided as value-mapping will have precedence in case its length matches with *x* & *y*.  Please use the *color* keyword-argument or provide a 2D array with a single row if you intend to specify the same RGB or RGBA value for all points.\n",
      "  plt.scatter(subset[primeira_variavel], subset[segunda_variavel],\n"
     ]
    },
    {
     "name": "stdout",
     "output_type": "stream",
     "text": [
      "-----------------------------------------------------------------\n",
      "SUCESSO! O gráfico foi salvo como 'c:\\Users\\Usuario\\Documents\\ufrj\\gestao\\TrabGest/plots/k45/kmedias_k45_SepalLengthCm_PetalWidthCm.png' na mesma pasta do seu notebook.\n",
      "-----------------------------------------------------------------\n",
      "SepalWidthCm PetalLengthCm  dim2  dim3\n",
      "Backend do Matplotlib alterado para 'Agg'. Iniciando a criação do gráfico em memória...\n"
     ]
    },
    {
     "name": "stderr",
     "output_type": "stream",
     "text": [
      "C:\\Users\\Usuario\\AppData\\Local\\Temp\\ipykernel_23524\\706736877.py:35: UserWarning: *c* argument looks like a single numeric RGB or RGBA sequence, which should be avoided as value-mapping will have precedence in case its length matches with *x* & *y*.  Please use the *color* keyword-argument or provide a 2D array with a single row if you intend to specify the same RGB or RGBA value for all points.\n",
      "  plt.scatter(subset[primeira_variavel], subset[segunda_variavel],\n"
     ]
    },
    {
     "name": "stdout",
     "output_type": "stream",
     "text": [
      "-----------------------------------------------------------------\n",
      "SUCESSO! O gráfico foi salvo como 'c:\\Users\\Usuario\\Documents\\ufrj\\gestao\\TrabGest/plots/k45/kmedias_k45_SepalWidthCm_PetalLengthCm.png' na mesma pasta do seu notebook.\n",
      "-----------------------------------------------------------------\n",
      "SepalWidthCm PetalWidthCm  dim2  dim4\n",
      "Backend do Matplotlib alterado para 'Agg'. Iniciando a criação do gráfico em memória...\n"
     ]
    },
    {
     "name": "stderr",
     "output_type": "stream",
     "text": [
      "C:\\Users\\Usuario\\AppData\\Local\\Temp\\ipykernel_23524\\706736877.py:35: UserWarning: *c* argument looks like a single numeric RGB or RGBA sequence, which should be avoided as value-mapping will have precedence in case its length matches with *x* & *y*.  Please use the *color* keyword-argument or provide a 2D array with a single row if you intend to specify the same RGB or RGBA value for all points.\n",
      "  plt.scatter(subset[primeira_variavel], subset[segunda_variavel],\n"
     ]
    },
    {
     "name": "stdout",
     "output_type": "stream",
     "text": [
      "-----------------------------------------------------------------\n",
      "SUCESSO! O gráfico foi salvo como 'c:\\Users\\Usuario\\Documents\\ufrj\\gestao\\TrabGest/plots/k45/kmedias_k45_SepalWidthCm_PetalWidthCm.png' na mesma pasta do seu notebook.\n",
      "-----------------------------------------------------------------\n",
      "PetalLengthCm PetalWidthCm  dim3  dim4\n",
      "Backend do Matplotlib alterado para 'Agg'. Iniciando a criação do gráfico em memória...\n"
     ]
    },
    {
     "name": "stderr",
     "output_type": "stream",
     "text": [
      "C:\\Users\\Usuario\\AppData\\Local\\Temp\\ipykernel_23524\\706736877.py:35: UserWarning: *c* argument looks like a single numeric RGB or RGBA sequence, which should be avoided as value-mapping will have precedence in case its length matches with *x* & *y*.  Please use the *color* keyword-argument or provide a 2D array with a single row if you intend to specify the same RGB or RGBA value for all points.\n",
      "  plt.scatter(subset[primeira_variavel], subset[segunda_variavel],\n"
     ]
    },
    {
     "name": "stdout",
     "output_type": "stream",
     "text": [
      "-----------------------------------------------------------------\n",
      "SUCESSO! O gráfico foi salvo como 'c:\\Users\\Usuario\\Documents\\ufrj\\gestao\\TrabGest/plots/k45/kmedias_k45_PetalLengthCm_PetalWidthCm.png' na mesma pasta do seu notebook.\n",
      "-----------------------------------------------------------------\n",
      "SepalLengthCm SepalWidthCm  dim1  dim2\n",
      "Backend do Matplotlib alterado para 'Agg'. Iniciando a criação do gráfico em memória...\n"
     ]
    },
    {
     "name": "stderr",
     "output_type": "stream",
     "text": [
      "C:\\Users\\Usuario\\AppData\\Local\\Temp\\ipykernel_23524\\706736877.py:35: UserWarning: *c* argument looks like a single numeric RGB or RGBA sequence, which should be avoided as value-mapping will have precedence in case its length matches with *x* & *y*.  Please use the *color* keyword-argument or provide a 2D array with a single row if you intend to specify the same RGB or RGBA value for all points.\n",
      "  plt.scatter(subset[primeira_variavel], subset[segunda_variavel],\n"
     ]
    },
    {
     "name": "stdout",
     "output_type": "stream",
     "text": [
      "-----------------------------------------------------------------\n",
      "SUCESSO! O gráfico foi salvo como 'c:\\Users\\Usuario\\Documents\\ufrj\\gestao\\TrabGest/plots/k46/kmedias_k46_SepalLengthCm_SepalWidthCm.png' na mesma pasta do seu notebook.\n",
      "-----------------------------------------------------------------\n",
      "SepalLengthCm PetalLengthCm  dim1  dim3\n",
      "Backend do Matplotlib alterado para 'Agg'. Iniciando a criação do gráfico em memória...\n"
     ]
    },
    {
     "name": "stderr",
     "output_type": "stream",
     "text": [
      "C:\\Users\\Usuario\\AppData\\Local\\Temp\\ipykernel_23524\\706736877.py:35: UserWarning: *c* argument looks like a single numeric RGB or RGBA sequence, which should be avoided as value-mapping will have precedence in case its length matches with *x* & *y*.  Please use the *color* keyword-argument or provide a 2D array with a single row if you intend to specify the same RGB or RGBA value for all points.\n",
      "  plt.scatter(subset[primeira_variavel], subset[segunda_variavel],\n"
     ]
    },
    {
     "name": "stdout",
     "output_type": "stream",
     "text": [
      "-----------------------------------------------------------------\n",
      "SUCESSO! O gráfico foi salvo como 'c:\\Users\\Usuario\\Documents\\ufrj\\gestao\\TrabGest/plots/k46/kmedias_k46_SepalLengthCm_PetalLengthCm.png' na mesma pasta do seu notebook.\n",
      "-----------------------------------------------------------------\n",
      "SepalLengthCm PetalWidthCm  dim1  dim4\n",
      "Backend do Matplotlib alterado para 'Agg'. Iniciando a criação do gráfico em memória...\n"
     ]
    },
    {
     "name": "stderr",
     "output_type": "stream",
     "text": [
      "C:\\Users\\Usuario\\AppData\\Local\\Temp\\ipykernel_23524\\706736877.py:35: UserWarning: *c* argument looks like a single numeric RGB or RGBA sequence, which should be avoided as value-mapping will have precedence in case its length matches with *x* & *y*.  Please use the *color* keyword-argument or provide a 2D array with a single row if you intend to specify the same RGB or RGBA value for all points.\n",
      "  plt.scatter(subset[primeira_variavel], subset[segunda_variavel],\n"
     ]
    },
    {
     "name": "stdout",
     "output_type": "stream",
     "text": [
      "-----------------------------------------------------------------\n",
      "SUCESSO! O gráfico foi salvo como 'c:\\Users\\Usuario\\Documents\\ufrj\\gestao\\TrabGest/plots/k46/kmedias_k46_SepalLengthCm_PetalWidthCm.png' na mesma pasta do seu notebook.\n",
      "-----------------------------------------------------------------\n",
      "SepalWidthCm PetalLengthCm  dim2  dim3\n",
      "Backend do Matplotlib alterado para 'Agg'. Iniciando a criação do gráfico em memória...\n"
     ]
    },
    {
     "name": "stderr",
     "output_type": "stream",
     "text": [
      "C:\\Users\\Usuario\\AppData\\Local\\Temp\\ipykernel_23524\\706736877.py:35: UserWarning: *c* argument looks like a single numeric RGB or RGBA sequence, which should be avoided as value-mapping will have precedence in case its length matches with *x* & *y*.  Please use the *color* keyword-argument or provide a 2D array with a single row if you intend to specify the same RGB or RGBA value for all points.\n",
      "  plt.scatter(subset[primeira_variavel], subset[segunda_variavel],\n"
     ]
    },
    {
     "name": "stdout",
     "output_type": "stream",
     "text": [
      "-----------------------------------------------------------------\n",
      "SUCESSO! O gráfico foi salvo como 'c:\\Users\\Usuario\\Documents\\ufrj\\gestao\\TrabGest/plots/k46/kmedias_k46_SepalWidthCm_PetalLengthCm.png' na mesma pasta do seu notebook.\n",
      "-----------------------------------------------------------------\n",
      "SepalWidthCm PetalWidthCm  dim2  dim4\n",
      "Backend do Matplotlib alterado para 'Agg'. Iniciando a criação do gráfico em memória...\n"
     ]
    },
    {
     "name": "stderr",
     "output_type": "stream",
     "text": [
      "C:\\Users\\Usuario\\AppData\\Local\\Temp\\ipykernel_23524\\706736877.py:35: UserWarning: *c* argument looks like a single numeric RGB or RGBA sequence, which should be avoided as value-mapping will have precedence in case its length matches with *x* & *y*.  Please use the *color* keyword-argument or provide a 2D array with a single row if you intend to specify the same RGB or RGBA value for all points.\n",
      "  plt.scatter(subset[primeira_variavel], subset[segunda_variavel],\n"
     ]
    },
    {
     "name": "stdout",
     "output_type": "stream",
     "text": [
      "-----------------------------------------------------------------\n",
      "SUCESSO! O gráfico foi salvo como 'c:\\Users\\Usuario\\Documents\\ufrj\\gestao\\TrabGest/plots/k46/kmedias_k46_SepalWidthCm_PetalWidthCm.png' na mesma pasta do seu notebook.\n",
      "-----------------------------------------------------------------\n",
      "PetalLengthCm PetalWidthCm  dim3  dim4\n",
      "Backend do Matplotlib alterado para 'Agg'. Iniciando a criação do gráfico em memória...\n"
     ]
    },
    {
     "name": "stderr",
     "output_type": "stream",
     "text": [
      "C:\\Users\\Usuario\\AppData\\Local\\Temp\\ipykernel_23524\\706736877.py:35: UserWarning: *c* argument looks like a single numeric RGB or RGBA sequence, which should be avoided as value-mapping will have precedence in case its length matches with *x* & *y*.  Please use the *color* keyword-argument or provide a 2D array with a single row if you intend to specify the same RGB or RGBA value for all points.\n",
      "  plt.scatter(subset[primeira_variavel], subset[segunda_variavel],\n"
     ]
    },
    {
     "name": "stdout",
     "output_type": "stream",
     "text": [
      "-----------------------------------------------------------------\n",
      "SUCESSO! O gráfico foi salvo como 'c:\\Users\\Usuario\\Documents\\ufrj\\gestao\\TrabGest/plots/k46/kmedias_k46_PetalLengthCm_PetalWidthCm.png' na mesma pasta do seu notebook.\n",
      "-----------------------------------------------------------------\n",
      "SepalLengthCm SepalWidthCm  dim1  dim2\n",
      "Backend do Matplotlib alterado para 'Agg'. Iniciando a criação do gráfico em memória...\n"
     ]
    },
    {
     "name": "stderr",
     "output_type": "stream",
     "text": [
      "C:\\Users\\Usuario\\AppData\\Local\\Temp\\ipykernel_23524\\706736877.py:35: UserWarning: *c* argument looks like a single numeric RGB or RGBA sequence, which should be avoided as value-mapping will have precedence in case its length matches with *x* & *y*.  Please use the *color* keyword-argument or provide a 2D array with a single row if you intend to specify the same RGB or RGBA value for all points.\n",
      "  plt.scatter(subset[primeira_variavel], subset[segunda_variavel],\n"
     ]
    },
    {
     "name": "stdout",
     "output_type": "stream",
     "text": [
      "-----------------------------------------------------------------\n",
      "SUCESSO! O gráfico foi salvo como 'c:\\Users\\Usuario\\Documents\\ufrj\\gestao\\TrabGest/plots/k47/kmedias_k47_SepalLengthCm_SepalWidthCm.png' na mesma pasta do seu notebook.\n",
      "-----------------------------------------------------------------\n",
      "SepalLengthCm PetalLengthCm  dim1  dim3\n",
      "Backend do Matplotlib alterado para 'Agg'. Iniciando a criação do gráfico em memória...\n"
     ]
    },
    {
     "name": "stderr",
     "output_type": "stream",
     "text": [
      "C:\\Users\\Usuario\\AppData\\Local\\Temp\\ipykernel_23524\\706736877.py:35: UserWarning: *c* argument looks like a single numeric RGB or RGBA sequence, which should be avoided as value-mapping will have precedence in case its length matches with *x* & *y*.  Please use the *color* keyword-argument or provide a 2D array with a single row if you intend to specify the same RGB or RGBA value for all points.\n",
      "  plt.scatter(subset[primeira_variavel], subset[segunda_variavel],\n"
     ]
    },
    {
     "name": "stdout",
     "output_type": "stream",
     "text": [
      "-----------------------------------------------------------------\n",
      "SUCESSO! O gráfico foi salvo como 'c:\\Users\\Usuario\\Documents\\ufrj\\gestao\\TrabGest/plots/k47/kmedias_k47_SepalLengthCm_PetalLengthCm.png' na mesma pasta do seu notebook.\n",
      "-----------------------------------------------------------------\n",
      "SepalLengthCm PetalWidthCm  dim1  dim4\n",
      "Backend do Matplotlib alterado para 'Agg'. Iniciando a criação do gráfico em memória...\n"
     ]
    },
    {
     "name": "stderr",
     "output_type": "stream",
     "text": [
      "C:\\Users\\Usuario\\AppData\\Local\\Temp\\ipykernel_23524\\706736877.py:35: UserWarning: *c* argument looks like a single numeric RGB or RGBA sequence, which should be avoided as value-mapping will have precedence in case its length matches with *x* & *y*.  Please use the *color* keyword-argument or provide a 2D array with a single row if you intend to specify the same RGB or RGBA value for all points.\n",
      "  plt.scatter(subset[primeira_variavel], subset[segunda_variavel],\n"
     ]
    },
    {
     "name": "stdout",
     "output_type": "stream",
     "text": [
      "-----------------------------------------------------------------\n",
      "SUCESSO! O gráfico foi salvo como 'c:\\Users\\Usuario\\Documents\\ufrj\\gestao\\TrabGest/plots/k47/kmedias_k47_SepalLengthCm_PetalWidthCm.png' na mesma pasta do seu notebook.\n",
      "-----------------------------------------------------------------\n",
      "SepalWidthCm PetalLengthCm  dim2  dim3\n",
      "Backend do Matplotlib alterado para 'Agg'. Iniciando a criação do gráfico em memória...\n"
     ]
    },
    {
     "name": "stderr",
     "output_type": "stream",
     "text": [
      "C:\\Users\\Usuario\\AppData\\Local\\Temp\\ipykernel_23524\\706736877.py:35: UserWarning: *c* argument looks like a single numeric RGB or RGBA sequence, which should be avoided as value-mapping will have precedence in case its length matches with *x* & *y*.  Please use the *color* keyword-argument or provide a 2D array with a single row if you intend to specify the same RGB or RGBA value for all points.\n",
      "  plt.scatter(subset[primeira_variavel], subset[segunda_variavel],\n"
     ]
    },
    {
     "name": "stdout",
     "output_type": "stream",
     "text": [
      "-----------------------------------------------------------------\n",
      "SUCESSO! O gráfico foi salvo como 'c:\\Users\\Usuario\\Documents\\ufrj\\gestao\\TrabGest/plots/k47/kmedias_k47_SepalWidthCm_PetalLengthCm.png' na mesma pasta do seu notebook.\n",
      "-----------------------------------------------------------------\n",
      "SepalWidthCm PetalWidthCm  dim2  dim4\n",
      "Backend do Matplotlib alterado para 'Agg'. Iniciando a criação do gráfico em memória...\n"
     ]
    },
    {
     "name": "stderr",
     "output_type": "stream",
     "text": [
      "C:\\Users\\Usuario\\AppData\\Local\\Temp\\ipykernel_23524\\706736877.py:35: UserWarning: *c* argument looks like a single numeric RGB or RGBA sequence, which should be avoided as value-mapping will have precedence in case its length matches with *x* & *y*.  Please use the *color* keyword-argument or provide a 2D array with a single row if you intend to specify the same RGB or RGBA value for all points.\n",
      "  plt.scatter(subset[primeira_variavel], subset[segunda_variavel],\n"
     ]
    },
    {
     "name": "stdout",
     "output_type": "stream",
     "text": [
      "-----------------------------------------------------------------\n",
      "SUCESSO! O gráfico foi salvo como 'c:\\Users\\Usuario\\Documents\\ufrj\\gestao\\TrabGest/plots/k47/kmedias_k47_SepalWidthCm_PetalWidthCm.png' na mesma pasta do seu notebook.\n",
      "-----------------------------------------------------------------\n",
      "PetalLengthCm PetalWidthCm  dim3  dim4\n",
      "Backend do Matplotlib alterado para 'Agg'. Iniciando a criação do gráfico em memória...\n"
     ]
    },
    {
     "name": "stderr",
     "output_type": "stream",
     "text": [
      "C:\\Users\\Usuario\\AppData\\Local\\Temp\\ipykernel_23524\\706736877.py:35: UserWarning: *c* argument looks like a single numeric RGB or RGBA sequence, which should be avoided as value-mapping will have precedence in case its length matches with *x* & *y*.  Please use the *color* keyword-argument or provide a 2D array with a single row if you intend to specify the same RGB or RGBA value for all points.\n",
      "  plt.scatter(subset[primeira_variavel], subset[segunda_variavel],\n"
     ]
    },
    {
     "name": "stdout",
     "output_type": "stream",
     "text": [
      "-----------------------------------------------------------------\n",
      "SUCESSO! O gráfico foi salvo como 'c:\\Users\\Usuario\\Documents\\ufrj\\gestao\\TrabGest/plots/k47/kmedias_k47_PetalLengthCm_PetalWidthCm.png' na mesma pasta do seu notebook.\n",
      "-----------------------------------------------------------------\n",
      "SepalLengthCm SepalWidthCm  dim1  dim2\n",
      "Backend do Matplotlib alterado para 'Agg'. Iniciando a criação do gráfico em memória...\n"
     ]
    },
    {
     "name": "stderr",
     "output_type": "stream",
     "text": [
      "C:\\Users\\Usuario\\AppData\\Local\\Temp\\ipykernel_23524\\706736877.py:35: UserWarning: *c* argument looks like a single numeric RGB or RGBA sequence, which should be avoided as value-mapping will have precedence in case its length matches with *x* & *y*.  Please use the *color* keyword-argument or provide a 2D array with a single row if you intend to specify the same RGB or RGBA value for all points.\n",
      "  plt.scatter(subset[primeira_variavel], subset[segunda_variavel],\n"
     ]
    },
    {
     "name": "stdout",
     "output_type": "stream",
     "text": [
      "-----------------------------------------------------------------\n",
      "SUCESSO! O gráfico foi salvo como 'c:\\Users\\Usuario\\Documents\\ufrj\\gestao\\TrabGest/plots/k48/kmedias_k48_SepalLengthCm_SepalWidthCm.png' na mesma pasta do seu notebook.\n",
      "-----------------------------------------------------------------\n",
      "SepalLengthCm PetalLengthCm  dim1  dim3\n",
      "Backend do Matplotlib alterado para 'Agg'. Iniciando a criação do gráfico em memória...\n"
     ]
    },
    {
     "name": "stderr",
     "output_type": "stream",
     "text": [
      "C:\\Users\\Usuario\\AppData\\Local\\Temp\\ipykernel_23524\\706736877.py:35: UserWarning: *c* argument looks like a single numeric RGB or RGBA sequence, which should be avoided as value-mapping will have precedence in case its length matches with *x* & *y*.  Please use the *color* keyword-argument or provide a 2D array with a single row if you intend to specify the same RGB or RGBA value for all points.\n",
      "  plt.scatter(subset[primeira_variavel], subset[segunda_variavel],\n"
     ]
    },
    {
     "name": "stdout",
     "output_type": "stream",
     "text": [
      "-----------------------------------------------------------------\n",
      "SUCESSO! O gráfico foi salvo como 'c:\\Users\\Usuario\\Documents\\ufrj\\gestao\\TrabGest/plots/k48/kmedias_k48_SepalLengthCm_PetalLengthCm.png' na mesma pasta do seu notebook.\n",
      "-----------------------------------------------------------------\n",
      "SepalLengthCm PetalWidthCm  dim1  dim4\n",
      "Backend do Matplotlib alterado para 'Agg'. Iniciando a criação do gráfico em memória...\n"
     ]
    },
    {
     "name": "stderr",
     "output_type": "stream",
     "text": [
      "C:\\Users\\Usuario\\AppData\\Local\\Temp\\ipykernel_23524\\706736877.py:35: UserWarning: *c* argument looks like a single numeric RGB or RGBA sequence, which should be avoided as value-mapping will have precedence in case its length matches with *x* & *y*.  Please use the *color* keyword-argument or provide a 2D array with a single row if you intend to specify the same RGB or RGBA value for all points.\n",
      "  plt.scatter(subset[primeira_variavel], subset[segunda_variavel],\n"
     ]
    },
    {
     "name": "stdout",
     "output_type": "stream",
     "text": [
      "-----------------------------------------------------------------\n",
      "SUCESSO! O gráfico foi salvo como 'c:\\Users\\Usuario\\Documents\\ufrj\\gestao\\TrabGest/plots/k48/kmedias_k48_SepalLengthCm_PetalWidthCm.png' na mesma pasta do seu notebook.\n",
      "-----------------------------------------------------------------\n",
      "SepalWidthCm PetalLengthCm  dim2  dim3\n",
      "Backend do Matplotlib alterado para 'Agg'. Iniciando a criação do gráfico em memória...\n"
     ]
    },
    {
     "name": "stderr",
     "output_type": "stream",
     "text": [
      "C:\\Users\\Usuario\\AppData\\Local\\Temp\\ipykernel_23524\\706736877.py:35: UserWarning: *c* argument looks like a single numeric RGB or RGBA sequence, which should be avoided as value-mapping will have precedence in case its length matches with *x* & *y*.  Please use the *color* keyword-argument or provide a 2D array with a single row if you intend to specify the same RGB or RGBA value for all points.\n",
      "  plt.scatter(subset[primeira_variavel], subset[segunda_variavel],\n"
     ]
    },
    {
     "name": "stdout",
     "output_type": "stream",
     "text": [
      "-----------------------------------------------------------------\n",
      "SUCESSO! O gráfico foi salvo como 'c:\\Users\\Usuario\\Documents\\ufrj\\gestao\\TrabGest/plots/k48/kmedias_k48_SepalWidthCm_PetalLengthCm.png' na mesma pasta do seu notebook.\n",
      "-----------------------------------------------------------------\n",
      "SepalWidthCm PetalWidthCm  dim2  dim4\n",
      "Backend do Matplotlib alterado para 'Agg'. Iniciando a criação do gráfico em memória...\n"
     ]
    },
    {
     "name": "stderr",
     "output_type": "stream",
     "text": [
      "C:\\Users\\Usuario\\AppData\\Local\\Temp\\ipykernel_23524\\706736877.py:35: UserWarning: *c* argument looks like a single numeric RGB or RGBA sequence, which should be avoided as value-mapping will have precedence in case its length matches with *x* & *y*.  Please use the *color* keyword-argument or provide a 2D array with a single row if you intend to specify the same RGB or RGBA value for all points.\n",
      "  plt.scatter(subset[primeira_variavel], subset[segunda_variavel],\n"
     ]
    },
    {
     "name": "stdout",
     "output_type": "stream",
     "text": [
      "-----------------------------------------------------------------\n",
      "SUCESSO! O gráfico foi salvo como 'c:\\Users\\Usuario\\Documents\\ufrj\\gestao\\TrabGest/plots/k48/kmedias_k48_SepalWidthCm_PetalWidthCm.png' na mesma pasta do seu notebook.\n",
      "-----------------------------------------------------------------\n",
      "PetalLengthCm PetalWidthCm  dim3  dim4\n",
      "Backend do Matplotlib alterado para 'Agg'. Iniciando a criação do gráfico em memória...\n"
     ]
    },
    {
     "name": "stderr",
     "output_type": "stream",
     "text": [
      "C:\\Users\\Usuario\\AppData\\Local\\Temp\\ipykernel_23524\\706736877.py:35: UserWarning: *c* argument looks like a single numeric RGB or RGBA sequence, which should be avoided as value-mapping will have precedence in case its length matches with *x* & *y*.  Please use the *color* keyword-argument or provide a 2D array with a single row if you intend to specify the same RGB or RGBA value for all points.\n",
      "  plt.scatter(subset[primeira_variavel], subset[segunda_variavel],\n"
     ]
    },
    {
     "name": "stdout",
     "output_type": "stream",
     "text": [
      "-----------------------------------------------------------------\n",
      "SUCESSO! O gráfico foi salvo como 'c:\\Users\\Usuario\\Documents\\ufrj\\gestao\\TrabGest/plots/k48/kmedias_k48_PetalLengthCm_PetalWidthCm.png' na mesma pasta do seu notebook.\n",
      "-----------------------------------------------------------------\n",
      "SepalLengthCm SepalWidthCm  dim1  dim2\n",
      "Backend do Matplotlib alterado para 'Agg'. Iniciando a criação do gráfico em memória...\n"
     ]
    },
    {
     "name": "stderr",
     "output_type": "stream",
     "text": [
      "C:\\Users\\Usuario\\AppData\\Local\\Temp\\ipykernel_23524\\706736877.py:35: UserWarning: *c* argument looks like a single numeric RGB or RGBA sequence, which should be avoided as value-mapping will have precedence in case its length matches with *x* & *y*.  Please use the *color* keyword-argument or provide a 2D array with a single row if you intend to specify the same RGB or RGBA value for all points.\n",
      "  plt.scatter(subset[primeira_variavel], subset[segunda_variavel],\n"
     ]
    },
    {
     "name": "stdout",
     "output_type": "stream",
     "text": [
      "-----------------------------------------------------------------\n",
      "SUCESSO! O gráfico foi salvo como 'c:\\Users\\Usuario\\Documents\\ufrj\\gestao\\TrabGest/plots/k49/kmedias_k49_SepalLengthCm_SepalWidthCm.png' na mesma pasta do seu notebook.\n",
      "-----------------------------------------------------------------\n",
      "SepalLengthCm PetalLengthCm  dim1  dim3\n",
      "Backend do Matplotlib alterado para 'Agg'. Iniciando a criação do gráfico em memória...\n"
     ]
    },
    {
     "name": "stderr",
     "output_type": "stream",
     "text": [
      "C:\\Users\\Usuario\\AppData\\Local\\Temp\\ipykernel_23524\\706736877.py:35: UserWarning: *c* argument looks like a single numeric RGB or RGBA sequence, which should be avoided as value-mapping will have precedence in case its length matches with *x* & *y*.  Please use the *color* keyword-argument or provide a 2D array with a single row if you intend to specify the same RGB or RGBA value for all points.\n",
      "  plt.scatter(subset[primeira_variavel], subset[segunda_variavel],\n"
     ]
    },
    {
     "name": "stdout",
     "output_type": "stream",
     "text": [
      "-----------------------------------------------------------------\n",
      "SUCESSO! O gráfico foi salvo como 'c:\\Users\\Usuario\\Documents\\ufrj\\gestao\\TrabGest/plots/k49/kmedias_k49_SepalLengthCm_PetalLengthCm.png' na mesma pasta do seu notebook.\n",
      "-----------------------------------------------------------------\n",
      "SepalLengthCm PetalWidthCm  dim1  dim4\n",
      "Backend do Matplotlib alterado para 'Agg'. Iniciando a criação do gráfico em memória...\n"
     ]
    },
    {
     "name": "stderr",
     "output_type": "stream",
     "text": [
      "C:\\Users\\Usuario\\AppData\\Local\\Temp\\ipykernel_23524\\706736877.py:35: UserWarning: *c* argument looks like a single numeric RGB or RGBA sequence, which should be avoided as value-mapping will have precedence in case its length matches with *x* & *y*.  Please use the *color* keyword-argument or provide a 2D array with a single row if you intend to specify the same RGB or RGBA value for all points.\n",
      "  plt.scatter(subset[primeira_variavel], subset[segunda_variavel],\n"
     ]
    },
    {
     "name": "stdout",
     "output_type": "stream",
     "text": [
      "-----------------------------------------------------------------\n",
      "SUCESSO! O gráfico foi salvo como 'c:\\Users\\Usuario\\Documents\\ufrj\\gestao\\TrabGest/plots/k49/kmedias_k49_SepalLengthCm_PetalWidthCm.png' na mesma pasta do seu notebook.\n",
      "-----------------------------------------------------------------\n",
      "SepalWidthCm PetalLengthCm  dim2  dim3\n",
      "Backend do Matplotlib alterado para 'Agg'. Iniciando a criação do gráfico em memória...\n"
     ]
    },
    {
     "name": "stderr",
     "output_type": "stream",
     "text": [
      "C:\\Users\\Usuario\\AppData\\Local\\Temp\\ipykernel_23524\\706736877.py:35: UserWarning: *c* argument looks like a single numeric RGB or RGBA sequence, which should be avoided as value-mapping will have precedence in case its length matches with *x* & *y*.  Please use the *color* keyword-argument or provide a 2D array with a single row if you intend to specify the same RGB or RGBA value for all points.\n",
      "  plt.scatter(subset[primeira_variavel], subset[segunda_variavel],\n"
     ]
    },
    {
     "name": "stdout",
     "output_type": "stream",
     "text": [
      "-----------------------------------------------------------------\n",
      "SUCESSO! O gráfico foi salvo como 'c:\\Users\\Usuario\\Documents\\ufrj\\gestao\\TrabGest/plots/k49/kmedias_k49_SepalWidthCm_PetalLengthCm.png' na mesma pasta do seu notebook.\n",
      "-----------------------------------------------------------------\n",
      "SepalWidthCm PetalWidthCm  dim2  dim4\n",
      "Backend do Matplotlib alterado para 'Agg'. Iniciando a criação do gráfico em memória...\n"
     ]
    },
    {
     "name": "stderr",
     "output_type": "stream",
     "text": [
      "C:\\Users\\Usuario\\AppData\\Local\\Temp\\ipykernel_23524\\706736877.py:35: UserWarning: *c* argument looks like a single numeric RGB or RGBA sequence, which should be avoided as value-mapping will have precedence in case its length matches with *x* & *y*.  Please use the *color* keyword-argument or provide a 2D array with a single row if you intend to specify the same RGB or RGBA value for all points.\n",
      "  plt.scatter(subset[primeira_variavel], subset[segunda_variavel],\n"
     ]
    },
    {
     "name": "stdout",
     "output_type": "stream",
     "text": [
      "-----------------------------------------------------------------\n",
      "SUCESSO! O gráfico foi salvo como 'c:\\Users\\Usuario\\Documents\\ufrj\\gestao\\TrabGest/plots/k49/kmedias_k49_SepalWidthCm_PetalWidthCm.png' na mesma pasta do seu notebook.\n",
      "-----------------------------------------------------------------\n",
      "PetalLengthCm PetalWidthCm  dim3  dim4\n",
      "Backend do Matplotlib alterado para 'Agg'. Iniciando a criação do gráfico em memória...\n"
     ]
    },
    {
     "name": "stderr",
     "output_type": "stream",
     "text": [
      "C:\\Users\\Usuario\\AppData\\Local\\Temp\\ipykernel_23524\\706736877.py:35: UserWarning: *c* argument looks like a single numeric RGB or RGBA sequence, which should be avoided as value-mapping will have precedence in case its length matches with *x* & *y*.  Please use the *color* keyword-argument or provide a 2D array with a single row if you intend to specify the same RGB or RGBA value for all points.\n",
      "  plt.scatter(subset[primeira_variavel], subset[segunda_variavel],\n"
     ]
    },
    {
     "name": "stdout",
     "output_type": "stream",
     "text": [
      "-----------------------------------------------------------------\n",
      "SUCESSO! O gráfico foi salvo como 'c:\\Users\\Usuario\\Documents\\ufrj\\gestao\\TrabGest/plots/k49/kmedias_k49_PetalLengthCm_PetalWidthCm.png' na mesma pasta do seu notebook.\n",
      "-----------------------------------------------------------------\n",
      "SepalLengthCm SepalWidthCm  dim1  dim2\n",
      "Backend do Matplotlib alterado para 'Agg'. Iniciando a criação do gráfico em memória...\n"
     ]
    },
    {
     "name": "stderr",
     "output_type": "stream",
     "text": [
      "C:\\Users\\Usuario\\AppData\\Local\\Temp\\ipykernel_23524\\706736877.py:35: UserWarning: *c* argument looks like a single numeric RGB or RGBA sequence, which should be avoided as value-mapping will have precedence in case its length matches with *x* & *y*.  Please use the *color* keyword-argument or provide a 2D array with a single row if you intend to specify the same RGB or RGBA value for all points.\n",
      "  plt.scatter(subset[primeira_variavel], subset[segunda_variavel],\n"
     ]
    },
    {
     "name": "stdout",
     "output_type": "stream",
     "text": [
      "-----------------------------------------------------------------\n",
      "SUCESSO! O gráfico foi salvo como 'c:\\Users\\Usuario\\Documents\\ufrj\\gestao\\TrabGest/plots/k50/kmedias_k50_SepalLengthCm_SepalWidthCm.png' na mesma pasta do seu notebook.\n",
      "-----------------------------------------------------------------\n",
      "SepalLengthCm PetalLengthCm  dim1  dim3\n",
      "Backend do Matplotlib alterado para 'Agg'. Iniciando a criação do gráfico em memória...\n"
     ]
    },
    {
     "name": "stderr",
     "output_type": "stream",
     "text": [
      "C:\\Users\\Usuario\\AppData\\Local\\Temp\\ipykernel_23524\\706736877.py:35: UserWarning: *c* argument looks like a single numeric RGB or RGBA sequence, which should be avoided as value-mapping will have precedence in case its length matches with *x* & *y*.  Please use the *color* keyword-argument or provide a 2D array with a single row if you intend to specify the same RGB or RGBA value for all points.\n",
      "  plt.scatter(subset[primeira_variavel], subset[segunda_variavel],\n"
     ]
    },
    {
     "name": "stdout",
     "output_type": "stream",
     "text": [
      "-----------------------------------------------------------------\n",
      "SUCESSO! O gráfico foi salvo como 'c:\\Users\\Usuario\\Documents\\ufrj\\gestao\\TrabGest/plots/k50/kmedias_k50_SepalLengthCm_PetalLengthCm.png' na mesma pasta do seu notebook.\n",
      "-----------------------------------------------------------------\n",
      "SepalLengthCm PetalWidthCm  dim1  dim4\n",
      "Backend do Matplotlib alterado para 'Agg'. Iniciando a criação do gráfico em memória...\n"
     ]
    },
    {
     "name": "stderr",
     "output_type": "stream",
     "text": [
      "C:\\Users\\Usuario\\AppData\\Local\\Temp\\ipykernel_23524\\706736877.py:35: UserWarning: *c* argument looks like a single numeric RGB or RGBA sequence, which should be avoided as value-mapping will have precedence in case its length matches with *x* & *y*.  Please use the *color* keyword-argument or provide a 2D array with a single row if you intend to specify the same RGB or RGBA value for all points.\n",
      "  plt.scatter(subset[primeira_variavel], subset[segunda_variavel],\n"
     ]
    },
    {
     "name": "stdout",
     "output_type": "stream",
     "text": [
      "-----------------------------------------------------------------\n",
      "SUCESSO! O gráfico foi salvo como 'c:\\Users\\Usuario\\Documents\\ufrj\\gestao\\TrabGest/plots/k50/kmedias_k50_SepalLengthCm_PetalWidthCm.png' na mesma pasta do seu notebook.\n",
      "-----------------------------------------------------------------\n",
      "SepalWidthCm PetalLengthCm  dim2  dim3\n",
      "Backend do Matplotlib alterado para 'Agg'. Iniciando a criação do gráfico em memória...\n"
     ]
    },
    {
     "name": "stderr",
     "output_type": "stream",
     "text": [
      "C:\\Users\\Usuario\\AppData\\Local\\Temp\\ipykernel_23524\\706736877.py:35: UserWarning: *c* argument looks like a single numeric RGB or RGBA sequence, which should be avoided as value-mapping will have precedence in case its length matches with *x* & *y*.  Please use the *color* keyword-argument or provide a 2D array with a single row if you intend to specify the same RGB or RGBA value for all points.\n",
      "  plt.scatter(subset[primeira_variavel], subset[segunda_variavel],\n"
     ]
    },
    {
     "name": "stdout",
     "output_type": "stream",
     "text": [
      "-----------------------------------------------------------------\n",
      "SUCESSO! O gráfico foi salvo como 'c:\\Users\\Usuario\\Documents\\ufrj\\gestao\\TrabGest/plots/k50/kmedias_k50_SepalWidthCm_PetalLengthCm.png' na mesma pasta do seu notebook.\n",
      "-----------------------------------------------------------------\n",
      "SepalWidthCm PetalWidthCm  dim2  dim4\n",
      "Backend do Matplotlib alterado para 'Agg'. Iniciando a criação do gráfico em memória...\n"
     ]
    },
    {
     "name": "stderr",
     "output_type": "stream",
     "text": [
      "C:\\Users\\Usuario\\AppData\\Local\\Temp\\ipykernel_23524\\706736877.py:35: UserWarning: *c* argument looks like a single numeric RGB or RGBA sequence, which should be avoided as value-mapping will have precedence in case its length matches with *x* & *y*.  Please use the *color* keyword-argument or provide a 2D array with a single row if you intend to specify the same RGB or RGBA value for all points.\n",
      "  plt.scatter(subset[primeira_variavel], subset[segunda_variavel],\n"
     ]
    },
    {
     "name": "stdout",
     "output_type": "stream",
     "text": [
      "-----------------------------------------------------------------\n",
      "SUCESSO! O gráfico foi salvo como 'c:\\Users\\Usuario\\Documents\\ufrj\\gestao\\TrabGest/plots/k50/kmedias_k50_SepalWidthCm_PetalWidthCm.png' na mesma pasta do seu notebook.\n",
      "-----------------------------------------------------------------\n",
      "PetalLengthCm PetalWidthCm  dim3  dim4\n",
      "Backend do Matplotlib alterado para 'Agg'. Iniciando a criação do gráfico em memória...\n"
     ]
    },
    {
     "name": "stderr",
     "output_type": "stream",
     "text": [
      "C:\\Users\\Usuario\\AppData\\Local\\Temp\\ipykernel_23524\\706736877.py:35: UserWarning: *c* argument looks like a single numeric RGB or RGBA sequence, which should be avoided as value-mapping will have precedence in case its length matches with *x* & *y*.  Please use the *color* keyword-argument or provide a 2D array with a single row if you intend to specify the same RGB or RGBA value for all points.\n",
      "  plt.scatter(subset[primeira_variavel], subset[segunda_variavel],\n"
     ]
    },
    {
     "name": "stdout",
     "output_type": "stream",
     "text": [
      "-----------------------------------------------------------------\n",
      "SUCESSO! O gráfico foi salvo como 'c:\\Users\\Usuario\\Documents\\ufrj\\gestao\\TrabGest/plots/k50/kmedias_k50_PetalLengthCm_PetalWidthCm.png' na mesma pasta do seu notebook.\n",
      "-----------------------------------------------------------------\n"
     ]
    }
   ],
   "source": [
    "for k in range(1, 51):\n",
    "    for i, (iris1, iris2) in enumerate(combinacoes_de_iris):\n",
    "        var1, var2 = combinacoes_de_centroides[i]\n",
    "        print(iris1, iris2, var1, var2)\n",
    "        plotar(k, iris1, iris2, var1, var2)"
   ]
  }
 ],
 "metadata": {
  "kernelspec": {
   "display_name": "geo_env",
   "language": "python",
   "name": "python3"
  },
  "language_info": {
   "codemirror_mode": {
    "name": "ipython",
    "version": 3
   },
   "file_extension": ".py",
   "mimetype": "text/x-python",
   "name": "python",
   "nbconvert_exporter": "python",
   "pygments_lexer": "ipython3",
   "version": "3.9.21"
  }
 },
 "nbformat": 4,
 "nbformat_minor": 5
}
